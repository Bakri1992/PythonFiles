{
 "cells": [
  {
   "cell_type": "markdown",
   "metadata": {},
   "source": [
    "##### List and Method:"
   ]
  },
  {
   "cell_type": "markdown",
   "metadata": {},
   "source": [
    " Notice that the Array and List are not the same."
   ]
  },
  {
   "cell_type": "markdown",
   "metadata": {},
   "source": [
    "###### [1] Lists are ordered we can access the items using the index\n",
    "###### [2] Lists are mutable which means I can add, edit, and delete items(Strings are immutable).\n",
    "###### [3] Lists items are not unique => I can dupliacate items\n",
    "###### [4] Lists can have different data types(That what makes different from an array)\n"
   ]
  },
  {
   "cell_type": "code",
   "execution_count": 42,
   "metadata": {},
   "outputs": [
    {
     "name": "stdout",
     "output_type": "stream",
     "text": [
      "[1, 3, 5]\n",
      "[1, 2, 3, 4, 5, 6, (3+6j), 8, 'one', True]\n",
      "[1, 2, 3, 4, 5, 6, (3+6j), 8, 'one', False]\n",
      "['hi', 'try', (3+6j), 8, 'one', False]\n",
      "<class 'list'>\n"
     ]
    }
   ],
   "source": [
    "# slicing in lists are exactly the same in strings\n",
    "lst=[1,2,3,4,5,6,7,8,\"one\",True]\n",
    "print(lst[0:5:2])\n",
    "# we can edit the items\n",
    "lst[6]=3+6j\n",
    "print(lst)\n",
    "# make the last item False \n",
    "lst[-1]=False\n",
    "print(lst)\n",
    "# Make sure that \n",
    "lst[0:6]=[\"hi\", \"try\"] # Make sure that we did here editing not replacing\n",
    "                       # it means I edited the original list to be [\"hi\",\"try\"]\n",
    "                       # for this reason is my list smaller now\n",
    "print(lst)\n",
    "print(type(lst[0:4])) # This one stills a list\n",
    "\n"
   ]
  },
  {
   "cell_type": "markdown",
   "metadata": {},
   "source": [
    "##### List Method:"
   ]
  },
  {
   "cell_type": "code",
   "execution_count": 21,
   "metadata": {},
   "outputs": [
    {
     "name": "stdout",
     "output_type": "stream",
     "text": [
      "['Bakri', 'Alaa', 'Samer']\n",
      "['Bakri', 'Alaa', 'Samer', 'koko']\n",
      "['Bakri', 'Alaa', 'Samer', 'koko', ['Amira', 'Sami']]\n",
      "Amira\n",
      "['Bakri', 'Alaa', 'Samer', 'Amira', 'Sami']\n",
      "[1, 2, 22, 3, 4, True]\n",
      "[-1, 0, 3, 4, 4, 22, 66, 99]\n",
      "[99, 66, 22, 4, 4, 3, 0, -1]\n",
      "['Omar', 3, 2, 1]\n"
     ]
    }
   ],
   "source": [
    "# append() => add new item to my list\n",
    "myfriends =[\"Bakri\",\"Alaa\",\"Samer\"]\n",
    "print(myfriends)\n",
    "myfriends.append(\"koko\")\n",
    "print(myfriends)\n",
    "# we can append a list to a list but still as one item\n",
    "newlist= [\"Amira\",\"Sami\"]\n",
    "myfriends.append(newlist)\n",
    "print(myfriends)\n",
    "print(myfriends[4][0])\n",
    "\n",
    "# extend() => we use it to add every elemnt in list will be added as item\n",
    "myfriends =[\"Bakri\",\"Alaa\",\"Samer\"]\n",
    "myfriends.extend(newlist)\n",
    "print(myfriends)\n",
    "\n",
    "# remove() => To remove an element form my list(it removes only the first one not duplicated)\n",
    "x=[1,2,22,3,4,True,\"koko\"]\n",
    "x.remove(\"koko\")\n",
    "# I tried x.remove(True) but it does not work\n",
    "print(x)\n",
    "\n",
    "# sort() => Its a list method to sort my values\n",
    "#        => it modifies the original list (Dont mix with sorted() built in function) \n",
    "# sort(reverse=True)  => To print my List in descending order.\n",
    "y=[22,3,-1,0,4,66,4,99]\n",
    "y.sort()\n",
    "print(y)\n",
    "y.sort(reverse=True) # reverse=False by default\n",
    "print(y)\n",
    "\n",
    "# reverse()  => To reverse my list from last to first\n",
    "z=[1,2,3,\"Omar\"]\n",
    "z.reverse()\n",
    "print(z)\n"
   ]
  },
  {
   "cell_type": "markdown",
   "metadata": {},
   "source": [
    "##### List Method:"
   ]
  },
  {
   "cell_type": "code",
   "execution_count": 27,
   "metadata": {},
   "outputs": [
    {
     "name": "stdout",
     "output_type": "stream",
     "text": [
      "[]\n"
     ]
    }
   ],
   "source": [
    "# clear()  => I removes all my elements from my list\n",
    "x=[1,2,3]\n",
    "x.clear()\n",
    "print(x) # it will print me an empty list\n",
    "\n",
    "\n"
   ]
  },
  {
   "cell_type": "markdown",
   "metadata": {},
   "source": [
    "##### Copy Method:\n",
    "######  1. Copy Method is very tricky because we have two kind of copy shallow copy and deep copy\n",
    "######  2. By assiging for instance an empty list to a list it will refer to the same object (memory location) \n",
    "######  3. That means if I edit any of them the edit will affect the other list\n",
    "######  4. Using the copy() method then I will have two different object!(shallow copy)\n",
    "######  5. Whenever we use copy on nested list we will have another senario\n",
    "######  6. In nested list the copy fuction consider the list as item \n",
    "######  7. By doing copy on nested list we will have two different object but the elements inside the item will point to the same object.\n",
    "######  8. we can do deep copy to make even the nested lists whole new object.\n",
    "######  9. In no nested lists shallow copy= deep copy\n",
    "###### 10. They will be different in nested lists."
   ]
  },
  {
   "cell_type": "code",
   "execution_count": 35,
   "metadata": {},
   "outputs": [
    {
     "name": "stdout",
     "output_type": "stream",
     "text": [
      "1592601799424\n",
      "1592601799424\n",
      "['Hund', 'Katze', 'Maus', 'TIger', 'Esel']\n",
      "['Hund', 'Katze', 'Maus', 'TIger', 'Esel']\n",
      "1592601794688\n",
      "1592602462848\n"
     ]
    }
   ],
   "source": [
    "# copy() =>\n",
    "animals=[\"Hund\",\"Katze\",\"Maus\",\"TIger\"]\n",
    "newanimals=animals   # by assigning a list to another we will have the same object\n",
    "newanimals.append(\"Esel\")\n",
    "print(id(animals))\n",
    "print(id(newanimals))\n",
    "print(animals)\n",
    "print(newanimals)\n",
    "x=[1,2,3,4,5,6]\n",
    "y=x.copy()   # Here I will have a different Objects.\n",
    "print(id(x))\n",
    "print(id(y))\n"
   ]
  },
  {
   "cell_type": "code",
   "execution_count": 41,
   "metadata": {},
   "outputs": [
    {
     "name": "stdout",
     "output_type": "stream",
     "text": [
      "1592602461824\n",
      "1592602469248\n",
      "[[1, 2, 3, 4], [5, 6, 7, 8]]\n",
      "[[1, 2, 3, 4], [5, 6, 7, 8]]\n",
      "140713866283480\n",
      "140713866283480\n",
      "[[1, 999, 3, 4], [5, 6, 7, 8]] [[1, 999, 3, 4], [5, 6, 7, 8]]\n",
      "[[1, 999, 3, 4], [5, 6, 7, 8], [100, 200, 300, 400]]\n",
      "[[1, 999, 3, 4], [5, 6, 7, 8]]\n"
     ]
    }
   ],
   "source": [
    "#  copy function with nested lists\n",
    "lst1=[[1,2,3,4],[5,6,7,8]]\n",
    "lst2=lst1.copy()\n",
    "print(id(lst1))\n",
    "print(id(lst2))\n",
    "print(lst1)\n",
    "print(lst2)\n",
    "print(id(lst1[0][1]))\n",
    "print(id(lst2[0][1]))\n",
    "# lets modify an element inside the item\n",
    "lst1[0][1]=999\n",
    "print(lst1,lst2) # we notice that the element was updated in both lists.\n",
    "lst1.append([100,200,300,400])\n",
    "print(lst1) # here new item was added\n",
    "print(lst2) # here no new item was added"
   ]
  },
  {
   "cell_type": "code",
   "execution_count": 50,
   "metadata": {},
   "outputs": [
    {
     "name": "stdout",
     "output_type": "stream",
     "text": [
      "1592602128768\n",
      "1592601676928\n",
      "[[1, 999, 3], [4, 5, 6], [7, 8, 9]] [[1, 2, 3], [4, 5, 6], [7, 8, 9]]\n"
     ]
    }
   ],
   "source": [
    "# Deep copy\n",
    "# we have to import copy\n",
    "import copy\n",
    "lst1=[[1,2,3],[4,5,6],[7,8,9]]\n",
    "lst2= copy.deepcopy(lst1)\n",
    "print(id(lst1))\n",
    "print(id(lst2))\n",
    "lst1[0][1]=999\n",
    "print(lst1,lst2)# we can see here that with deep copy even the element inside the item\n",
    "                # will point to even a different objects."
   ]
  },
  {
   "cell_type": "code",
   "execution_count": 51,
   "metadata": {},
   "outputs": [
    {
     "name": "stdout",
     "output_type": "stream",
     "text": [
      "6\n"
     ]
    }
   ],
   "source": [
    "# count() => To count a given element how much repeated\n",
    "d=[1,2,3,45,1,5,1,1,1,6,7,9,1,2]\n",
    "print(d.count(1))"
   ]
  },
  {
   "cell_type": "code",
   "execution_count": 52,
   "metadata": {},
   "outputs": [
    {
     "name": "stdout",
     "output_type": "stream",
     "text": [
      "2\n"
     ]
    }
   ],
   "source": [
    "# index() => To return the index of an item in a list\n",
    "e=[\"Bakri\",\"Jana\",\"Omar\",\"koko\",\"Samira\",\"Iman\"]\n",
    "print(e.index(\"Omar\"))"
   ]
  },
  {
   "cell_type": "code",
   "execution_count": 57,
   "metadata": {},
   "outputs": [
    {
     "name": "stdout",
     "output_type": "stream",
     "text": [
      "['Abdulkader', 'Bakri', 'Jana', 'Omar', 'koko', 'Samira', 'Iman']\n"
     ]
    },
    {
     "data": {
      "text/plain": [
       "['Abdulkader', 'Bakri', 'Jana', 'Omar', 'koko', 'Samira', 'Iman', 'Amira']"
      ]
     },
     "execution_count": 57,
     "metadata": {},
     "output_type": "execute_result"
    }
   ],
   "source": [
    "#  insert() => To insert an item to the list in before a givin index()\n",
    "e=[\"Bakri\",\"Jana\",\"Omar\",\"koko\",\"Samira\",\"Iman\"]\n",
    "e.insert(0,\"Abdulkader\") # The old item at this index will be shifted to the right\n",
    "print(e)\n",
    "e.insert(len(e),\"Amira\") # It equivalent to append() in this case\n",
    "e\n",
    "e.insert(-1,\"Ahmad\") # before last item the last item will be shifted to the right\n"
   ]
  },
  {
   "cell_type": "code",
   "execution_count": 62,
   "metadata": {},
   "outputs": [
    {
     "name": "stdout",
     "output_type": "stream",
     "text": [
      "['Bakri', 'Jana', 'Omar', 'koko', 'Samira']\n",
      "['Bakri', 'Jana', 'koko', 'Samira']\n"
     ]
    }
   ],
   "source": [
    "# pop() => remove an item at specific index (by default last)\n",
    "e=[\"Bakri\",\"Jana\",\"Omar\",\"koko\",\"Samira\",\"Iman\"]\n",
    "e.pop()\n",
    "print(e)\n",
    "e.pop(2)\n",
    "print(e)"
   ]
  },
  {
   "cell_type": "code",
   "execution_count": null,
   "metadata": {},
   "outputs": [],
   "source": []
  }
 ],
 "metadata": {
  "kernelspec": {
   "display_name": "Python 3",
   "language": "python",
   "name": "python3"
  },
  "language_info": {
   "codemirror_mode": {
    "name": "ipython",
    "version": 3
   },
   "file_extension": ".py",
   "mimetype": "text/x-python",
   "name": "python",
   "nbconvert_exporter": "python",
   "pygments_lexer": "ipython3",
   "version": "3.12.0"
  }
 },
 "nbformat": 4,
 "nbformat_minor": 2
}
