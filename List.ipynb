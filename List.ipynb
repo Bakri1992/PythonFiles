{
 "cells": [
  {
   "cell_type": "markdown",
   "metadata": {},
   "source": [
    "##### List and Method:"
   ]
  },
  {
   "cell_type": "markdown",
   "metadata": {},
   "source": [
    " Notice that the Array and List are not the same."
   ]
  },
  {
   "cell_type": "markdown",
   "metadata": {},
   "source": [
    "##### [1] Lists are ordered we can access the items using the index\n",
    "##### [2] Lists are mutable which means I can add, edit, and delete items(Strings are immutable).\n",
    "##### [3] Lists items are not unique => I can dupliacate items\n",
    "##### [4] Lists can have different data types(That what makes different from an array)\n"
   ]
  },
  {
   "cell_type": "code",
   "execution_count": 20,
   "metadata": {},
   "outputs": [
    {
     "name": "stdout",
     "output_type": "stream",
     "text": [
      "[1, 3, 5]\n",
      "[1, 2, 3, 4, 5, 6, (3+6j), 8, 'one', True]\n",
      "[1, 2, 3, 4, 5, 6, (3+6j), 8, 'one', False]\n",
      "['hi', 'try', (3+6j), 8, 'one', False]\n",
      "<class 'list'>\n"
     ]
    }
   ],
   "source": [
    "# slicing in lists are exactly the same in strings\n",
    "lst=[1,2,3,4,5,6,7,8,\"one\",True]\n",
    "print(lst[0:5:2])\n",
    "# we can edit the items\n",
    "lst[6]=3+6j\n",
    "print(lst)\n",
    "# make the last item False \n",
    "lst[-1]=False\n",
    "print(lst)\n",
    "# Make sure that \n",
    "lst[0:6]=[\"hi\", \"try\"] # Make sure that we did here editing not replacing\n",
    "                       # it means I edited the original list to be [\"hi\",\"try\"]\n",
    "                       # for this reason is my list smaller now\n",
    "print(lst)\n",
    "print(type(lst[0:4])) # This one stills a list\n",
    "\n"
   ]
  },
  {
   "cell_type": "markdown",
   "metadata": {},
   "source": [
    "##### List Method:"
   ]
  },
  {
   "cell_type": "code",
   "execution_count": null,
   "metadata": {},
   "outputs": [],
   "source": []
  }
 ],
 "metadata": {
  "kernelspec": {
   "display_name": "Python 3",
   "language": "python",
   "name": "python3"
  },
  "language_info": {
   "codemirror_mode": {
    "name": "ipython",
    "version": 3
   },
   "file_extension": ".py",
   "mimetype": "text/x-python",
   "name": "python",
   "nbconvert_exporter": "python",
   "pygments_lexer": "ipython3",
   "version": "3.12.0"
  }
 },
 "nbformat": 4,
 "nbformat_minor": 2
}
