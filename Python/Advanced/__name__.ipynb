{
 "cells": [
  {
   "cell_type": "markdown",
   "metadata": {},
   "source": [
    "##### *) **\\_\\_name\\_\\_ and \"\\_\\_main\\_\\_\":**\n",
    "###### - if __name__=\"__main__\"\n",
    "###### - \\_\\_name\\_\\_ => Built in Variable (Python has built-in fucntions and built-in variable)\n",
    "###### - \"__main__\" => Value of the __name__ Variable\n",
    "##### **Executions Methods**:\n",
    "###### - Directly => Execute the Python File using the command line\n",
    "###### - From Import => Import the code from file to another file \n",
    "###### - In some cases you want to know if you are using a module method as import or you use the original python file\n",
    "###### - In direct Mode python assigns a value \"__main__\" to the built in variable __name__ in the Backgroud"
   ]
  },
  {
   "cell_type": "code",
   "execution_count": 4,
   "metadata": {},
   "outputs": [
    {
     "name": "stdout",
     "output_type": "stream",
     "text": [
      "__main__\n"
     ]
    }
   ],
   "source": [
    "print(__name__)"
   ]
  },
  {
   "cell_type": "code",
   "execution_count": 10,
   "metadata": {},
   "outputs": [
    {
     "name": "stdout",
     "output_type": "stream",
     "text": [
      "Fuction from file 1\n"
     ]
    }
   ],
   "source": [
    "import py_one\n",
    "py_one.hello()"
   ]
  },
  {
   "cell_type": "code",
   "execution_count": null,
   "metadata": {},
   "outputs": [],
   "source": []
  }
 ],
 "metadata": {
  "kernelspec": {
   "display_name": "Python 3",
   "language": "python",
   "name": "python3"
  },
  "language_info": {
   "codemirror_mode": {
    "name": "ipython",
    "version": 3
   },
   "file_extension": ".py",
   "mimetype": "text/x-python",
   "name": "python",
   "nbconvert_exporter": "python",
   "pygments_lexer": "ipython3",
   "version": "3.12.0"
  }
 },
 "nbformat": 4,
 "nbformat_minor": 2
}
