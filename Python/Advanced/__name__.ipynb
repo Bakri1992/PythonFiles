{
 "cells": [
  {
   "cell_type": "markdown",
   "metadata": {},
   "source": [
    "##### *) **\\_\\_name\\_\\_ and \"\\_\\_main\\_\\_\":**\n",
    "###### - if __name__=\"__main__\"\n",
    "###### - \\_\\_name\\_\\_ => Built in Variable (Python has built-in fucntions and built-in variable)\n",
    "###### - \"__main__\" => Value of the __name__ Variable\n",
    "##### **Executions Methods**:\n",
    "###### - Directly => Execute the Python File using the command line\n",
    "###### - From Import => Import the code from file to another file \n",
    "###### - In some cases you want to know if you are using a module method as import or you use the original python file\n",
    "###### - In direct Mode python assigns a value \"__main__\" to the built in variable __name__ in the Backgroud"
   ]
  },
  {
   "cell_type": "code",
   "execution_count": 4,
   "metadata": {},
   "outputs": [
    {
     "name": "stdout",
     "output_type": "stream",
     "text": [
      "__main__\n"
     ]
    }
   ],
   "source": [
    "print(__name__)"
   ]
  },
  {
   "cell_type": "code",
   "execution_count": 1,
   "metadata": {},
   "outputs": [
    {
     "ename": "ModuleNotFoundError",
     "evalue": "No module named 'py_one'",
     "output_type": "error",
     "traceback": [
      "\u001b[1;31m---------------------------------------------------------------------------\u001b[0m",
      "\u001b[1;31mModuleNotFoundError\u001b[0m                       Traceback (most recent call last)",
      "Cell \u001b[1;32mIn[1], line 1\u001b[0m\n\u001b[1;32m----> 1\u001b[0m \u001b[38;5;28;01mimport\u001b[39;00m \u001b[38;5;21;01mpy_one\u001b[39;00m\n\u001b[0;32m      2\u001b[0m py_one\u001b[38;5;241m.\u001b[39mhello()\n\u001b[0;32m      3\u001b[0m \u001b[38;5;28mprint\u001b[39m(\u001b[38;5;124m\"\u001b[39m\u001b[38;5;124mwow\u001b[39m\u001b[38;5;124m\"\u001b[39m)\n",
      "\u001b[1;31mModuleNotFoundError\u001b[0m: No module named 'py_one'"
     ]
    }
   ],
   "source": [
    "import py_one\n",
    "py_one.hello()\n",
    "print(\"wow\")"
   ]
  },
  {
   "cell_type": "code",
   "execution_count": null,
   "metadata": {},
   "outputs": [],
   "source": []
  }
 ],
 "metadata": {
  "kernelspec": {
   "display_name": "Python 3",
   "language": "python",
   "name": "python3"
  },
  "language_info": {
   "codemirror_mode": {
    "name": "ipython",
    "version": 3
   },
   "file_extension": ".py",
   "mimetype": "text/x-python",
   "name": "python",
   "nbconvert_exporter": "python",
   "pygments_lexer": "ipython3",
   "version": "3.12.0"
  }
 },
 "nbformat": 4,
 "nbformat_minor": 2
}
