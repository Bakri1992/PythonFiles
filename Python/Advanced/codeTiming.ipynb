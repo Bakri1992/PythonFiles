{
 "cells": [
  {
   "cell_type": "markdown",
   "metadata": {},
   "source": [
    "##### **Timing your Code with timeit:**\n",
    "###### - timeit: Get execution time of code by running 1M time and gives minimal time\n",
    "###### - It used for performance by testing all functionality\n",
    "###### - timit(stmt,setup,timer,number)\n",
    "###### - timeit(pass,pass, default,1.000.000) Default Values\n",
    "###### - stmt: Code youm want to measure the execution time\n",
    "###### - setup: setup done before the code execution (Import Module or Anything)\n",
    "###### - timer: The timer value\n",
    "###### - number: How many execution that will run"
   ]
  },
  {
   "cell_type": "code",
   "execution_count": 6,
   "metadata": {},
   "outputs": [
    {
     "name": "stdout",
     "output_type": "stream",
     "text": [
      "['Timer', '__all__', '__builtins__', '__cached__', '__doc__', '__file__', '__loader__', '__name__', '__package__', '__spec__', '_globals', 'default_number', 'default_repeat', 'default_timer', 'dummy_src_name', 'gc', 'itertools', 'main', 'reindent', 'repeat', 'sys', 'template', 'time', 'timeit']\n"
     ]
    }
   ],
   "source": [
    "# First of all you have to import the timeit module\n",
    "import timeit\n",
    "print(dir(timeit))"
   ]
  },
  {
   "cell_type": "code",
   "execution_count": 22,
   "metadata": {},
   "outputs": [
    {
     "name": "stdout",
     "output_type": "stream",
     "text": [
      "10.273532899998827\n"
     ]
    }
   ],
   "source": [
    "# It will execute 'Elzero *1000' one million times and take the minimum of execution time\n",
    "print(timeit.timeit(\"'Elzero'*100000\"))\n"
   ]
  },
  {
   "cell_type": "code",
   "execution_count": 25,
   "metadata": {},
   "outputs": [
    {
     "name": "stdout",
     "output_type": "stream",
     "text": [
      "0.15739269999903627\n"
     ]
    }
   ],
   "source": [
    "print(timeit.timeit(\"name='Bakri';name*1000\"))"
   ]
  },
  {
   "cell_type": "code",
   "execution_count": 28,
   "metadata": {},
   "outputs": [
    {
     "name": "stdout",
     "output_type": "stream",
     "text": [
      "31\n",
      "0.2814160999987507\n"
     ]
    }
   ],
   "source": [
    "import random\n",
    "print(random.randint(0,50))\n",
    "print(timeit.timeit(stmt=\"random.randint(0,50)\",setup=\"import random\"))\n",
    "# When we run the previous line we will get an error\n",
    "# What is inside the timeit is isolated from the code and dont recognize the random\n",
    "# To solve this problem we have to import wahat we need in the setup\n",
    "# We dont have to import the random module at the beginnig\n"
   ]
  },
  {
   "cell_type": "code",
   "execution_count": 35,
   "metadata": {},
   "outputs": [
    {
     "name": "stdout",
     "output_type": "stream",
     "text": [
      "[0.2960470999823883, 0.2874180999933742, 0.2945833000121638, 0.2945229999895673]\n"
     ]
    }
   ],
   "source": [
    "# We can repeat the test as much as we want \n",
    "# repeat the test 4 times and in every time execute one million times and take min\n",
    "# The answer will be saved in a list\n",
    "print(timeit.repeat(stmt=\"random.randint(0,50)\",setup=\"import random\",repeat=4))"
   ]
  },
  {
   "cell_type": "code",
   "execution_count": null,
   "metadata": {},
   "outputs": [],
   "source": []
  }
 ],
 "metadata": {
  "kernelspec": {
   "display_name": "Python 3",
   "language": "python",
   "name": "python3"
  },
  "language_info": {
   "codemirror_mode": {
    "name": "ipython",
    "version": 3
   },
   "file_extension": ".py",
   "mimetype": "text/x-python",
   "name": "python",
   "nbconvert_exporter": "python",
   "pygments_lexer": "ipython3",
   "version": "3.12.0"
  }
 },
 "nbformat": 4,
 "nbformat_minor": 2
}
