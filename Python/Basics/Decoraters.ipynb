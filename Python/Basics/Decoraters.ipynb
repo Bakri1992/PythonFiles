{
 "cells": [
  {
   "cell_type": "markdown",
   "metadata": {},
   "source": [
    "##### Decorators\n",
    "###### [1] Sometimes called Meta Programming\n",
    "###### [2] Everything in python is object even functions\n",
    "###### [3] Decorator takes a function and add some functionallity and return it \n",
    "###### [4] Decorator wrap other function and enhance their behaviour\n",
    "###### [5] Decorator is higher order function (Function accepts function as parameter)"
   ]
  },
  {
   "cell_type": "code",
   "execution_count": null,
   "metadata": {},
   "outputs": [],
   "source": [
    "def myDecorator(func):  # Decorator acceps function as parameter\n",
    "    def nestedFunc():   # Any Name tis just for Decoration\n",
    "        print(\"Before\") # Message From Decorator \n",
    "        func()          # Execute Function\n",
    "        print(\"After\")  # Message From Decorator\n",
    "    return nestedFunc   # Return All Data"
   ]
  },
  {
   "cell_type": "code",
   "execution_count": null,
   "metadata": {},
   "outputs": [],
   "source": [
    "def sayHello():\n",
    "    print(\"Hello From Say Hello Function\")\n",
    "AfterDecoration=myDecorator(sayHello) # we passed here sayHello as argument\n",
    "AfterDecoration() # we used here() cause my returned value is a function!\n",
    "# Dont use this way its so stupid!\n"
   ]
  },
  {
   "cell_type": "code",
   "execution_count": null,
   "metadata": {},
   "outputs": [],
   "source": [
    "def myDecorator(func): \n",
    "    def nestedFunc():  \n",
    "        print(\"Before\")\n",
    "        func()         \n",
    "        print(\"After\") \n",
    "    return nestedFunc  # we returned here a function not a value\n",
    "@myDecorator # By using @Decorator_name I can call my decorator to sayHello()\n",
    "def sayHello():\n",
    "    print(\"Hello From Say Hello Function\")\n",
    "sayHello()"
   ]
  },
  {
   "cell_type": "code",
   "execution_count": null,
   "metadata": {},
   "outputs": [],
   "source": [
    "@myDecorator\n",
    "def sayhowru():\n",
    "    print(\"How are you babe!\")\n",
    "sayhowru()"
   ]
  },
  {
   "cell_type": "code",
   "execution_count": null,
   "metadata": {},
   "outputs": [],
   "source": [
    "def make_pretty(func):\n",
    "    # define the inner function \n",
    "    def inner():\n",
    "        # add some additional behavior to decorated function\n",
    "        print(\"I got decorated\")\n",
    "\n",
    "        # call original function\n",
    "        func()\n",
    "    # return the inner function\n",
    "    return inner\n",
    "\n",
    "# define ordinary function\n",
    "def ordinary():\n",
    "    print(\"I am ordinary\")\n",
    "    \n",
    "# decorate the ordinary function\n",
    "decorated_func = make_pretty(ordinary)\n",
    "\n",
    "# call the decorated function\n",
    "decorated_func()"
   ]
  },
  {
   "cell_type": "code",
   "execution_count": null,
   "metadata": {},
   "outputs": [],
   "source": [
    "# @ Symbol With Decorator\n",
    "# Instead of assigning the function call to a variable, Python provides a much\n",
    "# more elegant way to achieve this functionality using the @ symbol. For example:\n",
    "def make_pretty(func):\n",
    "\n",
    "    def inner():\n",
    "        print(\"I got decorated\")\n",
    "        func()\n",
    "    return inner\n",
    "\n",
    "@make_pretty\n",
    "def ordinary():\n",
    "    print(\"I am ordinary\")\n",
    "\n",
    "ordinary()  "
   ]
  },
  {
   "cell_type": "markdown",
   "metadata": {},
   "source": [
    "##### Decorators (Function with Parameters):\n",
    "###### The above decorator was simple and it only worked with functions that did not have any parameters. What if we had functions that took in parameters like:"
   ]
  },
  {
   "cell_type": "code",
   "execution_count": null,
   "metadata": {},
   "outputs": [],
   "source": [
    "# Lets define a function with parameters\n",
    "def divide(a,b):\n",
    "    return a/b\n",
    "# This function has two parameters, a and b.\n",
    "# We know it will give an error if we pass in b as 0.\n",
    "# Now let's make a decorator to check for this case that will cause the error.\n",
    "\n"
   ]
  },
  {
   "cell_type": "code",
   "execution_count": 2,
   "metadata": {},
   "outputs": [
    {
     "name": "stdout",
     "output_type": "stream",
     "text": [
      "0.375\n",
      "the denominator is null! The divide cant be done!\n"
     ]
    }
   ],
   "source": [
    "def divide_smart(func):\n",
    "    def inner(a,b):\n",
    "        if(b==0):\n",
    "            print(\"the denominator is null! The divide cant be done!\")\n",
    "            return\n",
    "        func(a,b)\n",
    "    return inner\n",
    "@divide_smart\n",
    "def divide(a,b):\n",
    "    print(a/b)\n",
    "\n",
    "divide(3,8)\n",
    "divide(3,0)\n",
    "# Notice that the parameters we put inside the inner function and then inside func"
   ]
  },
  {
   "cell_type": "markdown",
   "metadata": {},
   "source": [
    "##### Chaining Decorators in Python:\n",
    "###### Multiple decorators can be chained in Python.To chain decorators in Python, we can apply multiple decorators to a single function by placing them one after the other, with the most inner decorator being applied first."
   ]
  },
  {
   "cell_type": "code",
   "execution_count": 1,
   "metadata": {},
   "outputs": [
    {
     "name": "stdout",
     "output_type": "stream",
     "text": [
      "***************\n",
      "%%%%%%%%%%%%%%%\n",
      "Hello\n",
      "%%%%%%%%%%%%%%%\n",
      "***************\n"
     ]
    }
   ],
   "source": [
    "def star(func):\n",
    "    def inner(*args, **kwargs):\n",
    "        print(\"*\" * 15)\n",
    "        func(*args, **kwargs)\n",
    "        print(\"*\" * 15)\n",
    "    return inner\n",
    "\n",
    "\n",
    "def percent(func):\n",
    "    def inner(*args, **kwargs):\n",
    "        print(\"%\" * 15)\n",
    "        func(*args, **kwargs)\n",
    "        print(\"%\" * 15)\n",
    "    return inner\n",
    "\n",
    "\n",
    "@star\n",
    "@percent\n",
    "def printer(msg):\n",
    "    print(msg)\n",
    "\n",
    "printer(\"Hello\")"
   ]
  },
  {
   "cell_type": "code",
   "execution_count": null,
   "metadata": {},
   "outputs": [],
   "source": [
    "# The above syntax of\n",
    "@star\n",
    "@percent\n",
    "def printer(msg):\n",
    "    print(msg)\n",
    "\n",
    "# is equivalent to\n",
    "    def printer(msg):\n",
    "        print(msg)\n",
    "printer = star(percent(printer))"
   ]
  },
  {
   "cell_type": "markdown",
   "metadata": {},
   "source": [
    "###### The order in which we chain decorators matter. If we had reversed the order as,\n",
    "\n"
   ]
  },
  {
   "cell_type": "code",
   "execution_count": null,
   "metadata": {},
   "outputs": [],
   "source": [
    "@percent\n",
    "@star\n",
    "def printer(msg):\n",
    "    print(msg)\n",
    "# output\n",
    "# %%%%%%%%%%%%%%%\n",
    "# ***************\n",
    "# Hello\n",
    "# ***************\n",
    "# %%%%%%%%%%%%%%%"
   ]
  },
  {
   "cell_type": "code",
   "execution_count": null,
   "metadata": {},
   "outputs": [],
   "source": [
    "# Decorators => Practical Speed Test \n",
    "# To make a Decorator reusable we do make the parameter as *x (0 or many args)\n",
    "from time import time\n",
    "def speedTest(func):\n",
    "    def wrapper():\n",
    "        start=time()\n",
    "        func()\n",
    "        end=time()\n",
    "        print(f\"Function Runtime is: {end -start} \")\n",
    "    return wrapper\n",
    "@speedTest\n",
    "def bigLoop():\n",
    "    for number in range(1,20000):\n",
    "        print(number)\n",
    "bigLoop()"
   ]
  },
  {
   "cell_type": "markdown",
   "metadata": {},
   "source": [
    "##### Schafer Video tutorial:\n",
    "#"
   ]
  },
  {
   "cell_type": "code",
   "execution_count": null,
   "metadata": {},
   "outputs": [],
   "source": [
    "def outer_function():\n",
    "    message=\"hi\"\n",
    "    def inner_function():\n",
    "        print(message)\n",
    "    return inner_function()\n",
    "outer_function()\n",
    "# Here when I call outer_function\n",
    "# It assigns \"hi\" to the variable message\n",
    "# define function called inner_function\n",
    "# execute the function inner_function and return it"
   ]
  },
  {
   "cell_type": "code",
   "execution_count": null,
   "metadata": {},
   "outputs": [],
   "source": [
    "# Lets return the function without executing it!\n",
    "def outer_function():\n",
    "    message=\"hi\"\n",
    "    def inner_function():\n",
    "        print(message)\n",
    "    return inner_function\n",
    "my_func=outer_function() \n",
    "# we assigned my function to a variable.\n",
    "# its gonna be my function waiting to be execute it.\n",
    "# We can execute the function \n",
    "my_func()"
   ]
  },
  {
   "cell_type": "code",
   "execution_count": null,
   "metadata": {},
   "outputs": [],
   "source": [
    "def outer_function(msg):\n",
    "    message=msg\n",
    "    def inner_function():\n",
    "        print(message)\n",
    "    return inner_function\n",
    "hi_func=outer_function(\"Hi\")  # its my function ready to be executed\n",
    "bye_func=outer_function(\"Bye\")# its my function ready to be executed\n",
    "hi_func()\n",
    "bye_func()"
   ]
  },
  {
   "cell_type": "code",
   "execution_count": null,
   "metadata": {},
   "outputs": [],
   "source": [
    "def deco_f(original_f):\n",
    "    def wrapper_function():\n",
    "        original_f()\n",
    "    return wrapper_function\n",
    "@deco_f\n",
    "def display():\n",
    "    print(\"display function ran\")\n",
    "display()"
   ]
  },
  {
   "cell_type": "code",
   "execution_count": null,
   "metadata": {},
   "outputs": [],
   "source": [
    "# What if I want to add arguments to my function that wanted to be decorated\n",
    "# Best Practise: => Use *args & **kwargs (0 or many args)\n",
    "def deco_f(original_f):\n",
    "    def wrapper_function(*args,**kwargs):\n",
    "        original_f(*args,**kwargs)\n",
    "    return wrapper_function\n",
    "@deco_f\n",
    "def display_info(name,age):\n",
    "    print(f\"my name is {name} and my age is {age}\")\n",
    "display_info(\"Bakri\",31)"
   ]
  },
  {
   "cell_type": "code",
   "execution_count": null,
   "metadata": {},
   "outputs": [],
   "source": []
  }
 ],
 "metadata": {
  "kernelspec": {
   "display_name": "Python 3",
   "language": "python",
   "name": "python3"
  },
  "language_info": {
   "codemirror_mode": {
    "name": "ipython",
    "version": 3
   },
   "file_extension": ".py",
   "mimetype": "text/x-python",
   "name": "python",
   "nbconvert_exporter": "python",
   "pygments_lexer": "ipython3",
   "version": "3.12.0"
  }
 },
 "nbformat": 4,
 "nbformat_minor": 2
}
