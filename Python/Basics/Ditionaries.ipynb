{
 "cells": [
  {
   "cell_type": "markdown",
   "metadata": {},
   "source": [
    "##### **Dictionary:**\n",
    "###### [1] Dict items are enclosed in curly Braces\n",
    "###### [2] Dict items contain Key : Value\n",
    "###### [3] Dict key needs to be immutable => (Number, string, Tuple) List not allowed\n",
    "###### [4] Dict Value can have any Data Types\n",
    "###### [5] Dict Key need to be unique\n",
    "###### [6] Dict is not ordered You access items using keys"
   ]
  },
  {
   "cell_type": "code",
   "execution_count": null,
   "metadata": {},
   "outputs": [],
   "source": [
    "user ={\n",
    "    \"name\":\"Bakri\",\n",
    "    \"Age\":\"31\",\n",
    "    \"country\":\"Syria\"\n",
    "    \"skills\":[\"C++\",\"Python\",\"R\",\"Linux commands\",\"Docker\",\"Database\"]\n",
    "    }"
   ]
  },
  {
   "cell_type": "code",
   "execution_count": null,
   "metadata": {},
   "outputs": [],
   "source": [
    "# Dict Key need to be unique\n",
    "user ={\n",
    "    \"name\":\"Bakri\",\n",
    "    \"Age\":\"31\",\n",
    "    \"country\":\"Syria\",\n",
    "    \"skills\": [\"C++\",\"Python\",\"R\",\"Linux commands\",\"Docker\",\"Database\"],\n",
    "    \"name\":\"Sami\"\n",
    "    }\n",
    "# Notice here the interpreter will take the last name key and ignore the rest of them!\n",
    "# Python understands here that my name key was updated\n",
    "user"
   ]
  },
  {
   "cell_type": "code",
   "execution_count": null,
   "metadata": {},
   "outputs": [],
   "source": [
    "# We access the Values in my Dict using keys\n",
    "print(user[\"name\"])\n",
    "print(user[\"Age\"])\n",
    "print(user[\"country\"])\n",
    "print(user[\"skills\"])\n",
    "print(\"=\"*30)\n",
    "# we can use here the get Metod as well\n",
    "print(user.get(\"name\")) \n"
   ]
  },
  {
   "cell_type": "code",
   "execution_count": null,
   "metadata": {},
   "outputs": [],
   "source": [
    "# Print all Keys\n",
    "print(user.keys())\n",
    "# Print all  Values\n",
    "print(user.values())"
   ]
  },
  {
   "cell_type": "code",
   "execution_count": null,
   "metadata": {},
   "outputs": [],
   "source": [
    "# Two-Dimensional Dict(nested)\n",
    "languages={\n",
    "    \"one\":{\"name\":\"C++\",\"progress\":\"50%\"},\n",
    "    \"two\":{\"name\":\"Python\",\"progress\":\"80%\"},\n",
    "    \"three\":{\"name\":\"R\",\"progress\":\"30%\"}\n",
    "}\n",
    "# We put here Dicts as values    \n",
    "# How to access nested Dicts\n",
    "print(languages[\"one\"][\"progress\"])\n",
    "print(languages[\"two\"][\"name\"])\n",
    "\n",
    "# we can use len() to know how many elements\n",
    "print(len(languages)) # how many elements inside the Dict\n",
    "print(len(languages[\"one\"])) # How many values inside my key \"one\"\n"
   ]
  },
  {
   "cell_type": "code",
   "execution_count": null,
   "metadata": {},
   "outputs": [],
   "source": [
    "# Creating a Dict from already existing Dicts\n",
    "frameWorkone={\"name\":\"C++\",\"Progress\":\"60%\"}\n",
    "frameWorktwo={\"name\":\"Python\",\"Progress\":\"70%\"}\n",
    "frameWorkthree={\"name\":\"R\",\"Progress\":\"30%\"}\n",
    "allFramework={\n",
    "    \"one\":frameWorkone ,\n",
    "    \"two\":frameWorktwo ,\n",
    "    \"three\":frameWorkthree\n",
    "}\n",
    "print(allFramework)"
   ]
  },
  {
   "cell_type": "markdown",
   "metadata": {},
   "source": [
    "##### **Dictionary Methods:**"
   ]
  },
  {
   "cell_type": "code",
   "execution_count": 1,
   "metadata": {},
   "outputs": [
    {
     "name": "stdout",
     "output_type": "stream",
     "text": [
      "None\n"
     ]
    }
   ],
   "source": [
    "# clear() => To clear all Data inside my Dict\n",
    "user ={\n",
    "    \"name\":\"Bakri\",\n",
    "    \"Age\":\"31\",\n",
    "    \"country\":\"Syria\",\n",
    "    \"skills\":[\"C++\",\"Python\",\"R\",\"Linux commands\",\"Docker\",\"Database\"]\n",
    "    }\n",
    "print(user.clear())\n",
    "    "
   ]
  },
  {
   "cell_type": "code",
   "execution_count": 7,
   "metadata": {},
   "outputs": [
    {
     "name": "stdout",
     "output_type": "stream",
     "text": [
      "{'name': 'Bakri', 'Age': 31}\n",
      "{'name': 'Bakri', 'Age': 31, 'Skills': ['C++', 'Python', 'R']}\n"
     ]
    }
   ],
   "source": [
    "# update()  => Add items to my Dict\n",
    "# I can easily add elements to my Dict \n",
    "member={\"name\":\"Bakri\"}\n",
    "member[\"Age\"]=31\n",
    "print(member)\n",
    "# Lets update using the update method\n",
    "member.update({\"Skills\":[\"C++\",\"Python\",\"R\"]})\n",
    "print(member)"
   ]
  },
  {
   "cell_type": "code",
   "execution_count": 8,
   "metadata": {},
   "outputs": [
    {
     "name": "stdout",
     "output_type": "stream",
     "text": [
      "2626607853632\n",
      "2626608016128\n"
     ]
    }
   ],
   "source": [
    "# copy() => Same idea as before(shallow copy)\n",
    "member  ={\"name\":\"Bakri\"}\n",
    "cpmember = member.copy()\n",
    "print(id(member))\n",
    "print(id(cpmember))\n"
   ]
  },
  {
   "cell_type": "code",
   "execution_count": 9,
   "metadata": {},
   "outputs": [
    {
     "name": "stdout",
     "output_type": "stream",
     "text": [
      "{'name': 'Bakri'}\n",
      "21\n"
     ]
    }
   ],
   "source": [
    "# setdefault() => To put set value to a giving Key\n",
    "member={\"name\":\"Bakri\"}\n",
    "print(member)\n",
    "print(member.setdefault(\"Age\",21)) \n",
    "# it will check if there a value in my Dict will return it\n",
    "# Otherwise the default value will be returned\n",
    "# it takes two arguments (key,value)\n"
   ]
  },
  {
   "cell_type": "code",
   "execution_count": 22,
   "metadata": {},
   "outputs": [
    {
     "name": "stdout",
     "output_type": "stream",
     "text": [
      "{'name': 'Bakri', 'Country': 'Syria', 'Age': 21}\n",
      "('Age', 21)\n",
      "{'Country': 'Syria'}\n",
      "Bakri\n"
     ]
    }
   ],
   "source": [
    "# popitem()  => It removes the last item from my Dict and return it as result of my method\n",
    "member={\"name\":\"Bakri\",\"Country\":\"Syria\"}\n",
    "member.update({\"Age\":21})\n",
    "print(member)\n",
    "print(member.popitem())\n",
    "# pop()  =>  # it removes the item I give its key and return its value as result of the method\n",
    "             # it takes two parameters dictionary.pop(keyname, defaultvalue)\n",
    "x=member.pop(\"name\",\"Im a default value\")\n",
    "print(member)\n",
    "print(x)"
   ]
  },
  {
   "cell_type": "code",
   "execution_count": 23,
   "metadata": {},
   "outputs": [
    {
     "data": {
      "text/plain": [
       "dict_items([('name', 'Bakri'), ('Country', 'Syria')])"
      ]
     },
     "execution_count": 23,
     "metadata": {},
     "output_type": "execute_result"
    }
   ],
   "source": [
    "# items() => returns all my keys and value\n",
    "member={\"name\":\"Bakri\",\"Country\":\"Syria\"}\n",
    "member.items()"
   ]
  },
  {
   "cell_type": "code",
   "execution_count": 30,
   "metadata": {},
   "outputs": [
    {
     "name": "stdout",
     "output_type": "stream",
     "text": [
      "{'name 1': 1, 'name 2': 1, 'name 3': 1}\n"
     ]
    }
   ],
   "source": [
    "# fromkeys() => look google\n",
    "# lets define two tuples\n",
    "t1=(\"name 1\",\"name 2\",\"name 3\")\n",
    "t2=1\n",
    "print(dict.fromkeys(t1,t2))\n"
   ]
  },
  {
   "cell_type": "markdown",
   "metadata": {},
   "source": [
    "##### Loop with Dictionaries"
   ]
  },
  {
   "cell_type": "code",
   "execution_count": 1,
   "metadata": {},
   "outputs": [
    {
     "name": "stdout",
     "output_type": "stream",
     "text": [
      "Osama Skills Is: \n",
      "- Html\n",
      "- Css\n",
      "- Js\n",
      "Ahmed Skills Is: \n",
      "- Html\n",
      "- Css\n",
      "- Js\n",
      "Sayed Skills Is: \n",
      "- Html\n",
      "- Css\n",
      "- Js\n",
      "Ali Skills Is: \n",
      "- Html\n",
      "- Css\n",
      "- Js\n",
      "{'Html': '70%', 'Css': '80%', 'Js': '70%'}\n",
      "{'Html': '90%', 'Css': '80%', 'Js': '90%'}\n",
      "{'Html': '70%', 'Css': '60%', 'Js': '90%'}\n",
      "80%\n",
      "80%\n",
      "60%\n",
      "Skills and Progress For Osama Is: \n",
      "HTML => 70%\n",
      "CSS => 80%\n",
      "JS => 70%\n",
      "Skills and Progress For Ahmed Is: \n",
      "HTML => 90%\n",
      "CSS => 80%\n",
      "JS => 90%\n",
      "Skills and Progress For Sayed Is: \n",
      "HTML => 70%\n",
      "CSS => 60%\n",
      "JS => 90%\n"
     ]
    }
   ],
   "source": [
    "# -----------------\n",
    "# -- Loop => For --\n",
    "# -- Nested Loop --\n",
    "# -----------------\n",
    "\n",
    "peoples = [\"Osama\", \"Ahmed\", \"Sayed\", \"Ali\"]\n",
    "\n",
    "skills = ['Html', 'Css', 'Js']\n",
    "\n",
    "for name in peoples:  # Outer Loop\n",
    "\n",
    "  print(f\"{name} Skills Is: \")\n",
    "\n",
    "  for skill in skills:  # Inner Loop\n",
    "\n",
    "    print(f\"- {skill}\")\n",
    "\n",
    "# Dictionary\n",
    "\n",
    "peoples = {\n",
    "  \"Osama\": {\n",
    "    \"Html\": \"70%\",\n",
    "    \"Css\": \"80%\",\n",
    "    \"Js\": \"70%\"\n",
    "  },\n",
    "  \"Ahmed\": {\n",
    "    \"Html\": \"90%\",\n",
    "    \"Css\": \"80%\",\n",
    "    \"Js\": \"90%\"\n",
    "  },\n",
    "  \"Sayed\": {\n",
    "    \"Html\": \"70%\",\n",
    "    \"Css\": \"60%\",\n",
    "    \"Js\": \"90%\"\n",
    "  }\n",
    "}\n",
    "\n",
    "print(peoples[\"Osama\"])\n",
    "print(peoples[\"Ahmed\"])\n",
    "print(peoples[\"Sayed\"])\n",
    "\n",
    "print(peoples[\"Osama\"]['Css'])\n",
    "print(peoples[\"Ahmed\"]['Css'])\n",
    "print(peoples[\"Sayed\"]['Css'])\n",
    "\n",
    "for name in peoples:\n",
    "\n",
    "  print(f\"Skills and Progress For {name} Is: \")\n",
    "\n",
    "  for skill in peoples[name]:\n",
    "\n",
    "    print(f\"{skill.upper()} => {peoples[name][skill]}\")"
   ]
  },
  {
   "cell_type": "code",
   "execution_count": 2,
   "metadata": {},
   "outputs": [
    {
     "name": "stdout",
     "output_type": "stream",
     "text": [
      "dict_items([('HTML', '80%'), ('CSS', '90%'), ('JS', '70%'), ('PHP', '80%')])\n",
      "HTML => 80%\n",
      "CSS => 90%\n",
      "JS => 70%\n",
      "PHP => 80%\n",
      "HTML => 80%\n",
      "CSS => 90%\n",
      "JS => 70%\n",
      "PHP => 80%\n",
      "HTML Progress Is: \n",
      "- Main => 80%\n",
      "- Pugjs => 80%\n",
      "CSS Progress Is: \n",
      "- Main => 90%\n",
      "- Sass => 70%\n"
     ]
    }
   ],
   "source": [
    "# ------------------------------\n",
    "# -- Advanced Dictionary Loop --\n",
    "# ------------------------------\n",
    "\n",
    "mySkills = {\n",
    "  \"HTML\": \"80%\",\n",
    "  \"CSS\": \"90%\",\n",
    "  \"JS\": \"70%\",\n",
    "  \"PHP\": \"80%\"\n",
    "}\n",
    "\n",
    "print(mySkills.items())\n",
    "\n",
    "#######################\n",
    "\n",
    "for skill in mySkills:\n",
    "\n",
    "  print(f\"{skill} => {mySkills[skill]}\")\n",
    "\n",
    "#######################\n",
    "\n",
    "for skill_key, skill_progress in mySkills.items():\n",
    "\n",
    "  print(f\"{skill_key} => {skill_progress}\")\n",
    "\n",
    "#######################\n",
    "\n",
    "myUltimateSkills = {\n",
    "  \"HTML\": {\n",
    "    \"Main\": \"80%\",\n",
    "    \"Pugjs\": \"80%\"\n",
    "  },\n",
    "  \"CSS\": {\n",
    "    \"Main\": \"90%\",\n",
    "    \"Sass\": \"70%\"\n",
    "  }\n",
    "}\n",
    "\n",
    "for main_key, main_value in myUltimateSkills.items():\n",
    "\n",
    "  print(f\"{main_key} Progress Is: \")\n",
    "\n",
    "  for child_key, child_value in main_value.items():\n",
    "\n",
    "    print(f\"- {child_key} => {child_value}\")"
   ]
  },
  {
   "cell_type": "code",
   "execution_count": null,
   "metadata": {},
   "outputs": [],
   "source": []
  }
 ],
 "metadata": {
  "kernelspec": {
   "display_name": "Python 3",
   "language": "python",
   "name": "python3"
  },
  "language_info": {
   "codemirror_mode": {
    "name": "ipython",
    "version": 3
   },
   "file_extension": ".py",
   "mimetype": "text/x-python",
   "name": "python",
   "nbconvert_exporter": "python",
   "pygments_lexer": "ipython3",
   "version": "3.12.0"
  }
 },
 "nbformat": 4,
 "nbformat_minor": 2
}
