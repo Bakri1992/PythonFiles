{
 "cells": [
  {
   "cell_type": "markdown",
   "metadata": {},
   "source": [
    "##### Errors and Exceptions Raising:\n",
    "###### [1] Exception is a runtime error reporting mechanism.\n",
    "###### [2] Exception gives you the message to understand the Problem.\n",
    "###### [3] Traceback gives you the line to check the code in it.\n",
    "###### [4] Exceptions have types (synataxerrorm, indexerror, keyerror,etc... )\n",
    "###### [5] Exception list https://docs.python.org/3/library/exceptions.html\n",
    "###### [6] raise keyword is used to raise your own exception(make your own exception)."
   ]
  },
  {
   "cell_type": "code",
   "execution_count": null,
   "metadata": {},
   "outputs": [],
   "source": [
    "# Lets raise our own exception\n",
    "x=int(input(\"Please enter a number?\"))\n",
    "if x<0:\n",
    "    #using the raise Exception(exception_message) I can create my own Exception!\n",
    "    raise Exception(f\"The Number {x} is less than Zero!\")\n",
    "else:\n",
    "    print(\"The Number is above 0\")\n",
    "print(\"I love programming!\")# If my number negative this will not be printed \n",
    "# Whenever I have excetion my programm will stop there!"
   ]
  },
  {
   "cell_type": "code",
   "execution_count": null,
   "metadata": {},
   "outputs": [],
   "source": [
    "# Another Example:\n",
    "y=\"Osama\"\n",
    "if type(y)!=int:\n",
    "    raise ValueError(\"Only Number allowed\") # I can specify the type of error\n",
    "print(\"I Love eating dinner with my darling\")"
   ]
  },
  {
   "cell_type": "markdown",
   "metadata": {},
   "source": [
    "##### Try, Except, Else, Finally:"
   ]
  },
  {
   "cell_type": "code",
   "execution_count": null,
   "metadata": {},
   "outputs": [],
   "source": [
    "# number=int(input(\"Write your age\"))\n",
    "# Imagine I entered a word => I will get valueError \n",
    "# try    => Test the code \n",
    "# except => if try was not successful handle the Error! \n",
    "# else   => If no errors\n",
    "# finally=> run whatever it happens.\n",
    "try: # Try the code \n",
    "    number=int(input(\"Write your age\"))\n",
    "except:\n",
    "    print(\"This is Not Integer\")\n",
    "else: # if there is no errors\n",
    "    print(\"You entered an Integer!\")# sometimes we dont need else we can write this \n",
    "                                    # line of code in my try scope.\n",
    "finally: # it will be run whatever it happens\n",
    "    print(\"Print from finally whatever it happens\")\n"
   ]
  },
  {
   "cell_type": "code",
   "execution_count": null,
   "metadata": {},
   "outputs": [],
   "source": [
    "# Another Example\n",
    "try:\n",
    "    print(my_identifier)\n",
    "except:\n",
    "    print(\"Cant divide on zero!\")\n",
    "# Its so stupid that here my error and the message dont match\n",
    "# To solve this problem I can specify my error!\n"
   ]
  },
  {
   "cell_type": "code",
   "execution_count": null,
   "metadata": {},
   "outputs": [],
   "source": [
    "# Lets specify my errors\n",
    "try:\n",
    "    print(int(\"Hallo\"))\n",
    "except ZeroDivisionError:\n",
    "    print(\"Cant divide on zero!\")\n",
    "except NameError:\n",
    "    print(\"Identifier Not found!\")\n",
    "except: # This is generall error except ZeroDivisionError and NameError\n",
    "    print(\"Error happend\")"
   ]
  },
  {
   "cell_type": "code",
   "execution_count": 20,
   "metadata": {},
   "outputs": [],
   "source": [
    "# Advanced Example\n",
    "# -----------------------------------\n",
    "# --      Exceptions Handling      --\n",
    "# -- Try | Except | Else | Finally --\n",
    "# --       Advanced Example        --\n",
    "# -----------------------------------\n",
    "\n",
    "the_file = None\n",
    "\n",
    "the_tries = 5\n",
    "\n",
    "while the_tries > 0:\n",
    "\n",
    "  try:  # Try To Open The File\n",
    "\n",
    "    print(\"Enter The File Name With Absolute Path To Open\")\n",
    "\n",
    "    print(f\"You Have {the_tries} Tries Left\")\n",
    "\n",
    "    print(\"Example: D:\\Python\\Files\\yourfile.extension\")\n",
    "\n",
    "    file_name_and_path = input(\"File Name => : \").strip()\n",
    "\n",
    "    the_file = open(file_name_and_path, 'r')\n",
    "\n",
    "    print(the_file.read())\n",
    "\n",
    "    break\n",
    "\n",
    "  except FileNotFoundError:\n",
    "\n",
    "    print(\"File Not Found Please Be Sure The Name is Valid\")\n",
    "\n",
    "    the_tries -= 1\n",
    "\n",
    "  except:\n",
    "\n",
    "    print(\"Error Happen\")\n",
    "\n",
    "  finally:\n",
    "\n",
    "    if the_file is not None:# whenever its None it means no file founded yet!\n",
    "                            # I want this to be executed when my file is founded\n",
    "\n",
    "      the_file.close()\n",
    "\n",
    "      print(\"File Closed.\")\n",
    "\n",
    "else:\n",
    "\n",
    "  print(\"All Tries Is Done\")"
   ]
  },
  {
   "cell_type": "code",
   "execution_count": null,
   "metadata": {},
   "outputs": [],
   "source": []
  }
 ],
 "metadata": {
  "kernelspec": {
   "display_name": "Python 3",
   "language": "python",
   "name": "python3"
  },
  "language_info": {
   "codemirror_mode": {
    "name": "ipython",
    "version": 3
   },
   "file_extension": ".py",
   "mimetype": "text/x-python",
   "name": "python",
   "nbconvert_exporter": "python",
   "pygments_lexer": "ipython3",
   "version": "3.12.0"
  }
 },
 "nbformat": 4,
 "nbformat_minor": 2
}
