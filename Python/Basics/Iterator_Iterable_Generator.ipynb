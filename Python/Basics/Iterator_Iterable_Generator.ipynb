{
 "cells": [
  {
   "cell_type": "markdown",
   "metadata": {},
   "source": [
    "##### What is the difference between iterable & iterator?"
   ]
  },
  {
   "cell_type": "markdown",
   "metadata": {},
   "source": [
    "##### Iterable:\n",
    "###### [1] Object contains Data that can be iterated \n",
    "###### [2] Examples(String, List, Set, Tuple, Dictionary)"
   ]
  },
  {
   "cell_type": "markdown",
   "metadata": {},
   "source": [
    "##### Iterator:\n",
    "###### [1] Object used to iterate over iterable using next() method return 1 at a time\n",
    "###### [2] You can generate iterator from iterable when using iter() Method\n",
    "###### [3] For loop already calls iter() method on iterable behind the scene\n",
    "###### [4] Gives \"StopIteration\" if there is no next element"
   ]
  },
  {
   "cell_type": "code",
   "execution_count": null,
   "metadata": {},
   "outputs": [],
   "source": [
    "# next() needs iterator!\n",
    "# To turn an iterable into iterator we use iter()\n",
    "myString=\"Bakri\"\n",
    "myiterator=iter(myString)\n",
    "print(type(myiterator))\n",
    "print(next(myiterator)) #B\n",
    "print(next(myiterator)) #a\n",
    "print(next(myiterator)) #k\n",
    "print(next(myiterator)) #r\n",
    "print(next(myiterator)) #i\n",
    "# print(next(myiterator)) # Here will be printed StopIteration cause no next!"
   ]
  },
  {
   "cell_type": "code",
   "execution_count": null,
   "metadata": {},
   "outputs": [],
   "source": [
    "for letter in \"Bakri\":\n",
    "    print(letter)\n",
    "for letter in iter(\"Bakri\"):\n",
    "    print(letter)\n",
    "# We notice that python when using loop generate iterator on my iterable object!\n",
    "# There are both the same!"
   ]
  },
  {
   "cell_type": "markdown",
   "metadata": {},
   "source": [
    "##### Generators:\n",
    "###### [1] Generator is a function with \"yield\" keyword instead of \"return\"\n",
    "###### [2] It supports iterations and return generator Iterator by calling \"yield\"\n",
    "###### [3] Generator function can have one or more \"yield\"\n",
    "###### [4] By using next() it resume from where it called \"yield\" not from Beginning\n",
    "###### [5] When called, it doesnt start automatically, it gives you only the control"
   ]
  },
  {
   "cell_type": "code",
   "execution_count": 2,
   "metadata": {},
   "outputs": [
    {
     "name": "stdout",
     "output_type": "stream",
     "text": [
      "<generator object myGenerator at 0x00000207A97641A0>\n"
     ]
    }
   ],
   "source": [
    "def myGenerator():\n",
    "    yield 1\n",
    "    yield 2\n",
    "    yield 3\n",
    "    yield 4\n",
    "print(myGenerator()) # Whenever I use yield its a generator!"
   ]
  },
  {
   "cell_type": "code",
   "execution_count": 3,
   "metadata": {},
   "outputs": [
    {
     "name": "stdout",
     "output_type": "stream",
     "text": [
      "1\n",
      "2\n",
      "3\n",
      "4\n"
     ]
    }
   ],
   "source": [
    "myGen=myGenerator()\n",
    "print(next(myGen))\n",
    "print(next(myGen))\n",
    "print(next(myGen))\n",
    "print(next(myGen))"
   ]
  },
  {
   "cell_type": "code",
   "execution_count": 4,
   "metadata": {},
   "outputs": [],
   "source": [
    "for number in myGen:\n",
    "    print(number)# It will not print here anything cause no elements left inside.\n",
    "                 # It starts where it stopped!"
   ]
  },
  {
   "cell_type": "markdown",
   "metadata": {},
   "source": [
    "##### Generator Example:"
   ]
  },
  {
   "cell_type": "code",
   "execution_count": 5,
   "metadata": {},
   "outputs": [
    {
     "name": "stdout",
     "output_type": "stream",
     "text": [
      "[1, 4, 9, 16, 25, 36]\n"
     ]
    }
   ],
   "source": [
    "def square_numbers(nums):\n",
    "    result=[]\n",
    "    for i in nums:\n",
    "        result.append(i*i)\n",
    "    return result\n",
    "my_nums=square_numbers([1,2,3,4,5,6]) # I am passing a list as parameter\n",
    "print(my_nums)\n",
    "\n"
   ]
  },
  {
   "cell_type": "code",
   "execution_count": 11,
   "metadata": {},
   "outputs": [
    {
     "name": "stdout",
     "output_type": "stream",
     "text": [
      "<generator object square_numbers at 0x00000207A97AB440>\n",
      "1\n",
      "4\n",
      "9\n",
      "16\n",
      "25\n",
      "36\n"
     ]
    }
   ],
   "source": [
    "# How would we convert this to be a generator\n",
    "def square_numbers(nums):\n",
    "    for i in nums:\n",
    "        yield i*i\n",
    "my_nums=square_numbers([1,2,3,4,5,6])\n",
    "print(my_nums)\n",
    "print(next(my_nums))\n",
    "print(next(my_nums))\n",
    "print(next(my_nums))\n",
    "print(next(my_nums))\n",
    "print(next(my_nums))\n",
    "print(next(my_nums))\n",
    "# print(next(my_nums))  # Here we get error StopIteration\n"
   ]
  },
  {
   "cell_type": "markdown",
   "metadata": {},
   "source": [
    "##### Generators dont store the entire result in memory it yields one result at a time!"
   ]
  },
  {
   "cell_type": "code",
   "execution_count": 12,
   "metadata": {},
   "outputs": [
    {
     "name": "stdout",
     "output_type": "stream",
     "text": [
      "1\n",
      "4\n",
      "9\n",
      "16\n",
      "25\n",
      "36\n"
     ]
    }
   ],
   "source": [
    "# To avoid having this kind of errors its recommended to use loop with generators\n",
    "def square_numbers(nums):\n",
    "    for i in nums:\n",
    "        yield i*i\n",
    "my_nums=square_numbers([1,2,3,4,5,6])\n",
    "for num in my_nums:\n",
    "    print(num)"
   ]
  },
  {
   "cell_type": "code",
   "execution_count": null,
   "metadata": {},
   "outputs": [],
   "source": []
  }
 ],
 "metadata": {
  "kernelspec": {
   "display_name": "Python 3",
   "language": "python",
   "name": "python3"
  },
  "language_info": {
   "codemirror_mode": {
    "name": "ipython",
    "version": 3
   },
   "file_extension": ".py",
   "mimetype": "text/x-python",
   "name": "python",
   "nbconvert_exporter": "python",
   "pygments_lexer": "ipython3",
   "version": "3.12.0"
  }
 },
 "nbformat": 4,
 "nbformat_minor": 2
}
