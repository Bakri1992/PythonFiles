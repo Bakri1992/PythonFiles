{
 "cells": [
  {
   "cell_type": "markdown",
   "metadata": {},
   "source": [
    "###### How to know the reserved word in Python?"
   ]
  },
  {
   "cell_type": "code",
   "execution_count": null,
   "metadata": {},
   "outputs": [],
   "source": [
    "help(\"keywords\")"
   ]
  },
  {
   "cell_type": "markdown",
   "metadata": {},
   "source": [
    "###### How to assign many values in one agginment?"
   ]
  },
  {
   "cell_type": "code",
   "execution_count": null,
   "metadata": {},
   "outputs": [],
   "source": [
    "a, b ,c =1,2,3\n",
    "print(a)\n",
    "print(b)\n",
    "print(c)"
   ]
  },
  {
   "cell_type": "markdown",
   "metadata": {},
   "source": [
    "###### Escape Sequences Characters in Python:"
   ]
  },
  {
   "cell_type": "code",
   "execution_count": null,
   "metadata": {},
   "outputs": [],
   "source": [
    "print(\"Hello\\bWorld\")  # Back space #will Remove o\n",
    "print(\"Hallo I Love \\\n",
    "      Programming\")    #  Ignore the new Line\n",
    "print(\"I Love You! \\\\\")# To print the \\ we put a \\ befor it\n",
    "# Escape single or double Quote\n",
    "print(\"I Love \\'Test\\'\")\n",
    "# New Line\n",
    "print(\"First Line\\nSecond Line\")\n",
    "# carriage Return\n",
    "print(\"abcdef\\r1234\") #it will replace my first 4 character with 1234\n",
    "#\\xhh ==> Character Hex Value\n",
    "print(\"\\x65\")"
   ]
  },
  {
   "cell_type": "code",
   "execution_count": null,
   "metadata": {},
   "outputs": [],
   "source": [
    "# Want to print \"\" without escaping\n",
    "print('Hallo \"Love\"')\n",
    "# Want to print '' without escaping\n",
    "print(\"Hallo 'Love'\")"
   ]
  },
  {
   "cell_type": "markdown",
   "metadata": {},
   "source": [
    "##### Every thing I give inside the bool() function is True except:"
   ]
  },
  {
   "cell_type": "code",
   "execution_count": null,
   "metadata": {},
   "outputs": [],
   "source": [
    "# False Values\n",
    "\n",
    "print(bool(0))\n",
    "print(bool(\"\"))\n",
    "print(bool(''))\n",
    "print(bool([]))\n",
    "print(bool(False))\n",
    "print(bool(()))\n",
    "print(bool({}))\n",
    "print(bool(None))"
   ]
  },
  {
   "cell_type": "markdown",
   "metadata": {},
   "source": [
    "##### How to convert Tuple, and List to Dictionary?\n",
    "###### Its not possible unless we have nested Tuple and Dict"
   ]
  },
  {
   "cell_type": "code",
   "execution_count": null,
   "metadata": {},
   "outputs": [],
   "source": [
    "d=((\"name\",\"Bakri\"),(\"Age\",31))\n",
    "print(dict(d))\n",
    "e =[[\"name\",\"Bakri\"],[\"Age\",31]]\n",
    "print(dict(e))\n",
    "# We can not convert the Set even the nested set cause its unhashable Type."
   ]
  },
  {
   "cell_type": "code",
   "execution_count": null,
   "metadata": {},
   "outputs": [],
   "source": [
    "x= input(\"please enter a number\")\n",
    "print(x)"
   ]
  },
  {
   "cell_type": "code",
   "execution_count": null,
   "metadata": {},
   "outputs": [],
   "source": [
    "fname= input(\"insert your first name please\")\n",
    "mname= input(\"insert your middle name please\")  \n",
    "lname= input(\"insert your last name please\")  \n",
    "print(f\"Hallo {fname.strip()} {mname.strip()} {lname.strip()} \")\n",
    "\n"
   ]
  },
  {
   "cell_type": "code",
   "execution_count": null,
   "metadata": {},
   "outputs": [],
   "source": [
    "# Practical Slice Email\n",
    "email=\"bakri.badet@gmail.com\"\n",
    "print(email[0:email.index(\"@\")])\n",
    "#  I can use my string method directly after the input statement\n",
    "myName=input(\"Please enter your name? \").strip().capitalize()\n",
    "print(myName)"
   ]
  },
  {
   "cell_type": "markdown",
   "metadata": {},
   "source": [
    "##### Practical => Loop on many Iterators with zip():\n",
    "###### zip() returns a zip object contains all objects.\n",
    "###### zip() length is the length of lowest object."
   ]
  },
  {
   "cell_type": "code",
   "execution_count": 5,
   "metadata": {},
   "outputs": [
    {
     "name": "stdout",
     "output_type": "stream",
     "text": [
      "<zip object at 0x0000028EE6449D40>\n",
      "(1, 'A')\n",
      "(2, 'B')\n",
      "(3, 'C')\n",
      "List 1 item => 1\n",
      "List 2 item => A\n",
      "List 1 item => 2\n",
      "List 2 item => B\n",
      "List 1 item => 3\n",
      "List 2 item => C\n"
     ]
    }
   ],
   "source": [
    "list1=[1,2,3,4,5]\n",
    "list2=[\"A\",\"B\",\"C\"]\n",
    "ultimatelist=zip(list1,list2)\n",
    "print(ultimatelist)\n",
    "for item in ultimatelist:\n",
    "    print(item)\n",
    "\n",
    "for item1,item2 in zip(list1,list2):\n",
    "    print(\"List 1 item =>\",item1)\n",
    "    print(\"List 2 item =>\",item2)"
   ]
  },
  {
   "cell_type": "code",
   "execution_count": 8,
   "metadata": {},
   "outputs": [
    {
     "name": "stdout",
     "output_type": "stream",
     "text": [
      "List 1 item => 1\n",
      "List 2 item => A\n",
      "tuple 1 item => Man\n",
      "Dict 1 Key => Name Value => Bakri\n",
      "List 1 item => 2\n",
      "List 2 item => B\n",
      "tuple 1 item => Woman\n",
      "Dict 1 Key => Age Value => 31\n",
      "List 1 item => 3\n",
      "List 2 item => C\n",
      "tuple 1 item => Girl\n",
      "Dict 1 Key => Country Value => Syria\n"
     ]
    }
   ],
   "source": [
    "tuple1=(\"Man\",\"Woman\",\"Girl\",\"Boy\")\n",
    "dict1={\"Name\":\"Bakri\",\"Age\":31,\"Country\":\"Syria\"}\n",
    "for item1,item2,item3, item4 in zip(list1,list2,tuple1,dict1):\n",
    "    print(\"List 1 item =>\",item1)\n",
    "    print(\"List 2 item =>\",item2)\n",
    "    print(\"tuple 1 item =>\",item3)\n",
    "    print(\"Dict 1 Key =>\",item4,\"Value =>\",dict1[item4])\n",
    "    #dict1[item4] to get my value!\n",
    "    # it will iterates just three elements cause I have the lowest object three"
   ]
  },
  {
   "cell_type": "markdown",
   "metadata": {},
   "source": [
    "##### Doc String & Commenting vs Documenting:\n",
    "###### [1] Documentation string for class, Module or function.\n",
    "###### [2] Can bes accessed from the help and doc attributes.\n",
    "###### [3] Maade for understanding the functionality of the complex code\n",
    "###### [4] There is one line and multiple line doc strings"
   ]
  },
  {
   "cell_type": "code",
   "execution_count": 29,
   "metadata": {},
   "outputs": [
    {
     "name": "stdout",
     "output_type": "stream",
     "text": [
      "Hello Bakri\n",
      "This is a function to say Hello \n",
      "my_function\n"
     ]
    }
   ],
   "source": [
    "def my_function(name):\n",
    "    '''This is a function to say Hello ''' # This is single line doc string.\n",
    "    print(f\"Hello {name}\")\n",
    "my_function(\"Bakri\")\n",
    "# The doc string is written inside ''' '''\n",
    "# print(dir(my_function))\n",
    "print(my_function.__doc__) # This will print me my doc string of that function.\n",
    "print(my_function.__name__)# This will print me the name of my function"
   ]
  },
  {
   "cell_type": "code",
   "execution_count": 27,
   "metadata": {},
   "outputs": [
    {
     "name": "stdout",
     "output_type": "stream",
     "text": [
      "Help on function my_function in module __main__:\n",
      "\n",
      "my_function(name)\n",
      "    This is a function to say Hello\n",
      "\n"
     ]
    }
   ],
   "source": [
    "# Using the help function u can as well get your doc string.\n",
    "help(my_function)"
   ]
  },
  {
   "cell_type": "markdown",
   "metadata": {},
   "source": [
    "##### Installing and use Pylint for better code:"
   ]
  },
  {
   "cell_type": "code",
   "execution_count": 4,
   "metadata": {},
   "outputs": [
    {
     "name": "stdout",
     "output_type": "stream",
     "text": [
      "Hello Bakri\n"
     ]
    }
   ],
   "source": [
    "# First of all install pylint => pip install pylint\n",
    "def sayHello(name):\n",
    "    print (f\"Hello {name}\")\n",
    "sayHello(\"Bakri\")"
   ]
  },
  {
   "cell_type": "markdown",
   "metadata": {},
   "source": [
    "###### To check if your code correct use pylint.exe file_path\n",
    "###### To have further information about pylint visit https://pypi.org/project/pylint/"
   ]
  },
  {
   "cell_type": "markdown",
   "metadata": {},
   "source": [
    "##### Type Hinting:"
   ]
  },
  {
   "cell_type": "code",
   "execution_count": 1,
   "metadata": {},
   "outputs": [
    {
     "name": "stdout",
     "output_type": "stream",
     "text": [
      "Hello Bakri\n",
      "Hello 10\n"
     ]
    }
   ],
   "source": [
    "def say_hello(name) -> str :\n",
    "    print(f\"Hello {name}\")\n",
    "say_hello(\"Bakri\")\n",
    "say_hello(10)#notice here even when my hint is a string still just a hint"
   ]
  },
  {
   "cell_type": "code",
   "execution_count": 2,
   "metadata": {},
   "outputs": [
    {
     "name": "stdout",
     "output_type": "stream",
     "text": [
      "100\n"
     ]
    }
   ],
   "source": [
    "def calculate(n1,n2) -> int:\n",
    "    print(n1+n2)\n",
    "calculate(90,10)"
   ]
  },
  {
   "cell_type": "code",
   "execution_count": null,
   "metadata": {},
   "outputs": [],
   "source": []
  }
 ],
 "metadata": {
  "kernelspec": {
   "display_name": "Python 3",
   "language": "python",
   "name": "python3"
  },
  "language_info": {
   "codemirror_mode": {
    "name": "ipython",
    "version": 3
   },
   "file_extension": ".py",
   "mimetype": "text/x-python",
   "name": "python",
   "nbconvert_exporter": "python",
   "pygments_lexer": "ipython3",
   "version": "3.12.0"
  }
 },
 "nbformat": 4,
 "nbformat_minor": 2
}
