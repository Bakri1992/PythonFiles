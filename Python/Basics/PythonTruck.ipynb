{
 "cells": [
  {
   "cell_type": "markdown",
   "metadata": {},
   "source": [
    "###### How to know the reserved word in Python?"
   ]
  },
  {
   "cell_type": "code",
   "execution_count": null,
   "metadata": {},
   "outputs": [],
   "source": [
    "help(\"keywords\")"
   ]
  },
  {
   "cell_type": "markdown",
   "metadata": {},
   "source": [
    "###### How to assign many values in one agginment?"
   ]
  },
  {
   "cell_type": "code",
   "execution_count": null,
   "metadata": {},
   "outputs": [],
   "source": [
    "a, b ,c =1,2,3\n",
    "print(a)\n",
    "print(b)\n",
    "print(c)"
   ]
  },
  {
   "cell_type": "markdown",
   "metadata": {},
   "source": [
    "###### Escape Sequences Characters in Python:"
   ]
  },
  {
   "cell_type": "code",
   "execution_count": null,
   "metadata": {},
   "outputs": [],
   "source": [
    "print(\"Hello\\bWorld\")  # Back space #will Remove o\n",
    "print(\"Hallo I Love \\\n",
    "      Programming\")    #  Ignore the new Line\n",
    "print(\"I Love You! \\\\\")# To print the \\ we put a \\ befor it\n",
    "# Escape single or double Quote\n",
    "print(\"I Love \\'Test\\'\")\n",
    "# New Line\n",
    "print(\"First Line\\nSecond Line\")\n",
    "# carriage Return\n",
    "print(\"abcdef\\r1234\") #it will replace my first 4 character with 1234\n",
    "#\\xhh ==> Character Hex Value\n",
    "print(\"\\x65\")"
   ]
  },
  {
   "cell_type": "code",
   "execution_count": null,
   "metadata": {},
   "outputs": [],
   "source": [
    "# Want to print \"\" without escaping\n",
    "print('Hallo \"Love\"')\n",
    "# Want to print '' without escaping\n",
    "print(\"Hallo 'Love'\")"
   ]
  },
  {
   "cell_type": "markdown",
   "metadata": {},
   "source": [
    "##### Every thing I give inside the bool() function is True except:"
   ]
  },
  {
   "cell_type": "code",
   "execution_count": null,
   "metadata": {},
   "outputs": [],
   "source": [
    "# False Values\n",
    "\n",
    "print(bool(0))\n",
    "print(bool(\"\"))\n",
    "print(bool(''))\n",
    "print(bool([]))\n",
    "print(bool(False))\n",
    "print(bool(()))\n",
    "print(bool({}))\n",
    "print(bool(None))"
   ]
  },
  {
   "cell_type": "markdown",
   "metadata": {},
   "source": [
    "##### How to convert Tuple, and List to Dictionary?\n",
    "###### Its not possible unless we have nested Tuple and Dict"
   ]
  },
  {
   "cell_type": "code",
   "execution_count": null,
   "metadata": {},
   "outputs": [],
   "source": [
    "d=((\"name\",\"Bakri\"),(\"Age\",31))\n",
    "print(dict(d))\n",
    "e =[[\"name\",\"Bakri\"],[\"Age\",31]]\n",
    "print(dict(e))\n",
    "# We can not convert the Set even the nested set cause its unhashable Type."
   ]
  },
  {
   "cell_type": "code",
   "execution_count": null,
   "metadata": {},
   "outputs": [],
   "source": [
    "x= input(\"please enter a number\")\n",
    "print(x)"
   ]
  },
  {
   "cell_type": "code",
   "execution_count": null,
   "metadata": {},
   "outputs": [],
   "source": [
    "fname= input(\"insert your first name please\")\n",
    "mname= input(\"insert your middle name please\")  \n",
    "lname= input(\"insert your last name please\")  \n",
    "print(f\"Hallo {fname.strip()} {mname.strip()} {lname.strip()} \")\n",
    "\n"
   ]
  },
  {
   "cell_type": "code",
   "execution_count": null,
   "metadata": {},
   "outputs": [],
   "source": [
    "# Practical Slice Email\n",
    "email=\"bakri.badet@gmail.com\"\n",
    "print(email[0:email.index(\"@\")])\n",
    "#  I can use my string method directly after the input statement\n",
    "myName=input(\"Please enter your name? \").strip().capitalize()\n",
    "print(myName)"
   ]
  }
 ],
 "metadata": {
  "kernelspec": {
   "display_name": "Python 3",
   "language": "python",
   "name": "python3"
  },
  "language_info": {
   "codemirror_mode": {
    "name": "ipython",
    "version": 3
   },
   "file_extension": ".py",
   "mimetype": "text/x-python",
   "name": "python",
   "nbconvert_exporter": "python",
   "pygments_lexer": "ipython3",
   "version": "3.12.0"
  }
 },
 "nbformat": 4,
 "nbformat_minor": 2
}
