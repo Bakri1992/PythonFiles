{
 "cells": [
  {
   "cell_type": "markdown",
   "metadata": {},
   "source": [
    "##### **Dont Forget to import csv**"
   ]
  },
  {
   "cell_type": "code",
   "execution_count": null,
   "metadata": {},
   "outputs": [],
   "source": [
    "import csv"
   ]
  },
  {
   "cell_type": "markdown",
   "metadata": {},
   "source": [
    "##### We Open the csv file using a context manager:"
   ]
  },
  {
   "cell_type": "code",
   "execution_count": null,
   "metadata": {},
   "outputs": [],
   "source": [
    "with open(r\"C:\\pf\\Python\\Python\\csvfiles\\population_by_zip_2000.csv\",\"r\") as csv_file:\n",
    "    # To read a csv file we use the reader method\n",
    "    csv_reader=csv.reader(csv_file)\n",
    "    \n",
    "    # print(csv_reader) its iterator we need to iterate above\n",
    "    print(csv_reader)\n",
    "    \n",
    "    # Lets iterate and print lines\n",
    "    # Every line will be listed in a list\n",
    "    # for line in csv_reader:\n",
    "    #     print(line)\n",
    "        \n",
    "    # To print only the first or second column\n",
    "    # for line in csv_reader:\n",
    "    #     print(line[0])    \n",
    "        \n",
    "    # The first Line here is my header that determines my columns names\n",
    "    # to skip the header we use here the next() method\n",
    "    \n",
    "    next(csv_reader)\n",
    "    for line in csv_reader:\n",
    "        print(line)"
   ]
  },
  {
   "cell_type": "markdown",
   "metadata": {},
   "source": [
    "##### How to write into csv file:"
   ]
  },
  {
   "cell_type": "code",
   "execution_count": null,
   "metadata": {},
   "outputs": [],
   "source": [
    "with open(r\"C:\\pf\\Python\\Python\\csvfiles\\population_by_zip_2000.csv\",\"r\") as csv_file:\n",
    "    csv_reader=csv.reader(csv_file)\n",
    "    with open (\"my_file.csv\",\"w\",newline=\"\") as new_file:\n",
    "        # In case we dont have newline=\"\" we will have extra lines.\n",
    "        csv_writer=csv.writer(new_file,delimiter=\",\")# we dont have to specify delimete\n",
    "        # casuse its by default\n",
    "        # The writer method takes two para one the second one delimeter by default \",\"\n",
    "        # we have to write every line\n",
    "        for line in csv_reader:\n",
    "            csv_writer.writerow(line)"
   ]
  },
  {
   "cell_type": "markdown",
   "metadata": {},
   "source": [
    "##### Read CSV Files Using DictReader:\n",
    "- Each Value concatenated with the col name\n",
    "- The Head line is not included\n",
    "- We can specify the columns name by writing it into my print(line[\"email\"])"
   ]
  },
  {
   "cell_type": "code",
   "execution_count": null,
   "metadata": {},
   "outputs": [],
   "source": [
    "with open(r\"C:\\pf\\Python\\Python\\csvfiles\\population_by_zip_2000.csv\",\"r\") as csv_file:\n",
    "    csv_reader=csv.DictReader(csv_file)\n",
    "    for line in csv_reader:\n",
    "        print(line[\"gender\"])"
   ]
  },
  {
   "cell_type": "markdown",
   "metadata": {},
   "source": [
    "##### Writing Using DictReader:\n",
    "- Using the csv.DictWriter \n",
    "- We have to provide the columns names"
   ]
  },
  {
   "cell_type": "code",
   "execution_count": 18,
   "metadata": {},
   "outputs": [],
   "source": [
    "with open(r\"C:\\pf\\Python\\Python\\csvfiles\\population_by_zip_2000.csv\",\"r\") as csv_file:\n",
    "    csv_reader=csv.DictReader(csv_file)\n",
    "    with open (\"my_file.csv\",\"w\",newline=\"\") as new_file:\n",
    "        fieldnames=[\"minimum_age\",\"maximum_age\",\"gender\",\"population\",\"zipcode\",\"geo_id\"]\n",
    "        csv_writer=csv.DictWriter(new_file,fieldnames=fieldnames,delimiter=\",\")\n",
    "        # If we want to write the header into my file\n",
    "        csv_writer.writeheader()\n",
    "        # it takes the fieldnames and write it into my header\n",
    "        for line in csv_reader:\n",
    "            csv_writer.writerow(line)"
   ]
  },
  {
   "cell_type": "markdown",
   "metadata": {},
   "source": [
    "##### Why Using DictReader and DictWriter so practical\n",
    "- We can exclude columns that we dont want\n",
    "- We can specify which columns we want to maintain in fieldnames\n",
    "- Before writing the column into my new file I use del line[\"col_name\"]"
   ]
  },
  {
   "cell_type": "code",
   "execution_count": 19,
   "metadata": {},
   "outputs": [],
   "source": [
    "with open(r\"C:\\pf\\Python\\Python\\csvfiles\\population_by_zip_2000.csv\",\"r\") as csv_file:\n",
    "    csv_reader=csv.DictReader(csv_file)\n",
    "    with open (\"my_file.csv\",\"w\",newline=\"\") as new_file:\n",
    "        # Lets delete the geo_id column\n",
    "        # We can spe\n",
    "        fieldnames=[\"minimum_age\",\"maximum_age\",\"gender\",\"population\",\"zipcode\"]\n",
    "        csv_writer=csv.DictWriter(new_file,fieldnames=fieldnames,delimiter=\",\")\n",
    "        # If we want to write the header into my file\n",
    "        csv_writer.writeheader()\n",
    "        # it takes the fieldnames and write it into my header\n",
    "        for line in csv_reader:\n",
    "            del line[\"geo_id\"]\n",
    "            csv_writer.writerow(line)"
   ]
  },
  {
   "cell_type": "code",
   "execution_count": null,
   "metadata": {},
   "outputs": [],
   "source": []
  }
 ],
 "metadata": {
  "kernelspec": {
   "display_name": "Python 3",
   "language": "python",
   "name": "python3"
  },
  "language_info": {
   "codemirror_mode": {
    "name": "ipython",
    "version": 3
   },
   "file_extension": ".py",
   "mimetype": "text/x-python",
   "name": "python",
   "nbconvert_exporter": "python",
   "pygments_lexer": "ipython3",
   "version": "3.12.0"
  }
 },
 "nbformat": 4,
 "nbformat_minor": 2
}
