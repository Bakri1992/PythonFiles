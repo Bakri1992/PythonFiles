{
 "cells": [
  {
   "cell_type": "markdown",
   "metadata": {},
   "source": [
    "##### **Dont Forget to import csv**"
   ]
  },
  {
   "cell_type": "code",
   "execution_count": null,
   "metadata": {},
   "outputs": [],
   "source": [
    "import csv"
   ]
  },
  {
   "cell_type": "markdown",
   "metadata": {},
   "source": [
    "##### We Open the csv file using a context manager:"
   ]
  },
  {
   "cell_type": "code",
   "execution_count": null,
   "metadata": {},
   "outputs": [],
   "source": [
    "with open(r\"C:\\pf\\Python\\Python\\csvfiles\\population_by_zip_2000.csv\",\"r\") as csv_file:\n",
    "    # To read a csv file we use the reader method\n",
    "    csv_reader=csv.reader(csv_file)\n",
    "    \n",
    "    # print(csv_reader) its iterator we need to iterate above\n",
    "    print(csv_reader)\n",
    "    \n",
    "    # Lets iterate and print lines\n",
    "    # Every line will be listed in a list\n",
    "    for line in csv_reader:\n",
    "        print(line)\n",
    "        \n",
    "    # To print only the first or second column\n",
    "    # for line in csv_reader:\n",
    "    #     print(line[0])    \n",
    "        \n",
    "    # The first Line here is my header that determines my columns names\n",
    "    # to skip the header we use here the next() method\n",
    "    \n",
    "  "
   ]
  },
  {
   "cell_type": "markdown",
   "metadata": {},
   "source": [
    "##### How to write into csv file:"
   ]
  },
  {
   "cell_type": "code",
   "execution_count": null,
   "metadata": {},
   "outputs": [],
   "source": [
    "with open(r\"C:\\pf\\Python\\Python\\csvfiles\\population_by_zip_2000.csv\",\"r\") as csv_file:\n",
    "    csv_reader=csv.reader(csv_file)\n",
    "    with open (\"my_file.csv\",\"w\",newline=\"\") as new_file:\n",
    "        # In case we dont have newline=\"\" we will have extra lines.\n",
    "        csv_writer=csv.writer(new_file,delimiter=\",\")# we dont have to specify delimete\n",
    "        # casuse its by default\n",
    "        # The writer method takes two para one the second one delimeter by default \",\"\n",
    "        # we have to write every line\n",
    "        for line in csv_reader:\n",
    "            csv_writer.writerow(line)"
   ]
  },
  {
   "cell_type": "markdown",
   "metadata": {},
   "source": [
    "##### Read CSV Files Using DictReader:\n",
    "- Each Value concatenated with the col name\n",
    "- The Head line is not included\n",
    "- We can specify the columns name by writing it into my print(line[\"email\"])"
   ]
  },
  {
   "cell_type": "code",
   "execution_count": null,
   "metadata": {},
   "outputs": [],
   "source": [
    "with open(r\"C:\\pf\\Python\\Python\\csvfiles\\population_by_zip_2000.csv\",\"r\") as csv_file:\n",
    "    csv_reader=csv.DictReader(csv_file)\n",
    "    print(csv_reader.fieldnames)\n",
    "    # for line in csv_reader:\n",
    "    #     print(line[\"gender\"])"
   ]
  },
  {
   "cell_type": "markdown",
   "metadata": {},
   "source": [
    "##### Writing Using DictReader:\n",
    "- Using the csv.DictWriter \n",
    "- We have to provide the columns names"
   ]
  },
  {
   "cell_type": "code",
   "execution_count": null,
   "metadata": {},
   "outputs": [],
   "source": [
    "import csv\n",
    "with open(r\"C:\\pf\\Python\\Python\\csvfiles\\population_by_zip_2000.csv\",\"r\") as csv_file:\n",
    "    csv_reader=csv.DictReader(csv_file)\n",
    "    with open (\"my_file.csv\",\"w\",newline=\"\\n\") as new_file:\n",
    "        fieldnames=[\"minimum_age\",\"maximum_age\",\"gender\",\"population\",\"zipcode\",\"geo_id\"]\n",
    "        csv_writer=csv.DictWriter(new_file,fieldnames=fieldnames,delimiter=\",\")\n",
    "        # If we want to write the header into my file\n",
    "        csv_writer.writeheader()\n",
    "        # it takes the fieldnames and write it into my header\n",
    "        for line in csv_reader:\n",
    "            csv_writer.writerow(line)"
   ]
  },
  {
   "cell_type": "markdown",
   "metadata": {},
   "source": [
    "##### Why Using DictReader and DictWriter so practical\n",
    "- We can exclude columns that we dont want\n",
    "- We can specify which columns we want to maintain in fieldnames\n",
    "- Before writing the column into my new file I use del line[\"col_name\"]"
   ]
  },
  {
   "cell_type": "code",
   "execution_count": null,
   "metadata": {},
   "outputs": [],
   "source": [
    "import csv\n",
    "with open(r\"C:\\pf\\Python\\Python\\csvfiles\\population_by_zip_2000.csv\",\"r\") as csv_file:\n",
    "    csv_reader=csv.DictReader(csv_file,delimiter=\",\")\n",
    "    with open (\"my_file.csv\",\"w\",newline=\"\\n\") as new_file:\n",
    "        # Lets delete the geo_id column\n",
    "        # We can specify which columns to include\n",
    "        fieldnames=[\"minimum_age\",\"maximum_age\",\"gender\",\"population\",\"zipcode\"]\n",
    "        csv_writer=csv.DictWriter(new_file,fieldnames=fieldnames,delimiter=\",\")\n",
    "        # If we want to write the header into my file\n",
    "        csv_writer.writeheader()\n",
    "        # it takes the fieldnames and write it into my header\n",
    "        for line in csv_reader:\n",
    "            del line[\"geo_id\"]\n",
    "            csv_writer.writerow(line)"
   ]
  },
  {
   "cell_type": "code",
   "execution_count": null,
   "metadata": {},
   "outputs": [],
   "source": [
    "import csv\n",
    "with open(r\"C:\\pf\\Python\\Python\\csvfiles\\population_by_zip_2000.csv\",\"r\") as csv_file:\n",
    "    reader=csv.DictReader(csv_file,delimiter=\",\")\n",
    "    print(reader.fieldnames)\n",
    "    info=[row for row in reader]\n",
    "    # This will print me a list of dictionaries\n",
    "    print(info)"
   ]
  },
  {
   "cell_type": "code",
   "execution_count": 6,
   "metadata": {},
   "outputs": [
    {
     "name": "stdout",
     "output_type": "stream",
     "text": [
      "['Banane', 'apple', 'peach', 'kiwi']\n"
     ]
    }
   ],
   "source": [
    "def fruitsorter(val):\n",
    "    return -len(val)\n",
    "fruits=[\"kiwi\",\"apple\",\"peach\",\"Banane\"]\n",
    "fruits.sort(key=fruitsorter)\n",
    "print(fruits)"
   ]
  },
  {
   "cell_type": "code",
   "execution_count": 7,
   "metadata": {},
   "outputs": [
    {
     "name": "stdout",
     "output_type": "stream",
     "text": [
      "1\n",
      "2\n",
      "3\n",
      "name = John\n",
      "age = 25\n"
     ]
    }
   ],
   "source": [
    "def my_function(*args, **kwargs):\n",
    "    for arg in args:\n",
    "        print(arg)\n",
    "    for key, value in kwargs.items():\n",
    "        print(f\"{key} = {value}\")\n",
    "\n",
    "my_function(1, 2, 3, name=\"John\", age=25)"
   ]
  },
  {
   "cell_type": "code",
   "execution_count": 12,
   "metadata": {},
   "outputs": [
    {
     "name": "stdout",
     "output_type": "stream",
     "text": [
      "Something is happening before the function is called.\n",
      "Halo\n",
      "Something is happening after the function is called.\n"
     ]
    }
   ],
   "source": [
    "def my_decorator(func):\n",
    "    def wrapper(message):\n",
    "        print(\"Something is happening before the function is called.\")\n",
    "        func(message)\n",
    "        print(\"Something is happening after the function is called.\")\n",
    "    return wrapper\n",
    "\n",
    "@my_decorator\n",
    "def say_hello(message):\n",
    "    print(message)\n",
    "\n",
    "say_hello(\"Halo\")"
   ]
  },
  {
   "cell_type": "code",
   "execution_count": 1,
   "metadata": {},
   "outputs": [
    {
     "name": "stdout",
     "output_type": "stream",
     "text": [
      "['__class__', '__delattr__', '__dict__', '__dir__', '__doc__', '__eq__', '__format__', '__ge__', '__getattribute__', '__getstate__', '__gt__', '__hash__', '__init__', '__init_subclass__', '__le__', '__lt__', '__module__', '__ne__', '__new__', '__reduce__', '__reduce_ex__', '__repr__', '__setattr__', '__sizeof__', '__str__', '__subclasshook__', '__weakref__']\n"
     ]
    }
   ],
   "source": [
    "class koko:\n",
    "    pass\n",
    "print(dir(koko))"
   ]
  },
  {
   "cell_type": "code",
   "execution_count": 10,
   "metadata": {},
   "outputs": [
    {
     "name": "stdout",
     "output_type": "stream",
     "text": [
      "<__main__.Book object at 0x000001AB358EF710>\n"
     ]
    }
   ],
   "source": [
    "class Book:\n",
    "    def __init__(self, title, author):\n",
    "        self.title = title\n",
    "        self.author = author\n",
    "\n",
    "    def describe(self):\n",
    "        return f\"'{self.title}' by {self.author}\"\n",
    "\n",
    "# Erstellen Sie ein Buchobjekt\n",
    "my_book = Book(\"1984\", \"George Orwell\")\n",
    "\n",
    "# Verwenden Sie die describe-Methode, um das Buch zu beschreiben\n",
    "# print(my_book.describe())  # Ausgabe: '1984' by George Orwell\n",
    "print(repr(my_book))"
   ]
  },
  {
   "cell_type": "code",
   "execution_count": 14,
   "metadata": {},
   "outputs": [
    {
     "name": "stdout",
     "output_type": "stream",
     "text": [
      "['__class__', '__delattr__', '__dict__', '__dir__', '__doc__', '__eq__', '__format__', '__ge__', '__getattribute__', '__getstate__', '__gt__', '__hash__', '__init__', '__init_subclass__', '__le__', '__lt__', '__module__', '__ne__', '__new__', '__reduce__', '__reduce_ex__', '__repr__', '__setattr__', '__sizeof__', '__str__', '__subclasshook__', '__weakref__', 'describe']\n",
      "<class '__main__.Book'>\n"
     ]
    }
   ],
   "source": [
    "print(dir(Book))\n",
    "print(my_book.__class__)"
   ]
  },
  {
   "cell_type": "code",
   "execution_count": 17,
   "metadata": {},
   "outputs": [
    {
     "name": "stdout",
     "output_type": "stream",
     "text": [
      "<__main__.Book object at 0x000001AB358EF710>\n"
     ]
    }
   ],
   "source": [
    "print(repr(my_book))"
   ]
  },
  {
   "cell_type": "code",
   "execution_count": null,
   "metadata": {},
   "outputs": [],
   "source": []
  }
 ],
 "metadata": {
  "kernelspec": {
   "display_name": "Python 3",
   "language": "python",
   "name": "python3"
  },
  "language_info": {
   "codemirror_mode": {
    "name": "ipython",
    "version": 3
   },
   "file_extension": ".py",
   "mimetype": "text/x-python",
   "name": "python",
   "nbconvert_exporter": "python",
   "pygments_lexer": "ipython3",
   "version": "3.12.0"
  }
 },
 "nbformat": 4,
 "nbformat_minor": 2
}
