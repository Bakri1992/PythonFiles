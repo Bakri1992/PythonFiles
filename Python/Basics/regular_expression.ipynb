{
 "cells": [
  {
   "cell_type": "markdown",
   "metadata": {},
   "source": [
    "##### Regular Expression:\n",
    "###### [1] Sequence of characters that defines a search pattern\n",
    "###### [2] Regular expression is not in python its general concept\n",
    "###### [3] Used in [Credit Card Validation, IP adress validation, Email validation]\n",
    "###### [4] Test RegEx \"https://pythex.org/\"\n",
    "###### [5] Characters Sheet \"https://www.debuggex.com/cheatsheet/regex/python\""
   ]
  },
  {
   "cell_type": "markdown",
   "metadata": {},
   "source": [
    "##### Regular Expressions => Quantifiers"
   ]
  },
  {
   "cell_type": "code",
   "execution_count": null,
   "metadata": {},
   "outputs": [],
   "source": [
    "# \\w character class includes letters (a-z, A-Z),\n",
    "# digits (0-9), and underscores (_)\n",
    "# \\w* => Match words with zero characters or more \n",
    "# \\w+ => Match words with one cahracter or more(empty string is excluded)\n",
    "# \\w? => Match words with zero or one character!\n",
    "# \\w{3}=> Match words with three cahracters!\n",
    "# \\w{4}=> with 4 characters \n",
    "# The characters should be in sequence\n",
    "# \\w{2,4} => Match the words with length between 2 & 4\n",
    "# \\w{2,} => Match the words with length 2 or more\n",
    "# \\w{,4} => Match the words with length 0 up to 4\n",
    "# Lets Match this pattern 011 5456-820 => \\d{3}\\s\\d{4}-\\d{3}"
   ]
  },
  {
   "cell_type": "markdown",
   "metadata": {},
   "source": [
    "##### Regular Expressions => Characters classes "
   ]
  },
  {
   "cell_type": "code",
   "execution_count": null,
   "metadata": {},
   "outputs": [],
   "source": [
    "# ame  => ame will exactly matches the ame\n",
    "# [ame]=> will matches a , m ,e.\n",
    "# [a-z]=> will matches small letters from a to z\n",
    "# [A-Z]=> will matches capitale letters from A to Z\n",
    "# [0-9]=> will matches the numbers 0 to 9\n",
    "# [A-Z0-9] => capitale letters from A to Z numbers from 0 to 9\n",
    "# [A-Za-z0-9]\n",
    "# [A-z]  => This matches capital and small letters.\n",
    "# [a-m] => matches the letters from a to m.\n",
    "# [^N]  => matches anything except N.\n",
    "# [^a-z]=> matches anything except small letters.\n",
    "# write the regular expression that matches  BA 123 BAkri_\n",
    "#  \\s[A-Z]{2}\\s[0-9]{3}\\s\\w{,6}"
   ]
  },
  {
   "cell_type": "code",
   "execution_count": null,
   "metadata": {},
   "outputs": [],
   "source": [
    "# Example of ?:\n",
    "# \\d{3}\\s\\d{4}-?\\s?\\d{3}\n",
    "# -? means maybe there is here - or not\n",
    "# \\s? means match here if there is a whitespace or not\n",
    "# This will matches => 012 1234 567\n",
    "#                   => 012 3345-556      \n"
   ]
  },
  {
   "cell_type": "markdown",
   "metadata": {},
   "source": [
    "##### Regular Expressions => Assertion"
   ]
  },
  {
   "cell_type": "code",
   "execution_count": null,
   "metadata": {},
   "outputs": [],
   "source": [
    "# ^ Start of strings \n",
    "# $ End of string\n",
    "# ^\\d{3}\\s\\d{4}-?\\s?\\d{3}$\n"
   ]
  },
  {
   "cell_type": "code",
   "execution_count": null,
   "metadata": {},
   "outputs": [],
   "source": [
    "# Match an E-Mail:\n",
    "# write a regular expression to match these email:\n",
    "# bakri.badet@gmail.com\n",
    "# ahmed_alis123@gmail.com\n",
    "# mahmoud123@jotmail.net\n",
    "# soso@mail.ru\n",
    "# [\\w.-]+@[A-z]+\\.[\\w]+\n",
    "# ^[A-z0-9.]+@[A-z0-9]+\\.[A-z]+$\n"
   ]
  },
  {
   "cell_type": "markdown",
   "metadata": {},
   "source": [
    "##### Regular Expressions => Logical or and Escaping"
   ]
  },
  {
   "cell_type": "markdown",
   "metadata": {},
   "source": [
    "###### [*] | or\n",
    "###### [*] \\ Escape special chracters\n",
    "###### [*] () seperate groups"
   ]
  },
  {
   "cell_type": "code",
   "execution_count": null,
   "metadata": {},
   "outputs": [],
   "source": [
    "# Lets matches these lines:\n",
    "'''\n",
    "1-HTML\n",
    "2-CSS\n",
    "3-PHP\n",
    "\n",
    "1)HTML\n",
    "2)CSS\n",
    "3)PHP\n",
    "\n",
    "1>HTML\n",
    "2>CSS\n",
    "3>PHP\n",
    "'''\n",
    "# My regular expression    ==> \\d\\-?\\)?\\>?[\\w]+\n",
    "# Another Way using the or ==> (\\d-|\\d\\)|\\d>) (\\w+)\n",
    "# we use () to group my regular expression | or "
   ]
  },
  {
   "cell_type": "code",
   "execution_count": null,
   "metadata": {},
   "outputs": [],
   "source": [
    "# Lets matches these line of codes using groups:\n",
    "# 012 4578 213\n",
    "# 011 4568 (345)\n",
    "# My regular expressions ==> (\\d{3})\\s(\\d{4})\\s(\\d{3}|\\(\\d{3}\\))\n",
    "#                        ==> (\\d{3}) (\\d{4}) (\\d{3}|\\(\\d{3}\\))"
   ]
  },
  {
   "cell_type": "code",
   "execution_count": null,
   "metadata": {},
   "outputs": [],
   "source": [
    "# Lets matches these line of codes:\n",
    "'''\n",
    "http://www.google.com\n",
    "http://elzero.org\n",
    "https://bakri.net\n",
    "'''\n",
    "# My regular expression ==> (https?://)(www\\.)?(\\w+)\\.(com|org|net)"
   ]
  },
  {
   "cell_type": "markdown",
   "metadata": {},
   "source": [
    "##### Regular Expressions ==> re module search and findall\n",
    "###### search()  ==> Search a string for a match and return a first match only.\n",
    "###### findall() ==> Returns a list of all matches and empty list if no match."
   ]
  },
  {
   "cell_type": "code",
   "execution_count": null,
   "metadata": {},
   "outputs": [],
   "source": [
    "# To use regular expressions in python:\n",
    "import re\n",
    "my_search=re.search(\"[A-Z]\",\"BakriBadet\")\n",
    "my_search   # span(0,1) means my match start at 0 and ends at 1(end is excluded).\n",
    "            # It will returns only my first matching.\n",
    "print(dir(my_search))\n",
    "print(my_search.span()) # Returns me the span\n",
    "print(my_search.string) # Returns me the string I gave"
   ]
  },
  {
   "cell_type": "code",
   "execution_count": null,
   "metadata": {},
   "outputs": [],
   "source": [
    "# Match two capital letters:\n",
    "my_match=re.search(r\"[A-Z]{2}\",\"BBkokos\") # r to specify that I have raw string\n",
    "                                    # Match two capital letters behind each other \n",
    "my_match"
   ]
  },
  {
   "cell_type": "code",
   "execution_count": null,
   "metadata": {},
   "outputs": [],
   "source": [
    "# Example:\n",
    "is_email=re.search(r\"[\\w]+@[\\w]+\\.(com|net)\",\"os@osama.net\")\n",
    "if is_email:\n",
    "    print(\"This is a valid email\")\n",
    "    print(is_email.span())\n",
    "    print(is_email.string)\n",
    "    print(is_email.group())\n",
    "else:\n",
    "    print(\"This is not a valid email\")"
   ]
  },
  {
   "cell_type": "markdown",
   "metadata": {},
   "source": [
    "##### Regular Expressions ==> re module split and sub\n",
    "###### [*] split(pattern,string,MaxSplit)              => returns a list of elements splitted on each match\n",
    "###### [*] sub(pattern, replace, string, replaceCount) => replace matches with what you want\n"
   ]
  },
  {
   "cell_type": "code",
   "execution_count": 25,
   "metadata": {},
   "outputs": [
    {
     "name": "stdout",
     "output_type": "stream",
     "text": [
      "['I', 'Love', 'Python', 'Programming']\n",
      "['I', 'Love Python-Programming']\n"
     ]
    }
   ],
   "source": [
    "import re \n",
    "string_one =\"I Love Python-Programming\"\n",
    "search_one=re.split(r\"\\s|-\",string_one) # split where \\s exists\n",
    "print(search_one)  # ==> ['I', 'Love', 'Python', 'Programming']\n",
    "# Lets use Maxsplit parameter\n",
    "my_maxSplit_search=re.split(r\"\\s\",string_one,1)\n",
    "print(my_maxSplit_search)# It will splits at my pattern just once. \n",
    "                         # It splits my string into two elements in a list.\n",
    "                         "
   ]
  },
  {
   "cell_type": "code",
   "execution_count": 27,
   "metadata": {},
   "outputs": [
    {
     "data": {
      "text/plain": [
       "['How', 'To', 'write', 'A', 'Very', 'Good', 'Article']"
      ]
     },
     "execution_count": 27,
     "metadata": {},
     "output_type": "execute_result"
    }
   ],
   "source": [
    "string_two=\"How-To_write_A_Very-Good-Article\"\n",
    "search_two=re.split(r\"-|_\",string_two)\n",
    "search_two"
   ]
  },
  {
   "cell_type": "code",
   "execution_count": 30,
   "metadata": {},
   "outputs": [
    {
     "name": "stdout",
     "output_type": "stream",
     "text": [
      "I-Love-Python\n",
      "I-Love Python\n"
     ]
    }
   ],
   "source": [
    "# sub(pattern, replace_pattern, string, replaceCount):\n",
    "print(re.sub(r\"\\s\",\"-\",\"I Love Python\"))\n",
    "print(re.sub(r\"\\s\",\"-\",\"I Love Python\",1)) # I replace just one \" \" with \"-\""
   ]
  },
  {
   "cell_type": "markdown",
   "metadata": {},
   "source": [
    "##### Regular Expressions => Group Training and Flags:"
   ]
  },
  {
   "cell_type": "markdown",
   "metadata": {},
   "source": []
  }
 ],
 "metadata": {
  "kernelspec": {
   "display_name": "Python 3",
   "language": "python",
   "name": "python3"
  },
  "language_info": {
   "codemirror_mode": {
    "name": "ipython",
    "version": 3
   },
   "file_extension": ".py",
   "mimetype": "text/x-python",
   "name": "python",
   "nbconvert_exporter": "python",
   "pygments_lexer": "ipython3",
   "version": "3.12.0"
  }
 },
 "nbformat": 4,
 "nbformat_minor": 2
}
