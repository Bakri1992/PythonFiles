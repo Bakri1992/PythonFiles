{
 "cells": [
  {
   "cell_type": "markdown",
   "metadata": {},
   "source": [
    "##### __Databases__:\n",
    "###### - Database Is A Place Where We Can Store Data\n",
    "###### - Database Organized Into Tables (Users, Categories)\n",
    "###### - Tables Has Columns (ID, Username, Password)\n",
    "###### - There's Many Types Of Databases (MongoDB, MySQL, SQLite)\n",
    "###### - SQL Stand For Structured Query Language\n",
    "###### - SQLite => Can Run in Memory or in A Single File\n",
    "###### - You Can Browse File With https://sqlitebrowser.org/\n",
    "###### - Data Inside Database Has Types (Text, Integer, Date)"
   ]
  },
  {
   "cell_type": "markdown",
   "metadata": {},
   "source": [
    "##### Database (Create , connect):"
   ]
  },
  {
   "cell_type": "code",
   "execution_count": null,
   "metadata": {},
   "outputs": [],
   "source": [
    "# First of all we should import the SQLite Module => sqlite3:\n",
    "import sqlite3\n",
    "\n",
    "# Create Database and connect:\n",
    "db= sqlite3.connect(\"app.db\") # We didnt create database yet!"
   ]
  },
  {
   "cell_type": "code",
   "execution_count": null,
   "metadata": {},
   "outputs": [],
   "source": [
    "# Create the tables and attributes(Columns):\n",
    "db.execute(\"CREATE TABLE IF NOT EXISTS skills (name TEXT , progress INTEGER , user_id INTEGER )\")\n",
    "# IF NOT EXITSTS neccessary unless I will get error if the table already exists."
   ]
  },
  {
   "cell_type": "code",
   "execution_count": null,
   "metadata": {},
   "outputs": [],
   "source": [
    "# To close Database\n",
    "db.close()"
   ]
  },
  {
   "cell_type": "markdown",
   "metadata": {},
   "source": [
    "##### Insert Data Into Database:\n",
    "###### - cursor => All operations in SQL done by cursor not connection itself\n",
    "###### - commit => Save all changes"
   ]
  },
  {
   "cell_type": "code",
   "execution_count": null,
   "metadata": {},
   "outputs": [],
   "source": [
    "# import sqlite3\n",
    "import sqlite3\n",
    "\n",
    "# connect to Database:\n",
    "db=sqlite3.connect(\"app.db\")\n",
    "# Setting up the cursor:\n",
    "cr = db.cursor()\n",
    "cr.execute(\"CREATE TABLE IF NOT EXISTS users(user_id INTEGER, name TEXT)\")\n",
    "cr.execute(\"CREATE TABLE IF NOT EXISTS skills (name TEXT , progress INTEGER , user_id INTEGER )\")\n",
    "\n",
    "# Inserting Data \n",
    "# cr.execute(\"INSERT INTO users (user_id,name) VALUES(1,'Ahmed')\")\n",
    "# cr.execute(\"INSERT INTO users (user_id,name) VALUES(2,'Sayed')\")\n",
    "# cr.execute(\"INSERT INTO users (user_id,name) VALUES(3,'Omar')\")\n",
    "my_list=[\"Ahmed\",\"Sayed\",\"Mahmoud\",\"Ali\",\"Kamel\",\"Ibrahim\",\"Sameh\",\"Enas\"]\n",
    "for key,name in enumerate(my_list,start=1):\n",
    "    cr.execute(f\"INSERT INTO users (user_id,name) VALUES({key},'{name}')\")\n",
    "    # Be attention that we have to put my user between '' and unless we will get ERROR\n",
    "\n",
    "# Notice that the insertion was unsuccessful cause\n",
    "# I didnt commit the chnages to Database=> commit\n",
    "# Save Changes => commit\n",
    "db.commit()\n",
    "\n",
    "# Close Database \n",
    "db.close()\n"
   ]
  },
  {
   "cell_type": "markdown",
   "metadata": {},
   "source": [
    "##### Retrieve Data from Database:\n",
    "###### fetchone  => Returns a single record or None if no more rows are avaliable.\n",
    "######  fetchall  => Fetches all the rows of a query result. It returns all the rows as a list of tuples. An empty list is returned if there is no record to fetch.\n",
    "###### fetchmany(size)."
   ]
  },
  {
   "cell_type": "code",
   "execution_count": null,
   "metadata": {},
   "outputs": [],
   "source": [
    "import sqlite3\n",
    "db= sqlite3.connect(\"app.db\")\n",
    "cr= db.cursor()\n",
    "cr.execute(\"create table if not exists users (user_id integer, name text)\")\n",
    "cr.execute(\"create table if not exists skills (name text, progress integer, user_id integer)\")\n",
    "\n",
    "# Fetch Data \n",
    "cr.execute(\"select * from users\")\n",
    "# print(cr.fetchone()) # It retrieves one row \n",
    "# print(cr.fetchone()) # It retrieves one row \n",
    "# print(cr.fetchone()) # It retrieves one row \n",
    "# print(cr.fetchone()) # It retrieves one row \n",
    "# Retrieve all records\n",
    "# print(cr.fetchall())\n",
    "\n",
    "# Retieve number of rows you choose\n",
    "print(cr.fetchmany(8)) # To retrieve the firts 8 lines."
   ]
  },
  {
   "cell_type": "code",
   "execution_count": null,
   "metadata": {},
   "outputs": [],
   "source": []
  },
  {
   "cell_type": "code",
   "execution_count": null,
   "metadata": {},
   "outputs": [],
   "source": []
  }
 ],
 "metadata": {
  "kernelspec": {
   "display_name": "Python 3",
   "language": "python",
   "name": "python3"
  },
  "language_info": {
   "codemirror_mode": {
    "name": "ipython",
    "version": 3
   },
   "file_extension": ".py",
   "mimetype": "text/x-python",
   "name": "python",
   "nbconvert_exporter": "python",
   "pygments_lexer": "ipython3",
   "version": "3.12.0"
  }
 },
 "nbformat": 4,
 "nbformat_minor": 2
}
