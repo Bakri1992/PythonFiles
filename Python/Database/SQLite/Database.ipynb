{
 "cells": [
  {
   "cell_type": "markdown",
   "metadata": {},
   "source": [
    "##### __Databases__:\n",
    "###### - Database Is A Place Where We Can Store Data\n",
    "###### - Database Organized Into Tables (Users, Categories)\n",
    "###### - Tables Has Columns (ID, Username, Password)\n",
    "###### - There's Many Types Of Databases (MongoDB, MySQL, SQLite)\n",
    "###### - SQL Stand For Structured Query Language\n",
    "###### - SQLite => Can Run in Memory or in A Single File\n",
    "###### - You Can Browse File With https://sqlitebrowser.org/\n",
    "###### - Data Inside Database Has Types (Text, Integer, Date)"
   ]
  },
  {
   "cell_type": "markdown",
   "metadata": {},
   "source": [
    "##### Database (Create , connect):"
   ]
  },
  {
   "cell_type": "code",
   "execution_count": null,
   "metadata": {},
   "outputs": [],
   "source": [
    "# First of all we should import the SQLite Module => sqlite3:\n",
    "import sqlite3\n",
    "\n",
    "# Create Database and connect:\n",
    "db= sqlite3.connect(\"app.db\") # We didnt create database yet!"
   ]
  },
  {
   "cell_type": "code",
   "execution_count": null,
   "metadata": {},
   "outputs": [],
   "source": [
    "# Create the tables and attributes(Columns):\n",
    "db.execute(\"CREATE TABLE IF NOT EXISTS skills (name TEXT , progress INTEGER , user_id INTEGER )\")\n",
    "# IF NOT EXITSTS neccessary unless I will get error if the table already exists."
   ]
  },
  {
   "cell_type": "code",
   "execution_count": null,
   "metadata": {},
   "outputs": [],
   "source": [
    "# To close Database\n",
    "db.close()"
   ]
  },
  {
   "cell_type": "markdown",
   "metadata": {},
   "source": [
    "##### Insert Data Into Database:\n",
    "###### - cursor => All operations in SQL done by cursor not connection itself\n",
    "###### - commit => Save all changes"
   ]
  },
  {
   "cell_type": "code",
   "execution_count": null,
   "metadata": {},
   "outputs": [],
   "source": [
    "# import sqlite3\n",
    "import sqlite3\n",
    "\n",
    "# connect to Database:\n",
    "db=sqlite3.connect(\"app.db\")\n",
    "# Setting up the cursor:\n",
    "cr = db.cursor()\n",
    "cr.execute(\"CREATE TABLE IF NOT EXISTS users(user_id INTEGER, name TEXT)\")\n",
    "cr.execute(\"CREATE TABLE IF NOT EXISTS skills (name TEXT , progress INTEGER , user_id INTEGER )\")\n",
    "\n",
    "# Inserting Data \n",
    "# cr.execute(\"INSERT INTO users (user_id,name) VALUES(1,'Ahmed')\")\n",
    "# cr.execute(\"INSERT INTO users (user_id,name) VALUES(2,'Sayed')\")\n",
    "# cr.execute(\"INSERT INTO users (user_id,name) VALUES(3,'Omar')\")\n",
    "my_list=[\"Ahmed\",\"Sayed\",\"Mahmoud\",\"Ali\",\"Kamel\",\"Ibrahim\",\"Sameh\",\"Enas\"]\n",
    "for key,name in enumerate(my_list,start=1):\n",
    "    cr.execute(f\"INSERT INTO users (user_id,name) VALUES({key},'{name}')\")\n",
    "    # Be attention that we have to put my user between '' and unless we will get ERROR\n",
    "\n",
    "# Notice that the insertion was unsuccessful cause\n",
    "# I didnt commit the chnages to Database=> commit\n",
    "# Save Changes => commit\n",
    "db.commit()\n",
    "\n",
    "# Close Database \n",
    "db.close()\n"
   ]
  },
  {
   "cell_type": "markdown",
   "metadata": {},
   "source": [
    "##### Retrieve Data from Database:\n",
    "###### fetchone  => Returns a single record or None if no more rows are avaliable.\n",
    "######  fetchall  => Fetches all the rows of a query result. It returns all the rows as a list of tuples. An empty list is returned if there is no record to fetch.\n",
    "###### fetchmany(size)."
   ]
  },
  {
   "cell_type": "code",
   "execution_count": null,
   "metadata": {},
   "outputs": [],
   "source": [
    "import sqlite3\n",
    "db= sqlite3.connect(\"app.db\")\n",
    "cr= db.cursor()\n",
    "cr.execute(\"create table if not exists users (user_id integer, name text)\")\n",
    "cr.execute(\"create table if not exists skills (name text, progress integer, user_id integer)\")\n",
    "\n",
    "# Fetch Data \n",
    "cr.execute(\"select * from users\")\n",
    "# print(cr.fetchone()) # It retrieves one row \n",
    "# print(cr.fetchone()) # It retrieves one row \n",
    "# print(cr.fetchone()) # It retrieves one row \n",
    "# print(cr.fetchone()) # It retrieves one row \n",
    "# Retrieve all records\n",
    "# print(cr.fetchall())\n",
    "\n",
    "# Retieve number of rows you choose\n",
    "print(cr.fetchmany(8)) # To retrieve the firts 8 lines."
   ]
  },
  {
   "cell_type": "code",
   "execution_count": null,
   "metadata": {},
   "outputs": [],
   "source": [
    "# Full Example with some tricks\n",
    "import sqlite3\n",
    "def get_all_data():\n",
    "\n",
    "    try:\n",
    "        # Connect to Database\n",
    "        db=sqlite3.connect(\"app.db\")\n",
    "        # Print Success Message\n",
    "        print(\"Connected to Database Successfully\")\n",
    "        # Setting up the Cursor\n",
    "        cr =db.cursor()\n",
    "        # Fetch Data From Database\n",
    "        cr.execute(\"SELECT * FROM users\")\n",
    "        # Assign Data to Variable\n",
    "        results = cr.fetchall()  # Notice that every row is a tuple\n",
    "\n",
    "        # Print Number of rows\n",
    "        print(f\"Database has {len(results)} Rows \")\n",
    "\n",
    "        # Printing Message \n",
    "        print(\"Showing Data:\")\n",
    "\n",
    "        # Loop on Results\n",
    "        for row in results:\n",
    "            print(f\"UserID   => {row[0]}\", end=\" \")\n",
    "            print(f\"Username => {row[1]}\")\n",
    "        \n",
    "    except sqlite3.Error as  er:\n",
    "        print(f\"Error Reading Data {er}\")\n",
    "    \n",
    "    finally:\n",
    "        if(db):  # If it was a connection to the database => True\n",
    "        # close database connection\n",
    "            db.close()  \n",
    "            print(\"Connection to Database is closed!\")\n",
    "        \n",
    "\n",
    "get_all_data()\n"
   ]
  },
  {
   "cell_type": "markdown",
   "metadata": {},
   "source": [
    "##### Update & Delete Data From Database:"
   ]
  },
  {
   "cell_type": "code",
   "execution_count": null,
   "metadata": {},
   "outputs": [],
   "source": [
    "import sqlite3\n",
    "# connect to database if not exists create\n",
    "db=sqlite3.connect(\"app.db\")\n",
    "# Setting up the cursor\n",
    "cr=db.cursor()\n",
    "\n",
    "# Update Data \n",
    "# Be careful with update statements cause if we dont specify the row will update the entire column\n",
    "cr.execute(\"update users set name= 'Bakri' where user_id=1\")\n",
    "cr.execute(\"update users set name= 'Jana' where user_id=2\")\n",
    "cr.execute(\"update users set name= 'Koko' where user_id=3\")\n",
    "\n",
    "# Delete Data \n",
    "# Delete the eighth row from the users table\n",
    "cr.execute(\"delete from users where user_id=8\")\n",
    "\n",
    "cr.execute(\"select * from users\")\n",
    "print(cr.fetchall()) # List of tuples of every row\n",
    "\n",
    "db.commit()\n"
   ]
  },
  {
   "cell_type": "markdown",
   "metadata": {},
   "source": [
    "##### Create Skills App:"
   ]
  },
  {
   "cell_type": "code",
   "execution_count": null,
   "metadata": {},
   "outputs": [],
   "source": [
    "\n",
    "\n",
    "# Import SQLite Module\n",
    "db=sqlite3.connect(\"app.db\")  # Connect to the database \n",
    "cr= db.cursor() # Global Variable so we can use inside the method\n",
    "# My User ID\n",
    "uid=1\n",
    "\n",
    "def commit_and_close():\n",
    "    # Save (Commit) Changes \n",
    "    db.commit()\n",
    "    # close database \n",
    "    db.close()\n",
    "    print(\"Connection to database is closed!\")\n",
    "\n",
    "\n",
    "input_message='''What Do you want to Do?\n",
    "\"s\" => Show All Skills\n",
    "\"a\" => Add new Skill\n",
    "\"d\" => Delete A Skill\n",
    "\"u\" => Update Skill Progress\n",
    "\"q\" => Quit the App\n",
    "Choose Option:\n",
    "'''\n",
    "# Input Option choose\n",
    "user_input=input(input_message).strip()\n",
    "\n",
    "# Command List\n",
    "commands_list=[\"s\",\"a\",\"d\",\"u\",\"q\"]\n",
    "\n",
    "# Setup the methods\n",
    "def show_skills():\n",
    "    cr.execute(\"select * from skills\")\n",
    "    results=cr.fetchall()\n",
    "    print(f\"You have {len(results)} Skills.\")\n",
    "    if (len(results)>0):\n",
    "        print(\"The Skills and Progresses:\")\n",
    "    for row in results:\n",
    "        print(f\"Skill => {row[0]}, Progress => {row[1]}%\")\n",
    "    commit_and_close()\n",
    "\n",
    "\n",
    "def add_skill():\n",
    "    sk=input(\"Write Skill Name:\").strip().capitalize()\n",
    "    prog=input(\"Write Skill Progress:\").strip()\n",
    "    cr.execute(f\"insert into skills(name, progress, user_id) values ('{sk}',{prog},{uid})\")\n",
    "    commit_and_close()\n",
    "\n",
    "\n",
    "def delete_skill():\n",
    "    sk=input(\"Write Skill Name:\").strip().capitalize()\n",
    "    cr.execute(\"delete from skills where name='{sk}' and user_id=1\")\n",
    "    commit_and_close()\n",
    "\n",
    "\n",
    "def update_skill():\n",
    "    sk=input(\"Write Skill Name You want to update:\").strip().capitalize()\n",
    "    new_prog=input(\"Write The new Skill Progress:\").strip()\n",
    "    cr.execute(f\"update skills set progress ='{new_prog}' where name='{sk}' and user_id='{uid}'\")\n",
    "    commit_and_close()\n",
    "\n",
    "# Check if command is exists\n",
    "if user_input in commands_list:\n",
    "    # print(f\"Command found: '{user_input}'\")\n",
    "    if user_input==\"s\":\n",
    "        show_skills()\n",
    "    elif user_input==\"a\":\n",
    "        add_skill()\n",
    "    elif user_input==\"d\":\n",
    "        delete_skill()\n",
    "    elif user_input==\"u\":\n",
    "        update_skill()\n",
    "    else:\n",
    "        print(\"App is closed!\")\n",
    "        commit_and_close()\n",
    "else:\n",
    "    print(f\"Sorry This Command '{user_input}' Is Not Found !\")\n",
    "    "
   ]
  },
  {
   "cell_type": "markdown",
   "metadata": {},
   "source": [
    "##### Some Tricks:"
   ]
  },
  {
   "cell_type": "code",
   "execution_count": null,
   "metadata": {},
   "outputs": [],
   "source": [
    "import sqlite3\n",
    "db=sqlite3.connect(\"app.db\")\n",
    "cr= db.cursor()\n",
    "# Notice that the next two lines are equla I dont have to specify the columns when\n",
    "# I insert to all columns\n",
    "cr.execute(\"insert into skills values('Pascal',88,2)\")\n",
    "cr.execute(\"insert into skills(name,progress, user_id) values('Pascal',88,2)\")\n",
    "\n",
    "# We can use a place holder to my data \n",
    "my_tuple=('Java',20,1)\n",
    "cr.execute(\"insert into skills values(?,?,?)\", my_tuple)\n",
    "# The Value in my_tuple(second arg) will be filled into (?,?,?)"
   ]
  },
  {
   "cell_type": "code",
   "execution_count": null,
   "metadata": {},
   "outputs": [],
   "source": []
  },
  {
   "cell_type": "code",
   "execution_count": null,
   "metadata": {},
   "outputs": [],
   "source": []
  }
 ],
 "metadata": {
  "kernelspec": {
   "display_name": "Python 3",
   "language": "python",
   "name": "python3"
  },
  "language_info": {
   "codemirror_mode": {
    "name": "ipython",
    "version": 3
   },
   "file_extension": ".py",
   "mimetype": "text/x-python",
   "name": "python",
   "nbconvert_exporter": "python",
   "pygments_lexer": "ipython3",
   "version": "3.12.0"
  }
 },
 "nbformat": 4,
 "nbformat_minor": 2
}
