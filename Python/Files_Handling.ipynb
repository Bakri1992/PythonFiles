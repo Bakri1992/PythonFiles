{
 "cells": [
  {
   "cell_type": "markdown",
   "metadata": {},
   "source": [
    "##### Files Handling:\n",
    "######  \"a\" Append Open File For Appending Values, Create File if not exists\n",
    "###### \"r\" Read [Deafaul Value] Open File for read and give error if file isnt exists\n",
    "###### \"w\" Write open File for writing, Create File if not exists\n",
    "###### \"x\" Create Create File, give Error if file exists. "
   ]
  },
  {
   "cell_type": "code",
   "execution_count": null,
   "metadata": {},
   "outputs": [],
   "source": [
    "import os       # import os and use getcwd() to my current working directory\n",
    "wd=os.getcwd()\n",
    "print(wd)\n",
    "print(os.path.abspath(\"soso.txt\")) # return the absolut path \n",
    "print(os.path.dirname(wd))\n",
    "# file = open(\"soso.txt\")\n",
    "# print(file.read())\n",
    "\n"
   ]
  },
  {
   "cell_type": "code",
   "execution_count": null,
   "metadata": {},
   "outputs": [],
   "source": [
    "# How to opne file in Python\n",
    "file= open(\"C:/pf/myfiles/man.txt\" ) # I will be by default in read mode\n",
    "# Make sure that u will get an error if you read non-existing-file.\n",
    "# Run to see the error"
   ]
  },
  {
   "cell_type": "code",
   "execution_count": null,
   "metadata": {},
   "outputs": [],
   "source": [
    "# Imagine that I got File its name starts with n\n",
    "file=r\"Hallo\\nana\" # We can ignore the scaping by putting r before my string\n",
    "                   # which means its a raw string.\n",
    "print(file)"
   ]
  },
  {
   "cell_type": "markdown",
   "metadata": {},
   "source": [
    "##### Read File:"
   ]
  },
  {
   "cell_type": "code",
   "execution_count": null,
   "metadata": {},
   "outputs": [],
   "source": [
    "# Read File\n",
    "f=open(\"/pf/myfiles/nfiles/koko.txt\",\"r\") # its by default r => read \n",
    "# If u print myfile\n",
    "print(f) # File Data object\n",
    "# It has like three elements name, mode, encoding\n",
    "print(f.name)\n",
    "print(f.mode)\n",
    "print(f.encoding)\n",
    "# To get inside the File and print its content\n",
    "# print(myfile.read())\n",
    "# To read choosed number of chars of that file\n",
    "print(f.read(3)) # it will read the first three chars\n",
    "print(f.read(2)) # it will read the next two chars char[3],char[4]\n"
   ]
  },
  {
   "cell_type": "code",
   "execution_count": null,
   "metadata": {},
   "outputs": [],
   "source": [
    "# we can read line by line\n",
    "f= open(\"C:/pf/myfiles/nfiles/koko.txt\")\n",
    "\n",
    "print(f.readline().strip())\n",
    "print(f.readline().strip())\n",
    "print(f.readline().strip())"
   ]
  },
  {
   "cell_type": "code",
   "execution_count": null,
   "metadata": {},
   "outputs": [],
   "source": [
    "# I have sth called readlines it split my lines into a list\n",
    "f= open(\"C:/pf/myfiles/nfiles/koko.txt\")\n",
    "for line in f.readlines():\n",
    "    print(line.strip())\n"
   ]
  },
  {
   "cell_type": "code",
   "execution_count": null,
   "metadata": {},
   "outputs": [],
   "source": [
    "# Best Practise whenever you have finished working with file just close it\n",
    "f.close()"
   ]
  },
  {
   "cell_type": "markdown",
   "metadata": {},
   "source": [
    "##### Write and Append in Files:"
   ]
  },
  {
   "cell_type": "code",
   "execution_count": null,
   "metadata": {},
   "outputs": [],
   "source": [
    "myfile=open(\"C:/pf/myfiles/myfile.txt\",\"w\") \n",
    "# If the file not there it will be created \n",
    "myfile.write(\"I just created this file using the write mode\\n\")\n",
    "myfile.write(\"I would like to master the python language\")\n",
    "myfile.close()\n",
    "# In write mode if we write to the file again the old content will be deleted\n",
    "# And the content will be added\n",
    "\n",
    "f= open(\"C:/pf/myfiles/funtry.txt\",\"w\")\n",
    "f.write(\"Hallo Habibi\\n\" * 1000) # it will print me this line 1000 times.\n",
    "\n",
    "# We have writelines() it requires a bunch of lines in a list.\n",
    "mylst=[\"I am Bakri\\n\",\n",
    "       \"I am 31 years old\\n\",\n",
    "       \"I would like to get married as soon as possible\\n\"\n",
    "      ]\n",
    "f2=open(\"C:/pf/myfiles/bakri.txt\",\"w\")\n",
    "f2.writelines(mylst)"
   ]
  },
  {
   "cell_type": "markdown",
   "metadata": {},
   "source": [
    "##### Append Mode:\n",
    "###### we use this mode to append my content without losing the old one.\n"
   ]
  },
  {
   "cell_type": "code",
   "execution_count": null,
   "metadata": {},
   "outputs": [],
   "source": [
    "f3=open(\"C:/pf/myfiles/bakri.txt\",\"w\")\n",
    "f3.write(\"I added this line using the append line\\n\")\n",
    "\n"
   ]
  },
  {
   "cell_type": "markdown",
   "metadata": {},
   "source": [
    " ##### Open Files using context manager:"
   ]
  },
  {
   "cell_type": "code",
   "execution_count": null,
   "metadata": {},
   "outputs": [],
   "source": [
    "# If we open the File the former way we have to close it.\n",
    "# To avoid this:\n",
    "with open(\"/pf/myfiles/bakri.txt\",\"r\") as f:\n",
    "    print(f.read())\n",
    "# we dont have to close the file here it will be closed automatically after work\n",
    "print(f.closed) # it check if my file closed or not!\n",
    "# print(f.read()) \n",
    "# it we run that we will get error cause we cant read from closed files\n",
    "# So we have to work with this file from within this context manager."
   ]
  },
  {
   "cell_type": "code",
   "execution_count": null,
   "metadata": {},
   "outputs": [],
   "source": [
    "# We can simply iterate over line using for loops\n",
    "with open(\"/pf/myfiles/bakri.txt\",\"r\") as f:\n",
    "        for line in f:\n",
    "            print(line,end=\"\")\n",
    "# we use end here to remove \\n inside my # my print statement\n",
    "\n"
   ]
  },
  {
   "cell_type": "code",
   "execution_count": null,
   "metadata": {},
   "outputs": [],
   "source": [
    "# Within read() we can pass the size(bytes) I want to read inside the read\n",
    "with open(\"/pf/myfiles/bakri.txt\",\"r\") as f:\n",
    "        print(f.read(5))\n",
    "        print(f.read(5))\n",
    "        print(f.read(5))\n",
    "        # Byte = Char\n",
    "        "
   ]
  },
  {
   "cell_type": "markdown",
   "metadata": {},
   "source": [
    "##### How to read File using chunk-Tactic:"
   ]
  },
  {
   "cell_type": "code",
   "execution_count": null,
   "metadata": {},
   "outputs": [],
   "source": [
    "with open(\"/pf/myfiles/bakri.txt\") as f:\n",
    "    size_to_read=10\n",
    "    f_content=f.read(size_to_read)\n",
    "    while len(f_content)>0:\n",
    "        print(f_content.strip()) # until here it causes me an infinite loop\n",
    "        print(f.tell()) # This tell me where is the current position of cursor\n",
    "        # We added here * to follow the while loop\n",
    "        f_content=f.read(size_to_read)\n",
    "        "
   ]
  },
  {
   "cell_type": "code",
   "execution_count": 44,
   "metadata": {},
   "outputs": [
    {
     "name": "stdout",
     "output_type": "stream",
     "text": [
      "I am Bakri\n",
      " Badet Im \n",
      "20\n",
      "I am Bakri\n",
      "10\n",
      "ld I would\n"
     ]
    }
   ],
   "source": [
    "# To see the current position              => f.tell()\n",
    "# To manipulate my current cursor position => f.seek()\n",
    "with open(\"/pf/myfiles/bakri.txt\",\"r\") as f:\n",
    "    print(f.read(10))\n",
    "    print(f.read(10))\n",
    "    print(f.tell()) # My current cursor position is 20\n",
    "    # I want to change my cursors position to the beginnig of my file\n",
    "    f.seek(0)\n",
    "    print(f.read(10))\n",
    "    print(f.tell())\n",
    "    f.seek(30)\n",
    "    print(f.read(10))\n",
    "\n",
    "\n"
   ]
  },
  {
   "cell_type": "code",
   "execution_count": 50,
   "metadata": {},
   "outputs": [],
   "source": [
    "# We can use seek by writing files\n",
    "with open(\"/pf/myfiles/try.txt\",\"w\") as f :\n",
    "    f.write(\"Bakri\")\n",
    "    f.seek(0)\n",
    "    f.write(\"Sa\") # Now the Ba will be overwritten with Sa\n",
    "    \n"
   ]
  },
  {
   "cell_type": "code",
   "execution_count": 52,
   "metadata": {},
   "outputs": [],
   "source": [
    "# Lets copy a file using read and write at the same time\n",
    "with open(\"/pf/myfiles/bakri.txt\",\"r\") as fr:\n",
    "    with open(\"/pf/myfiles/bakri_test.txt\",\"w\") as fw:\n",
    "        for line in fr:\n",
    "            fw.write(line)\n",
    "    "
   ]
  },
  {
   "cell_type": "code",
   "execution_count": null,
   "metadata": {},
   "outputs": [],
   "source": []
  }
 ],
 "metadata": {
  "kernelspec": {
   "display_name": "Python 3",
   "language": "python",
   "name": "python3"
  },
  "language_info": {
   "codemirror_mode": {
    "name": "ipython",
    "version": 3
   },
   "file_extension": ".py",
   "mimetype": "text/x-python",
   "name": "python",
   "nbconvert_exporter": "python",
   "pygments_lexer": "ipython3",
   "version": "3.12.0"
  }
 },
 "nbformat": 4,
 "nbformat_minor": 2
}
