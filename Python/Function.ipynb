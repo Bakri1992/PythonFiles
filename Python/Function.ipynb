{
 "cells": [
  {
   "cell_type": "markdown",
   "metadata": {},
   "source": [
    "##### Function And Return:\n",
    "###### [1] A Function is a reusable block of code which deos a task.\n",
    "###### [2] A Function run when you call it.\n",
    "###### [3] A Function accepts element to deal with called **Parameters**.\n",
    "###### [4] A Function can do the taks without returning data.\n",
    "###### [5] A Function can return Data after job is finished.\n",
    "###### [6] A Function create to prevent DRY(Dont repeat yourself).\n",
    "###### [7] A Function accepts Elements whey ypu call it called **Arguments**.\n",
    "###### [8] There are a built-in functions and user defined functions.\n",
    "###### [9] A Function is for all team and all apps."
   ]
  },
  {
   "cell_type": "code",
   "execution_count": null,
   "metadata": {},
   "outputs": [],
   "source": [
    "# define a function\n",
    "def function_name():\n",
    "    print(\"Hallo koko\")\n",
    "function_name() \n",
    "# Function should be called"
   ]
  },
  {
   "cell_type": "code",
   "execution_count": null,
   "metadata": {},
   "outputs": [],
   "source": [
    "name1,name2,name3=\"Bakri\",\"Omar\",\"Jana\"\n",
    "def say_hello(name):\n",
    "    print(f\"Hello {name}\")\n",
    "say_hello(name1)\n",
    "say_hello(name2)\n",
    "say_hello(name3)"
   ]
  },
  {
   "cell_type": "markdown",
   "metadata": {},
   "source": [
    "##### Function Packing and Unpacking Arguments:"
   ]
  },
  {
   "cell_type": "code",
   "execution_count": null,
   "metadata": {},
   "outputs": [],
   "source": [
    "mylist=[1,2,3,4]\n",
    "print(mylist)  # It will print the list\n",
    "print(*mylist) # it will print the elements of list"
   ]
  },
  {
   "cell_type": "code",
   "execution_count": null,
   "metadata": {},
   "outputs": [],
   "source": [
    "def hello_names(*names): #with this *names I dont have to specify the number of Argumnets\n",
    "    for name in names:\n",
    "        print(f\"Hello {name}\")\n",
    "hello_names(\"Koko\",\"Foo\")\n",
    "names=[\"Bakri\",\"omar\",\"Jana\",\"Soso\"]\n",
    "print(*names) # it will here unpack the \n",
    "hello_names(names)"
   ]
  },
  {
   "cell_type": "code",
   "execution_count": null,
   "metadata": {},
   "outputs": [],
   "source": [
    "def show_details(name, *skills):\n",
    "    print(f\" Hello {name} your skills are:\")\n",
    "    for skill in skills:\n",
    "        print(f\"-{skill}\")\n",
    "show_details(\"Bakri\",\"python\",\"R\",\"Pandas\",\"Data Analysis\")\n"
   ]
  },
  {
   "cell_type": "markdown",
   "metadata": {},
   "source": [
    "##### Default Parameters:"
   ]
  },
  {
   "cell_type": "code",
   "execution_count": null,
   "metadata": {},
   "outputs": [],
   "source": [
    "def say_hello(name,age, country=\"Syria\"): # country here is default value\n",
    "   print(f\"Hello {name.strip()} Your Age is {age} and your Country is {country}\")\n",
    "say_hello(\"Omar\",\"21\",\"Egypt\")\n",
    "say_hello(\"Bakri\",\"31\")\n",
    "say_hello(\"Jana\",\"11\",\"Bahrain\")\n",
    "# Note: default value must be last parameters"
   ]
  },
  {
   "cell_type": "markdown",
   "metadata": {},
   "source": [
    "##### Fuction Packing, Unpacking Arguments **KWArgs:"
   ]
  },
  {
   "cell_type": "code",
   "execution_count": null,
   "metadata": {},
   "outputs": [],
   "source": [
    "# KWArgs ==> key, word argument ==> Dictionary\n",
    "def show_skills(**skills):\n",
    "    print(type(skills))\n",
    "    for skill,value in skills.items():\n",
    "        print(f\"{skill} => {value}\")\n",
    "show_skills(Python=\"50%\",Pandas=\"30%\",ML=\"10%\")"
   ]
  },
  {
   "cell_type": "code",
   "execution_count": null,
   "metadata": {},
   "outputs": [],
   "source": [
    "myskills={\n",
    "    \"C++\":\"40%\",\n",
    "    \"Python\":\"50%\",\n",
    "    \"Pandas\":\"50%\",\n",
    "    \"Postgres\":\"50%\"\n",
    "}\n",
    "show_skills(**myskills)"
   ]
  },
  {
   "cell_type": "code",
   "execution_count": null,
   "metadata": {},
   "outputs": [],
   "source": [
    " # Trainig Packing and Unpacking\n",
    "myskills={\n",
    "    \"C++\":\"40%\",\n",
    "    \"Python\":\"50%\",\n",
    "    \"Pandas\":\"50%\",\n",
    "    \"Postgres\":\"50%\"\n",
    "}\n",
    "\n",
    "def show_skills(name,*skills,**skillWithprogress):\n",
    "    print(f\"Hello {name} your skills are:\")\n",
    "    for skill in skills:\n",
    "        pritn(f\"-{skill}\")\n",
    "    for skill,progress in skillWithprogress.items():\n",
    "        print(f\"{skill} ==> {progress}\")\n",
    "show_skills(\"Bakri\")# We notice we can call the function without passing args\n",
    "                    # for *skills & **skillWithprogress\n",
    "                    # I told python that I dont know the number of *skills \n",
    "                    # So it could be 0\n",
    "show_skills(\"Bakri\",**myskills)\n",
    "# To unpack tuple & list use ==> *\n",
    "# To unpack Dict use         ==> **     "
   ]
  },
  {
   "cell_type": "markdown",
   "metadata": {},
   "source": [
    "##### Function Scope:"
   ]
  },
  {
   "cell_type": "code",
   "execution_count": 76,
   "metadata": {},
   "outputs": [
    {
     "name": "stdout",
     "output_type": "stream",
     "text": [
      "My Variable from my Global Scope = 1\n",
      "<class 'int'>\n",
      "My local value = 2\n",
      "1\n",
      "1\n",
      "My local val here is global val cause I put global x within my function\n",
      "2121\n"
     ]
    }
   ],
   "source": [
    "x=1 # Global Scope\n",
    "print(f\"My Variable from my Global Scope = {x}\")\n",
    "print(type(x))\n",
    "def local_scope():\n",
    "    x=2\n",
    "    print(f\"My local value = {x}\")\n",
    "local_scope()\n",
    "print(x)\n",
    "def koko():\n",
    "    print(x)\n",
    "koko() #We notice here that the function get the global value when is no local val\n",
    "def global_from_local():\n",
    "    global x\n",
    "    x=2121\n",
    "    print(f\"My local val here is global val cause I put global x within my function\")\n",
    "global_from_local()\n",
    "print(x)"
   ]
  },
  {
   "cell_type": "markdown",
   "metadata": {},
   "source": [
    "##### Recursion:\n",
    "###### To Unsderstand Recursion, You need first understand Recursion."
   ]
  },
  {
   "cell_type": "code",
   "execution_count": 86,
   "metadata": {},
   "outputs": [
    {
     "name": "stdout",
     "output_type": "stream",
     "text": [
      "World\n"
     ]
    }
   ],
   "source": [
    "# Its really very nice example of recusrsion function\n",
    "x=\"WWWoooorrrrldd\"\n",
    "def cleanword(word):\n",
    "    \n",
    "    if len(word)==1:\n",
    "        return word\n",
    "    if word[0]==word[1]:\n",
    "        return cleanword(word[1:])\n",
    "    return word[0] + cleanword(word[1:])\n",
    "print(cleanword(x))"
   ]
  },
  {
   "cell_type": "markdown",
   "metadata": {},
   "source": [
    "##### Lambda Functions:\n",
    "###### [1] it has No name.\n",
    "###### [2] You can call it inline without defing it.\n",
    "###### [3] You can use it in return data from another function.\n",
    "###### [4] Lambda used for simple functions and def handle the large tasks.\n",
    "###### [5] Lambda is one single expression not block of code.\n",
    "###### [6] Lambda Type is function."
   ]
  },
  {
   "cell_type": "code",
   "execution_count": 94,
   "metadata": {},
   "outputs": [
    {
     "name": "stdout",
     "output_type": "stream",
     "text": [
      "Hello koko\n",
      "Hello Koko\n",
      "Hello Bakri your age is 31\n",
      "say_hello\n",
      "<lambda>\n"
     ]
    }
   ],
   "source": [
    "def say_hello(name):\n",
    "    return f\"Hello {name}\"\n",
    "print(say_hello(\"koko\"))\n",
    "# To define a lambda function we can do the following:\n",
    "hello= lambda name: f\"Hello {name}\"\n",
    "# The name after lambda is my parameter\n",
    "# : f\"Hello {name}\" it means return the result of this\n",
    "print(hello(\"Koko\"))\n",
    "hello= lambda name,age: f\"Hello {name} your age is {age}\"\n",
    "print(hello(\"Bakri\",31))\n",
    "print(say_hello.__name__)\n",
    "print(hello.__name__) # result is <lambda> that means it has no name"
   ]
  },
  {
   "cell_type": "code",
   "execution_count": null,
   "metadata": {},
   "outputs": [],
   "source": []
  }
 ],
 "metadata": {
  "kernelspec": {
   "display_name": "Python 3",
   "language": "python",
   "name": "python3"
  },
  "language_info": {
   "codemirror_mode": {
    "name": "ipython",
    "version": 3
   },
   "file_extension": ".py",
   "mimetype": "text/x-python",
   "name": "python",
   "nbconvert_exporter": "python",
   "pygments_lexer": "ipython3",
   "version": "3.12.0"
  }
 },
 "nbformat": 4,
 "nbformat_minor": 2
}
