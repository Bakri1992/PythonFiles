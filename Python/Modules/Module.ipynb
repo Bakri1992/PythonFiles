{
 "cells": [
  {
   "cell_type": "markdown",
   "metadata": {},
   "source": [
    "##### How to import a modul:"
   ]
  },
  {
   "cell_type": "code",
   "execution_count": null,
   "metadata": {},
   "outputs": [],
   "source": [
    "import random"
   ]
  },
  {
   "cell_type": "markdown",
   "metadata": {},
   "source": [
    "##### To Know what is inside this Modul:"
   ]
  },
  {
   "cell_type": "code",
   "execution_count": null,
   "metadata": {},
   "outputs": [],
   "source": [
    "\n",
    "print(dir(random))"
   ]
  },
  {
   "cell_type": "code",
   "execution_count": null,
   "metadata": {},
   "outputs": [],
   "source": [
    "print(random)# This will print me where is the modul path in my python file\n",
    "print(random.random()) # This will print float random number"
   ]
  },
  {
   "cell_type": "markdown",
   "metadata": {},
   "source": [
    "##### We can import a specific function from my Modul:"
   ]
  },
  {
   "cell_type": "code",
   "execution_count": null,
   "metadata": {},
   "outputs": [],
   "source": [
    "from random import randint\n",
    "print(randint(1,100)) # Here I just imported randint from my modul!\n",
    "                      # So I can directly use this function\n",
    "                      # Using random.randint(p,q) will cause me error\n"
   ]
  },
  {
   "cell_type": "code",
   "execution_count": null,
   "metadata": {},
   "outputs": [],
   "source": [
    "# I can Import all functions or many from a modul\n",
    "from requests import get , head"
   ]
  },
  {
   "cell_type": "code",
   "execution_count": null,
   "metadata": {},
   "outputs": [],
   "source": [
    "# To import all \n",
    "from requests import * # == import requests\n"
   ]
  },
  {
   "cell_type": "markdown",
   "metadata": {},
   "source": [
    "##### How to create your own module?"
   ]
  },
  {
   "cell_type": "code",
   "execution_count": 1,
   "metadata": {},
   "outputs": [
    {
     "name": "stdout",
     "output_type": "stream",
     "text": [
      "['__builtins__', '__cached__', '__doc__', '__file__', '__loader__', '__name__', '__package__', '__spec__', 'koko', 'print_Hallo']\n"
     ]
    }
   ],
   "source": [
    "# I created a file called mymodul I wrote a function in it then I imported here\n",
    "import mymodul\n",
    "print(dir(mymodul))"
   ]
  },
  {
   "cell_type": "code",
   "execution_count": 2,
   "metadata": {},
   "outputs": [
    {
     "name": "stdout",
     "output_type": "stream",
     "text": [
      "I Love my friend Bakri\n"
     ]
    }
   ],
   "source": [
    "mymodul.koko(\"bakri\")"
   ]
  },
  {
   "cell_type": "markdown",
   "metadata": {},
   "source": [
    "##### We can import the Module with alias name:\n"
   ]
  },
  {
   "cell_type": "code",
   "execution_count": 2,
   "metadata": {},
   "outputs": [],
   "source": [
    "import mymodul as mm\n"
   ]
  },
  {
   "cell_type": "code",
   "execution_count": 3,
   "metadata": {},
   "outputs": [
    {
     "name": "stdout",
     "output_type": "stream",
     "text": [
      "Hallo, World!\n"
     ]
    }
   ],
   "source": [
    "mm.print_Hallo()"
   ]
  },
  {
   "cell_type": "code",
   "execution_count": 4,
   "metadata": {},
   "outputs": [],
   "source": [
    "# Import a function from my module with alias name\n",
    "from mymodul import print_Hallo as ph"
   ]
  },
  {
   "cell_type": "code",
   "execution_count": 6,
   "metadata": {},
   "outputs": [
    {
     "name": "stdout",
     "output_type": "stream",
     "text": [
      "Hallo, World!\n"
     ]
    }
   ],
   "source": [
    "ph()"
   ]
  },
  {
   "cell_type": "markdown",
   "metadata": {},
   "source": [
    "##### Install External Packages:\n",
    "###### [1] Module is a single file & Package is a set of modules\n",
    "###### [2] External Packages downloaded from the internet\n",
    "###### [3] You can install packages with python package Manager pip\n",
    "###### [4] pip install the packages and its dependencies\n",
    "###### [5] Modules List \"https://docs.python.org/3/py-modindex.html\"\n",
    "###### [6] Packages and Modules Directory \"https://pypi.org/\"\n",
    "###### [7] PIP Manual \"https://pip.pypa.io/en/stable/cli/pip_install/\""
   ]
  },
  {
   "cell_type": "code",
   "execution_count": 10,
   "metadata": {},
   "outputs": [],
   "source": [
    "# To check if we have the pip or which version. \n",
    "# we can use in the terminal pip --version.\n",
    "# To list which packages we got pip list.\n",
    "# To install the package we use pip install package1_name package2_name ....\n",
    "# we can specify which version I need ==> pip install pyfiglet==1.0.4\n",
    "# we can specify a version above specific version ==> pip install pyfiglet>=1.0.4\n",
    "# To upgrade a package ==> pip install pip --upgrade\n"
   ]
  },
  {
   "cell_type": "code",
   "execution_count": 8,
   "metadata": {},
   "outputs": [
    {
     "name": "stdout",
     "output_type": "stream",
     "text": [
      " ____        _         _   ____            _      _   \n",
      "| __ )  __ _| | ___ __(_) | __ )  __ _  __| | ___| |_ \n",
      "|  _ \\ / _` | |/ / '__| | |  _ \\ / _` |/ _` |/ _ \\ __|\n",
      "| |_) | (_| |   <| |  | | | |_) | (_| | (_| |  __/ |_ \n",
      "|____/ \\__,_|_|\\_\\_|  |_| |____/ \\__,_|\\__,_|\\___|\\__|\n",
      "                                                      \n",
      "\n",
      "\u001b[32m ____        _         _   ____            _      _   \n",
      "| __ )  __ _| | ___ __(_) | __ )  __ _  __| | ___| |_ \n",
      "|  _ \\ / _` | |/ / '__| | |  _ \\ / _` |/ _` |/ _ \\ __|\n",
      "| |_) | (_| |   <| |  | | | |_) | (_| | (_| |  __/ |_ \n",
      "|____/ \\__,_|_|\\_\\_|  |_| |____/ \\__,_|\\__,_|\\___|\\__|\n",
      "                                                      \n",
      "\u001b[0m\n"
     ]
    }
   ],
   "source": [
    "# Lets import the installed packages:\n",
    "import termcolor\n",
    "import pyfiglet\n",
    "# print(dir(pyfiglet))\n",
    "# print(dir(termcolor))\n",
    "print(pyfiglet.figlet_format(\"Bakri Badet\"))\n",
    "print(termcolor.colored(pyfiglet.figlet_format(\"Bakri Badet\"),color=\"green\"))\n"
   ]
  },
  {
   "cell_type": "code",
   "execution_count": null,
   "metadata": {},
   "outputs": [],
   "source": []
  }
 ],
 "metadata": {
  "kernelspec": {
   "display_name": "Python 3",
   "language": "python",
   "name": "python3"
  },
  "language_info": {
   "codemirror_mode": {
    "name": "ipython",
    "version": 3
   },
   "file_extension": ".py",
   "mimetype": "text/x-python",
   "name": "python",
   "nbconvert_exporter": "python",
   "pygments_lexer": "ipython3",
   "version": "3.12.0"
  }
 },
 "nbformat": 4,
 "nbformat_minor": 2
}
