{
 "cells": [
  {
   "cell_type": "markdown",
   "metadata": {},
   "source": [
    "##### Image Manipulation with Pillow:"
   ]
  },
  {
   "cell_type": "code",
   "execution_count": 1,
   "metadata": {},
   "outputs": [],
   "source": [
    "# First of all we have to install this module => pip install Pillow\n",
    "from PIL import Image"
   ]
  },
  {
   "cell_type": "code",
   "execution_count": 2,
   "metadata": {},
   "outputs": [],
   "source": [
    "# Open The Image\n",
    "myImage= Image.open(\"C:/myimage.jpg\") # path of my image."
   ]
  },
  {
   "cell_type": "code",
   "execution_count": 3,
   "metadata": {},
   "outputs": [],
   "source": [
    "# Show the Image\n",
    "myImage.show()"
   ]
  },
  {
   "cell_type": "code",
   "execution_count": 4,
   "metadata": {},
   "outputs": [
    {
     "data": {
      "text/plain": [
       "'\\n# Define the region to crop (left, upper, right, lower)\\nleft = 100\\nupper = 100\\nright = 300\\nlower = 300\\nleft: The x-coordinate of the left edge of the rectangular region.\\nupper: The y-coordinate of the upper edge of the rectangular region.\\nright: The x-coordinate of the right edge of the rectangular region.\\nlower: The y-coordinate of the lower edge of the rectangular region.\\n'"
      ]
     },
     "execution_count": 4,
     "metadata": {},
     "output_type": "execute_result"
    }
   ],
   "source": [
    "# My cropped image \n",
    "myBox=(0,0,400,400) # how many pixels at each point!\n",
    "myNewImage=myImage.crop(myBox)\n",
    "# show the new image\n",
    "myNewImage.show()\n",
    "'''\n",
    "# Define the region to crop (left, upper, right, lower)\n",
    "left = 100\n",
    "upper = 100\n",
    "right = 300\n",
    "lower = 300\n",
    "left: The x-coordinate of the left edge of the rectangular region.\n",
    "upper: The y-coordinate of the upper edge of the rectangular region.\n",
    "right: The x-coordinate of the right edge of the rectangular region.\n",
    "lower: The y-coordinate of the lower edge of the rectangular region.\n",
    "'''"
   ]
  },
  {
   "cell_type": "markdown",
   "metadata": {},
   "source": [
    "##### To get further information about Pillow:\n",
    "###### Visit the Website https://pillow.readthedocs.io and read the documentation"
   ]
  },
  {
   "cell_type": "markdown",
   "metadata": {},
   "source": []
  }
 ],
 "metadata": {
  "kernelspec": {
   "display_name": "Python 3",
   "language": "python",
   "name": "python3"
  },
  "language_info": {
   "codemirror_mode": {
    "name": "ipython",
    "version": 3
   },
   "file_extension": ".py",
   "mimetype": "text/x-python",
   "name": "python",
   "nbconvert_exporter": "python",
   "pygments_lexer": "ipython3",
   "version": "3.12.0"
  }
 },
 "nbformat": 4,
 "nbformat_minor": 2
}
