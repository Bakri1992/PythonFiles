{
 "cells": [
  {
   "cell_type": "code",
   "execution_count": null,
   "metadata": {},
   "outputs": [],
   "source": [
    "import os"
   ]
  },
  {
   "cell_type": "code",
   "execution_count": null,
   "metadata": {},
   "outputs": [],
   "source": [
    "# To list all attributes and methods that we have access with the modules\n",
    "print(dir(os))\n",
    "\n",
    "# To print the current working dierectory\n",
    "print(os.getcwd())\n",
    "\n",
    "# To cahnge my current working directory\n",
    "os.chdir(\"C:/C++ ElZero/\")\n",
    "print(os.getcwd())\n",
    "\n",
    "# Since I am now in my new current dierctory so I can create files within my file\n",
    "with open(\"kalb.txt\",\"w\") as file:\n",
    "    file.write(\"Hallo Habiib\")\n",
    "\n"
   ]
  },
  {
   "cell_type": "code",
   "execution_count": null,
   "metadata": {},
   "outputs": [],
   "source": [
    "# To list the files and folders in my current directory \n",
    "\n",
    "print(os.listdir()) # its by default my current directory\n",
    "\n",
    "# We can pass a path to my listdir\n",
    "\n",
    "print(os.listdir(\"C:/pf/\"))\n",
    "\n",
    "\n",
    "\n"
   ]
  },
  {
   "cell_type": "code",
   "execution_count": null,
   "metadata": {},
   "outputs": [],
   "source": [
    "# To create new directory in my current working directory\n",
    "\n",
    "os.mkdir(\"omarhabibi\")   # we put inside the file_name\n",
    "\n",
    "# To create nested Directories we need makedirs \n",
    "\n",
    "os.makedirs(\"Bakri/Abdulkader/Badet\") \n",
    "\n",
    "# Notice: Make sure that you will get an error if the directory already exists.\n",
    "print(os.listdir())"
   ]
  },
  {
   "cell_type": "code",
   "execution_count": null,
   "metadata": {},
   "outputs": [],
   "source": [
    "# To remove Folder\n",
    "os.rmdir(\"omarhabibi\")\n",
    "\n",
    "# To remove nested folders\n",
    "\n",
    "os.removedirs(\"Bakri/Abdulkader/Badet\")\n"
   ]
  },
  {
   "cell_type": "code",
   "execution_count": null,
   "metadata": {},
   "outputs": [],
   "source": [
    "# To rename File => os.rename(old_name, new_name)\n",
    "print(os.listdir())\n",
    "os.rename(\"kalb.txt\",\"bagel.txt\")"
   ]
  },
  {
   "cell_type": "code",
   "execution_count": null,
   "metadata": {},
   "outputs": [],
   "source": [
    "# # To get some information about ur file\n",
    "# print(os.stat(\"bagel.txt\")) # st_size gives us the Size in bytes\n",
    "# print(os.stat(\"bagel.txt\").st_mtime) # prints the modify time\n",
    "# # To make the modify time human readable we use:\n",
    "from datetime import datetime\n",
    "mod_time=os.stat(\"bagel.txt\").st_mtime\n",
    "print(datetime.fromtimestamp(mod_time))\n",
    "# It will printe the modify time of my File \n",
    "\n"
   ]
  },
  {
   "cell_type": "markdown",
   "metadata": {},
   "source": [
    "##### os.walk():\n",
    "###### The walk() function returns a generator object from which to get tuples. Each tuple \"describes\" one subdirectory from the directory tree passed to the function."
   ]
  },
  {
   "cell_type": "code",
   "execution_count": null,
   "metadata": {},
   "outputs": [],
   "source": [
    "tree = os.walk(\"C:/hd_a/\")\n",
    "print(tree)\n",
    "for i in tree :# tree elements are tuples and every tuples has three elements.\n",
    "    print(i)   # Every i is a tuple that contaains three elements."
   ]
  },
  {
   "cell_type": "code",
   "execution_count": null,
   "metadata": {},
   "outputs": [],
   "source": [
    "# Every Element is os.walk is a tuple from three elements \n",
    "# First Element is the current path of my File\n",
    "# Second Element is the directories within that directory/file\n",
    "# Third Element is Files within that directory/file\n",
    "for dirpath, dirnames, filenames in os.walk(\"C:/hd_a/projekt/\"):\n",
    "    print(\"Current Path: \",dirpath)\n",
    "    print(\"Directories: \",dirnames)\n",
    "    print(\"Files: \",filenames)"
   ]
  },
  {
   "cell_type": "markdown",
   "metadata": {},
   "source": [
    "##### Environment Variables => os.environ"
   ]
  },
  {
   "cell_type": "code",
   "execution_count": 10,
   "metadata": {},
   "outputs": [
    {
     "name": "stdout",
     "output_type": "stream",
     "text": [
      "None\n"
     ]
    }
   ],
   "source": [
    "# print(os.environ)\n",
    "print(os.environ.get(\"Home\"))"
   ]
  },
  {
   "cell_type": "code",
   "execution_count": 13,
   "metadata": {},
   "outputs": [
    {
     "name": "stdout",
     "output_type": "stream",
     "text": [
      "C:/elzeropython/koko.txt\n"
     ]
    }
   ],
   "source": [
    "# To join like two path together we use => os.path.join(path1,path2)\n",
    "file_path=os.path.join(\"C:/elzeropython/\",\"koko.txt\")\n",
    "print(file_path)"
   ]
  },
  {
   "cell_type": "code",
   "execution_count": 20,
   "metadata": {},
   "outputs": [],
   "source": [
    "# To Create the above koko.html file\n",
    "with open(file_path,\"w\") as file:\n",
    "    file.write(\"I create my file path using join method\")"
   ]
  },
  {
   "cell_type": "code",
   "execution_count": 21,
   "metadata": {},
   "outputs": [
    {
     "name": "stdout",
     "output_type": "stream",
     "text": [
      "koko.txt\n",
      "C:/elzeropython\n",
      "('C:/elzeropython', 'koko.txt')\n",
      "True\n"
     ]
    }
   ],
   "source": [
    "# To get the basename of a file => os.path.basename(path)\n",
    "print(os.path.basename(file_path))\n",
    "# To get the directory name of that path\n",
    "print(os.path.dirname(file_path))\n",
    "# If I want both of them in tuple\n",
    "print(os.path.split(file_path))\n",
    "# To if any exists => os.path.exists\n",
    "print(os.path.exists(file_path))\n"
   ]
  },
  {
   "cell_type": "code",
   "execution_count": 23,
   "metadata": {},
   "outputs": [
    {
     "name": "stdout",
     "output_type": "stream",
     "text": [
      "False\n",
      "True\n",
      "('C:/elzeropython/koko', '.txt')\n"
     ]
    }
   ],
   "source": [
    "# To check if we have directory or file.\n",
    "print(os.path.isdir(file_path))\n",
    "print(os.path.isfile(file_path))\n",
    "\n",
    "# To split my path and my extension => os.path.splitext\n",
    "print(os.path.splitext(file_path))"
   ]
  },
  {
   "cell_type": "code",
   "execution_count": 25,
   "metadata": {},
   "outputs": [
    {
     "name": "stdout",
     "output_type": "stream",
     "text": [
      "['_LCMAP_LOWERCASE', '_LCMapStringEx', '_LOCALE_NAME_INVARIANT', '__all__', '__builtins__', '__doc__', '__file__', '__loader__', '__name__', '__package__', '__spec__', '_abspath_fallback', '_get_bothseps', '_getfinalpathname', '_getfinalpathname_nonstrict', '_getfullpathname', '_getvolumepathname', '_nt_readlink', '_path_isdevdrive', '_path_normpath', '_readlink_deep', 'abspath', 'altsep', 'basename', 'commonpath', 'commonprefix', 'curdir', 'defpath', 'devnull', 'dirname', 'exists', 'expanduser', 'expandvars', 'extsep', 'genericpath', 'getatime', 'getctime', 'getmtime', 'getsize', 'isabs', 'isdevdrive', 'isdir', 'isfile', 'isjunction', 'islink', 'ismount', 'join', 'lexists', 'normcase', 'normpath', 'os', 'pardir', 'pathsep', 'realpath', 'relpath', 'samefile', 'sameopenfile', 'samestat', 'sep', 'split', 'splitdrive', 'splitext', 'splitroot', 'stat', 'supports_unicode_filenames', 'sys']\n"
     ]
    }
   ],
   "source": [
    "# To know what I can do with my path method\n",
    "print(dir(os.path))"
   ]
  },
  {
   "cell_type": "code",
   "execution_count": null,
   "metadata": {},
   "outputs": [],
   "source": []
  }
 ],
 "metadata": {
  "kernelspec": {
   "display_name": "Python 3",
   "language": "python",
   "name": "python3"
  },
  "language_info": {
   "codemirror_mode": {
    "name": "ipython",
    "version": 3
   },
   "file_extension": ".py",
   "mimetype": "text/x-python",
   "name": "python",
   "nbconvert_exporter": "python",
   "pygments_lexer": "ipython3",
   "version": "3.12.0"
  }
 },
 "nbformat": 4,
 "nbformat_minor": 2
}
