{
 "cells": [
  {
   "cell_type": "markdown",
   "metadata": {},
   "source": [
    "##### In This File we talk about these subjects:\n",
    "###### [*] __Inheritance__  \n",
    "###### [*] __Polymorphism__ \n",
    "###### [*] __Encapsulation__ \n",
    "###### [*] __Abstraction__ \n",
    "###### [*] __Getter & Setter__ \n",
    "###### [*] __@Property Decorator__ "
   ]
  },
  {
   "cell_type": "markdown",
   "metadata": {},
   "source": [
    "##### __Inheritance__:"
   ]
  },
  {
   "cell_type": "code",
   "execution_count": null,
   "metadata": {},
   "outputs": [],
   "source": [
    "class Food:\n",
    "    def __init__(self):\n",
    "        print(\"Food is created from main class\")\n",
    "    def eat(self):\n",
    "        print(\"Eat Method from Base class\")\n",
    "class Apple(Food): # Apple inherits Food class!\n",
    "    def __init__(self):\n",
    "        print(\"Apple is created from derived class\")\n",
    "food_one=Food()\n",
    "food_two=Apple()\n",
    "Apple.eat() # We notice here we accessed a method inside Food class cause\n",
    "            # Apple class inherites the Food class"
   ]
  },
  {
   "cell_type": "code",
   "execution_count": null,
   "metadata": {},
   "outputs": [],
   "source": [
    "class Food:\n",
    "    def __init__(self,name,price):\n",
    "        self.name=name\n",
    "        self.price=price\n",
    "        print(f\"{self.name} is created from main class\")\n",
    "    def eat(self):\n",
    "        print(\"Eat Method from Base class\")\n",
    "class Apple(Food): # Apple inherits Food class!\n",
    "    def __init__(self,name,price):\n",
    "        super().__init__(name,price) \n",
    "        print(f\"{self.name} is created from derived class and price is {self.price}\")\n",
    "        # Food.__init__(self,name) # Create instance from base class.\n",
    "        # we take the attributes from Apple \n",
    "        # and pass to the instructor of Food!\n",
    "        \n",
    "food_one=Food(\"Pizza\",35)\n",
    "food_two=Apple(\"Kabseh\",35)\n",
    "food_two.eat() # because the inheritance we can use a method from the base class"
   ]
  },
  {
   "cell_type": "code",
   "execution_count": null,
   "metadata": {},
   "outputs": [],
   "source": [
    "# To Create instance from base class in a Derived class\n",
    "# Either \n",
    "# Food.__init__(self,name)\n",
    "# OR \n",
    "# super().__init__(name)"
   ]
  },
  {
   "cell_type": "code",
   "execution_count": null,
   "metadata": {},
   "outputs": [],
   "source": [
    "# Inheritance Example\n",
    "class Employee:\n",
    "    raise_amount=1.05 # class attribute\n",
    "    def __init__(self,first,last,pay):\n",
    "        self.first=first\n",
    "        self.last=last\n",
    "        self.email=first+\".\"+last+\"@gmail.com\"\n",
    "        self.pay=pay\n",
    "    def fullname(self):\n",
    "        return f\"{self.first} {self.last}\"\n",
    "    def apply_raise(self):\n",
    "        self.pay=int(self.pay * self.raise_amount)\n",
    "class Developer(Employee):\n",
    "    raise_amount=1.1\n",
    "emp1=Employee(\"Smai\",\"Mustafa\",50000)\n",
    "emp2=Employee(\"Khaled\",\"Ameen\",70000)\n",
    "dev_1=Developer(\"Bakri\",\"Badet\",50000)\n",
    "# It will look in my Developer class to __init__  If doesnt find it will look \n",
    "# beacuse my inheritance within Employee class (Resolution order)\n",
    "# To check my resolution order \n",
    "# print(help(Developer))\n",
    "dev_2=Developer(\"Omar\",\"Badet\",70000)\n",
    "print(emp1.pay)\n",
    "emp1.apply_raise()\n",
    "print(emp1.pay)\n",
    "# print(dev_1.email)\n",
    "# print(dev_2.email)\n",
    "print(dev_1.pay)\n",
    "dev_1.apply_raise() # Here we get the raise_amount from Developer class\n",
    "print(dev_1.pay)"
   ]
  },
  {
   "cell_type": "code",
   "execution_count": null,
   "metadata": {},
   "outputs": [],
   "source": [
    "class Employee:\n",
    "    raise_amount=1.05 # class attribute\n",
    "    def __init__(self,first,last,pay):\n",
    "        self.first=first\n",
    "        self.last=last\n",
    "        self.email=first+\".\"+last+\"@gmail.com\"\n",
    "        self.pay=pay\n",
    "    def fullname(self):\n",
    "        return f\"{self.first} {self.last}\"\n",
    "    def apply_raise(self):\n",
    "        self.pay=int(self.pay * self.raise_amount)\n",
    "class Developer(Employee):\n",
    "    def __init__(self,first,last,pay,programminglan):\n",
    "        super().__init__(first, last,pay)\n",
    "        # OR this\n",
    "        # Employee.__init__(self,first,last,pay)\n",
    "        # it will pass first, last, pay to my Employee init method\n",
    "        self.programminglan=programminglan\n",
    "class Manager(Employee):\n",
    "    def __init__(self,first,last,pay,employees=None):\n",
    "        super().__init__(first,last,pay)\n",
    "        if employees is None:\n",
    "            self.employees=[]\n",
    "        else:\n",
    "            self.employees=employees\n",
    "    def add_emp(self,emp): # Add employee to my list\n",
    "        if emp not in self.employees:\n",
    "            self.employees.append(emp)\n",
    "    def remove_emp(self,emp):# Remove employee from my list\n",
    "        if emp  in self.employees:\n",
    "            self.employees.remove(emp)\n",
    "    def print_emps(self):\n",
    "        for emp in self.employees:# Print all employee in my list\n",
    "            print(\"-->\",emp.fullname())\n",
    "\n",
    "\n",
    "developer1=Developer(\"Bakri\",\"Badet\",50000,\"C++\")\n",
    "developer2=Developer(\"Qais\",\"Omar\",70000,\"Python\")\n",
    "# print(developer1.email)\n",
    "# print(developer1.programminglan)\n",
    "# print(developer1.pay)\n",
    "# Manger1=Manager(\"Bakri\",\"Badet\",50000,[\"Omar\",\"Soso\"])\n",
    "Manger2=Manager(\"Omar\",\"Habibi\",50000,[developer1])\n",
    "# we passed in the list my object developer1 of my class Developer\n",
    "# Manger1.print_emps()\n",
    "Manger2.print_emps()\n",
    "Manger2.add_emp(developer2) \n",
    "Manger2.print_emps()"
   ]
  },
  {
   "cell_type": "code",
   "execution_count": null,
   "metadata": {},
   "outputs": [],
   "source": [
    "# We have those two functions:\n",
    "# isinstance(object,class) => Boolian Value\n",
    "print(isinstance(Manger2,Manager))\n",
    "print(isinstance(Manger2,Employee)) # Manager inherits Employee!\n",
    "print(isinstance(Manger2,Developer))\n",
    "\n",
    "# issubclass(class,class) => Boolian Value\n",
    "print(issubclass(Manager,Developer))\n",
    "print(issubclass(Manager,Employee))"
   ]
  },
  {
   "cell_type": "markdown",
   "metadata": {},
   "source": [
    "##### Multiple Inheritance:\n"
   ]
  },
  {
   "cell_type": "code",
   "execution_count": null,
   "metadata": {},
   "outputs": [],
   "source": [
    "class BaseOne:\n",
    "    def __init__(self):\n",
    "        print(\"Base One\")\n",
    "\n",
    "class BaseTwo:\n",
    "    def __init__(self):\n",
    "        print(\"Base Two\")\n",
    "    \n",
    "\n",
    "class Derived(BaseOne,BaseTwo):\n",
    "    pass\n",
    "myVar=Derived() # Base One it took the __init__ from Base One cause the order\n",
    "# How to know the resolution order\n",
    "print(Derived.mro()) # mro => Method Resolution Order\n",
    "help(Derived)"
   ]
  },
  {
   "cell_type": "code",
   "execution_count": null,
   "metadata": {},
   "outputs": [],
   "source": [
    "class Base:\n",
    "    pass\n",
    "class DerivedOne(Base):# DerivedOne inherits the Base Class\n",
    "    pass\n",
    "class DerivedTwo(DerivedOne):   # DerivedTwo inherits the DerivedOne that inherits\n",
    "                                # Base that means it has all attributes of\n",
    "   # Base &  DerivedOne and all Methods of Base & DerivedOne.\n",
    "    pass"
   ]
  },
  {
   "cell_type": "markdown",
   "metadata": {},
   "source": [
    "##### __Polymorphism__:\n",
    "###### The word \"polymorphism\" means \"many forms\", and in programming it refers to methods/functions/operators with the same name that can be executed on many objects or classes.\n",
    "###### An example of a Python function that can be used on different objects is the len() function."
   ]
  },
  {
   "cell_type": "code",
   "execution_count": null,
   "metadata": {},
   "outputs": [],
   "source": [
    "# -------------------------------------------------\n",
    "# -- Object Oriented Programming => Polymorphism --\n",
    "# -------------------------------------------------\n",
    "\n",
    "n1 = 10\n",
    "n2 = 20\n",
    "\n",
    "print(n1 + n2)\n",
    "\n",
    "s1 = \"Hello\"\n",
    "s2 = \"Python\"\n",
    "\n",
    "print(s1 + \" \" + s2)\n",
    "\n",
    "print(len([1, 2, 3, 4, 5, 6]))\n",
    "print(len(\"Osama Elzero\"))\n",
    "print(len({\"Key_One\": 1, \"Key_Two\": 2}))\n",
    "\n",
    "class A:\n",
    "\n",
    "  def do_something(self):\n",
    "\n",
    "    print(\"From Class A\")\n",
    "\n",
    "    raise NotImplementedError(\"Derived Class Must Implement This Method\")\n",
    "\n",
    "class B(A):\n",
    "\n",
    "  def do_something(self):\n",
    "\n",
    "    print(\"From Class B\")\n",
    "\n",
    "class C(A):\n",
    "\n",
    "  def do_something(self):\n",
    "\n",
    "    print(\"From Class C\")\n",
    "\n",
    "my_instance = B()\n",
    "my_instance.do_something()"
   ]
  },
  {
   "cell_type": "markdown",
   "metadata": {},
   "source": [
    "###### Polymorphism is often used in Class methods, where we can have multiple classes with the same method name. For example, say we have three classes: Car, Boat, and Plane, and they all have a method called move()"
   ]
  },
  {
   "cell_type": "code",
   "execution_count": 68,
   "metadata": {},
   "outputs": [
    {
     "name": "stdout",
     "output_type": "stream",
     "text": [
      "Drive!\n",
      "Sail!\n",
      "Fly!\n"
     ]
    }
   ],
   "source": [
    "class Car:\n",
    "  def __init__(self, brand, model):\n",
    "    self.brand = brand\n",
    "    self.model = model\n",
    "\n",
    "  def move(self):\n",
    "    print(\"Drive!\")\n",
    "\n",
    "class Boat:\n",
    "  def __init__(self, brand, model):\n",
    "    self.brand = brand\n",
    "    self.model = model\n",
    "\n",
    "  def move(self):\n",
    "    print(\"Sail!\")\n",
    "\n",
    "class Plane:\n",
    "  def __init__(self, brand, model):\n",
    "    self.brand = brand\n",
    "    self.model = model\n",
    "\n",
    "  def move(self):\n",
    "    print(\"Fly!\")\n",
    "\n",
    "car1 = Car(\"Ford\", \"Mustang\")       #Create a Car class\n",
    "boat1 = Boat(\"Ibiza\", \"Touring 20\") #Create a Boat class\n",
    "plane1 = Plane(\"Boeing\", \"747\")     #Create a Plane class\n",
    "\n",
    "for x in (car1, boat1, plane1):\n",
    "  x.move()"
   ]
  },
  {
   "cell_type": "markdown",
   "metadata": {},
   "source": [
    "##### __Encapsulation__:\n",
    "###### Restrict access to the data stored in attributes and methods \n",
    "###### __Public__:\n",
    "###### Every attribute and method that we used so far is public\n",
    "###### Attributes and methods can be modified and run from everywhere  inside or outside the class\n",
    "###### __Protected__:\n",
    "###### Attributes and Methods can be accessed from whitin the class and subcalsses \n",
    "###### Attributes and Methods prefixed with one __Underscore__ _\n",
    "###### __Private__:\n",
    "###### Attributes and Methods can be accessed from within the class or object from that class only\n",
    "###### Attributes cannot be modified from outside the class \n",
    "###### Attributes and Methods prefixed with two __Underscore__ __"
   ]
  },
  {
   "cell_type": "code",
   "execution_count": 7,
   "metadata": {},
   "outputs": [
    {
     "name": "stdout",
     "output_type": "stream",
     "text": [
      "Hello Ahmed\n",
      "Ahmed\n"
     ]
    }
   ],
   "source": [
    "# class Member:\n",
    "\n",
    "#   def __init__(self, name):\n",
    "\n",
    "#     self.name = name  # Public\n",
    "\n",
    "# one = Member(\"Ahmed\")\n",
    "# print(one.name)\n",
    "# one.name = \"Sayed\"\n",
    "# print(one.name)\n",
    "\n",
    "# class Member:\n",
    "\n",
    "#   def __init__(self, name):\n",
    "\n",
    "#     self._name = name  # Protected\n",
    "\n",
    "# one = Member(\"Ahmed\")\n",
    "# print(one._name) # we notice when we put . _name it will not be shown \n",
    "## but if we write the _name it will be printed because in python we dont have \n",
    "## real restriction Its just write method between developers.\n",
    "## we can even edit the protected attribute!\n",
    "# one._name = \"Sayed\"\n",
    "# print(one._name)\n",
    "\n",
    "class Member:\n",
    "\n",
    "  def __init__(self, name):\n",
    "\n",
    "    self.__name = name  # Private\n",
    "\n",
    "  def say_hello(self):\n",
    "\n",
    "    return f\"Hello {self.__name}\"\n",
    "\n",
    "one = Member(\"Ahmed\")\n",
    "#Here we will get error with __name because its private \n",
    "# print(one.__name)\n",
    "# we can access within the class \n",
    "# In say_hello() method we have inside the private value.\n",
    "print(one.say_hello())\n",
    "# Unfortunately we can access even the private member using the following method\n",
    "print(one._Member__name) "
   ]
  },
  {
   "cell_type": "markdown",
   "metadata": {},
   "source": [
    "##### __Getters & Setters:__\n",
    "###### - We can get access to the private attribute of a class and eiditing using the __Setter & Getter Properties__.\n",
    "###### - The reason for this cause I got full access to all my members within my class."
   ]
  },
  {
   "cell_type": "code",
   "execution_count": 8,
   "metadata": {},
   "outputs": [
    {
     "name": "stdout",
     "output_type": "stream",
     "text": [
      "Sayed\n",
      "Sayed\n",
      "Abbas\n"
     ]
    }
   ],
   "source": [
    "class Member:\n",
    "\n",
    "  def __init__(self, name):\n",
    "\n",
    "    self.__name = name  # Private\n",
    "\n",
    "  def say_hello(self):\n",
    "\n",
    "    return f\"Hello {self.__name}\"\n",
    "\n",
    "  def get_name(self):  # Getter\n",
    "\n",
    "    return self.__name\n",
    "\n",
    "  def set_name(self, new_name): # Setter\n",
    "\n",
    "    self.__name = new_name\n",
    "\n",
    "one = Member(\"Ahmed\")\n",
    "# We cant edit the value of a private attribute but using the following value:\n",
    "one._Member__name = \"Sayed\"# Here we can edit as we can get access\n",
    "print(one._Member__name)\n",
    "# The official Way to get access and edit a private member is\n",
    "# The get and set properties.\n",
    "print(one.get_name()) # here we get access to the name (private member)\n",
    "one.set_name('Abbas') # here we can edit the name (private member)\n",
    "print(one.get_name())"
   ]
  },
  {
   "cell_type": "markdown",
   "metadata": {},
   "source": [
    "##### __@Property Decorator__"
   ]
  },
  {
   "cell_type": "code",
   "execution_count": 10,
   "metadata": {},
   "outputs": [
    {
     "name": "stdout",
     "output_type": "stream",
     "text": [
      "Ahmed\n",
      "40\n",
      "Hello Ahmed\n",
      "14600\n"
     ]
    }
   ],
   "source": [
    "class Member:\n",
    "\n",
    "    def __init__(self, name, age):\n",
    "\n",
    "        self.name = name\n",
    "\n",
    "        self.age = age\n",
    "\n",
    "    def say_hello(self):\n",
    "\n",
    "        return f\"Hello {self.name}\"\n",
    "# We notice here that my method does not require any parameters(just self)\n",
    "# So we can make a property and can call it without the ()\n",
    "    @property\n",
    "    def age_in_days(self):\n",
    "\n",
    "        return self.age * 365\n",
    "\n",
    "one = Member(\"Ahmed\", 40)\n",
    "\n",
    "print(one.name)\n",
    "print(one.age)\n",
    "print(one.say_hello())\n",
    "# print(one.age_in_days())\n",
    "\n",
    "print(one.age_in_days)"
   ]
  },
  {
   "cell_type": "markdown",
   "metadata": {},
   "source": [
    "##### __Abstract Base Class:__\n",
    "###### - Abstract class prevents from creating an object of that class.\n",
    "###### - compels a user to override abstract methods in a child class.\n",
    "###### - Which means  the superclass forces the children classes override its abstract method.\n",
    "###### - Abstract class is a class which contains one or more abstract methods.\n",
    "###### - Abstract method is a method that has a declaration but does not have an implementation."
   ]
  },
  {
   "cell_type": "code",
   "execution_count": 12,
   "metadata": {},
   "outputs": [],
   "source": [
    "# Abstract classes and methods are not supported in python so we need to \n",
    "# import ABSMeta(ABS),abstractclassmethod frpm abc(abstract base class)\n",
    "from abc import ABCMeta, abstractclassmethod"
   ]
  },
  {
   "cell_type": "code",
   "execution_count": 16,
   "metadata": {},
   "outputs": [
    {
     "name": "stdout",
     "output_type": "stream",
     "text": [
      "No\n",
      "Pascal\n"
     ]
    }
   ],
   "source": [
    "from abc import ABCMeta, abstractmethod\n",
    "\n",
    "class Programming(metaclass=ABCMeta):# Here I specified that my class is abstract \n",
    "\n",
    "    @abstractmethod\n",
    "    def has_oop(self):\n",
    "\n",
    "        pass # This is a use of pass in the abstract method!\n",
    "\n",
    "    @abstractmethod\n",
    "    def has_name(self):\n",
    "\n",
    "        pass # Abstract method does not do anything!\n",
    "\n",
    "class Python(Programming):\n",
    "\n",
    "    def has_oop(self):\n",
    "\n",
    "        return \"Yes\"\n",
    "\n",
    "class Pascal(Programming):\n",
    "\n",
    "    def has_oop(self):\n",
    "\n",
    "        return \"No\"\n",
    "\n",
    "    def has_name(self):\n",
    "\n",
    "        return \"Pascal\"\n",
    "\n",
    "one = Pascal()\n",
    "# two = Python()\n",
    "# print(Python.has_oop()) # Here we will get error cause we overrided has_oop \n",
    "# but not has_name(Abstract class forces us to override all its abstract methods)\n",
    "# Even we cant define an obeject before overriding all abstract methods.\n",
    "print(one.has_oop())\n",
    "print(one.has_name())"
   ]
  }
 ],
 "metadata": {
  "kernelspec": {
   "display_name": "Python 3",
   "language": "python",
   "name": "python3"
  },
  "language_info": {
   "codemirror_mode": {
    "name": "ipython",
    "version": 3
   },
   "file_extension": ".py",
   "mimetype": "text/x-python",
   "name": "python",
   "nbconvert_exporter": "python",
   "pygments_lexer": "ipython3",
   "version": "3.12.0"
  }
 },
 "nbformat": 4,
 "nbformat_minor": 2
}
