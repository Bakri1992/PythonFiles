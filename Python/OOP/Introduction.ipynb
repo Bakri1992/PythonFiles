{
 "cells": [
  {
   "cell_type": "markdown",
   "metadata": {},
   "source": [
    "##### What is OOP:\n",
    "###### [*] Python supports object oriented programming.\n",
    "###### [*] OOP is paradigm or coding style. \n",
    "###### [*] Paradigm => Means structuring program so the methods[functions] and Attributes[Data] are bundled into objects.\n",
    "###### [*] Methods => Act as function that use Information of the object.\n",
    "###### [*] Python is multi-paradigm programming language [procedural, OOP, Functional].\n",
    "###### [*] Procedural => Structure App like recipe, Sets of steps to make the task\n",
    "###### [*] Functional => Built on the conept mathematical functions."
   ]
  },
  {
   "cell_type": "markdown",
   "metadata": {},
   "source": [
    "##### Why OOP?\n",
    "###### [*] OOP allows you to organize your code and make it readable and reusable.\n",
    "###### [*] Everything in Python is object."
   ]
  },
  {
   "cell_type": "markdown",
   "metadata": {},
   "source": [
    "##### IF man is object:\n",
    "###### Attributes => Name, Age, Address, Phone Number, Info [can be different]\n",
    "###### Maethods[Behaviors] => Walking, Eating, Singing, Playing."
   ]
  },
  {
   "cell_type": "markdown",
   "metadata": {},
   "source": [
    "##### Class:\n",
    "###### . Class is the template for creating objects [Object Constructor | Blueprint].\n",
    "###### . Class car can create many cars objects.\n",
    "###### . class user can create many users object."
   ]
  }
 ],
 "metadata": {
  "language_info": {
   "name": "python"
  }
 },
 "nbformat": 4,
 "nbformat_minor": 2
}
