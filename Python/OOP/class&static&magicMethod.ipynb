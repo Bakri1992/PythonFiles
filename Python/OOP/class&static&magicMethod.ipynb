{
 "cells": [
  {
   "cell_type": "markdown",
   "metadata": {},
   "source": [
    "##### Class Methods & Static Method:"
   ]
  },
  {
   "cell_type": "markdown",
   "metadata": {},
   "source": [
    "##### Class Methods:\n",
    "###### [*] Marked with @classmethod decorator to flag it as class method\n",
    "###### [*] It takes cls parameter not self to point to class not instance.\n",
    "###### [*] It deosnt require creation of a class instance\n",
    "###### [*] Used when you wnat to do sth with the class itself."
   ]
  },
  {
   "cell_type": "code",
   "execution_count": null,
   "metadata": {},
   "outputs": [],
   "source": [
    "# How to define a class method\n",
    "class Member:\n",
    "    @classmethod               # Here I specified it as class method.\n",
    "    def print_Sth(cls): # it takes cls as first parameter nor self.\n",
    "        print(\"FUCK\")\n",
    "Member.print_Sth()"
   ]
  },
  {
   "cell_type": "code",
   "execution_count": 8,
   "metadata": {},
   "outputs": [],
   "source": [
    "class Member:\n",
    "    users_number=0\n",
    "    not_allowed_name=[\"Hell\",\"Shit\",\"Baloot\"]\n",
    "    def __init__(self,first_name,middle_name,last_name,gender=\"Male\"):\n",
    "        self.first_name=first_name\n",
    "        self.middle_name=middle_name\n",
    "        self.last_name=last_name\n",
    "        self.gender=gender\n",
    "        Member.users_number +=1\n",
    "    @classmethod\n",
    "    def show_users_number(cls):\n",
    "        print (f\"Number of users is {cls.users_number}\") \n",
    "    def full_name(self):\n",
    "        if self.first_name in self.not_allowed_name:\n",
    "            # To access class attribute => object.class_attribute.\n",
    "            # To access class attribute => class_name.class_attribute.\n",
    "            raise ValueError(\"Name is not allowed\")\n",
    "        else:\n",
    "            return f\"{self.first_name} {self.last_name}\"\n",
    "    def say_hello(self):\n",
    "        if self.gender==\"Male\":\n",
    "            return f\"Hello Mr {self.first_name}\"\n",
    "        else:\n",
    "            return f\"Hello Miss {self.first_name}\"\n",
    "    def get_all_info(self):\n",
    "        return f\"{self.say_hello()} your full name is {self.full_name()}\"\n",
    "member_one=Member(\"Bakri\",\"Abdulkader\",\"Badet\")\n",
    "member_two=Member(\"Omar\",\"Abdulkader\",\"Badet\")\n",
    "member_three=Member(\"Manar\",\"Omar\",\"Sakalaik\")\n",
    "member_four=Member(\"Shit\",\"Sami\",\"Abdullah\")\n",
    "member_five=Member(\"Malek\",\"Abdullah\",\"Sakalaik\")\n"
   ]
  },
  {
   "cell_type": "code",
   "execution_count": 9,
   "metadata": {},
   "outputs": [
    {
     "name": "stdout",
     "output_type": "stream",
     "text": [
      "Number of users is 5\n"
     ]
    }
   ],
   "source": [
    "# we dont need to create an instance to call a class method:\n",
    "Member.show_users_number() # This is how I call a class method"
   ]
  },
  {
   "cell_type": "code",
   "execution_count": 10,
   "metadata": {},
   "outputs": [
    {
     "name": "stdout",
     "output_type": "stream",
     "text": [
      "Bakri Badet\n",
      "Bakri Badet\n"
     ]
    }
   ],
   "source": [
    "# What happend when I use a method on my object:\n",
    "print(member_one.full_name())\n",
    "# What happens here is exactly the following:\n",
    "print(Member.full_name(member_one))"
   ]
  },
  {
   "cell_type": "markdown",
   "metadata": {},
   "source": [
    "##### Static Methods:\n",
    "###### [*] It takes no parameter (first parameter) [cls for class method and self for instance method]\n",
    "###### [*] Its bound is the class not instance.\n",
    "###### [*] Used when doing sth deosnt have access to object or class but related to class"
   ]
  },
  {
   "cell_type": "code",
   "execution_count": 13,
   "metadata": {},
   "outputs": [],
   "source": [
    "# How to define a static method:\n",
    "@staticmethod\n",
    "def say_hello():\n",
    "    print(\"Hallo!\")\n",
    "# We define the static method inside my class like the previous definition."
   ]
  },
  {
   "cell_type": "markdown",
   "metadata": {},
   "source": [
    "##### Magic Methds:\n",
    "###### [*] Everything in Python is an object.\n",
    "###### [*] __init__ called automatically when creating an object.\n",
    "###### [*] self.__class__ the class to which a class instance belongs.\n",
    "###### [*] __str__ gives a human-readable output of the object.\n",
    "###### [*] __len__ returns the length of the container called when we use the built-in len() function on the object.\n",
    " \n"
   ]
  },
  {
   "cell_type": "code",
   "execution_count": 22,
   "metadata": {},
   "outputs": [
    {
     "name": "stdout",
     "output_type": "stream",
     "text": [
      "<__main__.Skill object at 0x0000020F2D4A7380>\n",
      "<class '__main__.Skill'>\n"
     ]
    }
   ],
   "source": [
    "class Skill:\n",
    "    def __init__(self):\n",
    "        self.skill=[\"HTML\",\"CSS\",\"JS\"]\n",
    "profile=Skill()\n",
    "print(profile) # it gives me the object address that I created"
   ]
  },
  {
   "cell_type": "code",
   "execution_count": 26,
   "metadata": {},
   "outputs": [
    {
     "name": "stdout",
     "output_type": "stream",
     "text": [
      "<class '__main__.Skill'>\n",
      "<class 'str'>\n",
      "<class 'str'>\n",
      "['__add__', '__class__', '__contains__', '__delattr__', '__dir__', '__doc__', '__eq__', '__format__', '__ge__', '__getattribute__', '__getitem__', '__getnewargs__', '__getstate__', '__gt__', '__hash__', '__init__', '__init_subclass__', '__iter__', '__le__', '__len__', '__lt__', '__mod__', '__mul__', '__ne__', '__new__', '__reduce__', '__reduce_ex__', '__repr__', '__rmod__', '__rmul__', '__setattr__', '__sizeof__', '__str__', '__subclasshook__', 'capitalize', 'casefold', 'center', 'count', 'encode', 'endswith', 'expandtabs', 'find', 'format', 'format_map', 'index', 'isalnum', 'isalpha', 'isascii', 'isdecimal', 'isdigit', 'isidentifier', 'islower', 'isnumeric', 'isprintable', 'isspace', 'istitle', 'isupper', 'join', 'ljust', 'lower', 'lstrip', 'maketrans', 'partition', 'removeprefix', 'removesuffix', 'replace', 'rfind', 'rindex', 'rjust', 'rpartition', 'rsplit', 'rstrip', 'split', 'splitlines', 'startswith', 'strip', 'swapcase', 'title', 'translate', 'upper', 'zfill']\n"
     ]
    }
   ],
   "source": [
    "# __class__\n",
    "print(profile.__class__) # Show me to which class belongs this object.\n",
    "my_string=\"Bakri\"\n",
    "print(type(my_string))\n",
    "print(my_string.__class__)\n",
    "# That means that str is a class that contains methods inside!\n",
    "# To list all methods that a class contains.\n",
    "print(dir(my_string))"
   ]
  },
  {
   "cell_type": "code",
   "execution_count": 28,
   "metadata": {},
   "outputs": [
    {
     "name": "stdout",
     "output_type": "stream",
     "text": [
      "Bakri\n",
      "BAKRI\n"
     ]
    }
   ],
   "source": [
    "# str class\n",
    "my_string=\"bakri\"\n",
    "print(str.capitalize(my_string)) # class_name.method(instance) \n",
    "print(str.upper(my_string))"
   ]
  },
  {
   "cell_type": "code",
   "execution_count": 32,
   "metadata": {},
   "outputs": [
    {
     "data": {
      "text/plain": [
       "True"
      ]
     },
     "execution_count": 32,
     "metadata": {},
     "output_type": "execute_result"
    }
   ],
   "source": [
    "stra=str(\"bakri\")\n",
    "stra.capitalize()\n",
    "stra.isalnum()\n",
    "# stra is my instance in str class with \"bakri\" parameter"
   ]
  },
  {
   "cell_type": "code",
   "execution_count": 33,
   "metadata": {},
   "outputs": [
    {
     "name": "stdout",
     "output_type": "stream",
     "text": [
      "<__main__.Skill object at 0x0000020F2D6F69F0>\n"
     ]
    }
   ],
   "source": [
    "# When I print my object I got which class and its address in the memory\n",
    "class Skill:\n",
    "    def __init__(self):\n",
    "        self.skill=[\"HTML\",\"CSS\",\"JS\"]\n",
    "profile=Skill()\n",
    "print(profile)"
   ]
  },
  {
   "cell_type": "code",
   "execution_count": 39,
   "metadata": {},
   "outputs": [
    {
     "name": "stdout",
     "output_type": "stream",
     "text": [
      "This is my Skills => ['HTML', 'CSS', 'JS']\n",
      "3\n",
      "5\n"
     ]
    }
   ],
   "source": [
    "# I can specify what I get when printing the object using __str__ method:\n",
    "class Skill:\n",
    "    def __init__(self):\n",
    "        self.skill=[\"HTML\",\"CSS\",\"JS\"]\n",
    "    def __str__(self):\n",
    "        return f\"This is my Skills => {self.skill}\"\n",
    "    def __len__(self):\n",
    "        return len(self.skill)\n",
    "profile=Skill()\n",
    "print(profile)      # we notice that we get here what I defined inside __str__\n",
    "print(len(profile)) # it gives me the result what I defined in my __len__\n",
    "profile.skill.append(\"python\")\n",
    "profile.skill.append(\"C++\")\n",
    "print(len(profile)) # it gives me the result what I defined in my __len__\n"
   ]
  },
  {
   "cell_type": "markdown",
   "metadata": {},
   "source": [
    "##### __Notice__:"
   ]
  },
  {
   "cell_type": "code",
   "execution_count": 8,
   "metadata": {},
   "outputs": [
    {
     "name": "stdout",
     "output_type": "stream",
     "text": [
      "The object describe was printed from __str__ method\n",
      "The object describe was printed from __repr__ method\n",
      "The object describe was printed from __str__ method\n",
      "##############################\n",
      "The object describe was printed from __repr__ method\n",
      "The object describe was printed from __str__ method\n"
     ]
    }
   ],
   "source": [
    "# Just Notice when we have __repr__ & __str__ defined\n",
    "# When we print the object we will get the __str__ method\n",
    "# When we got only the __repr__ method and we print the object then we will get the repr describe\n",
    "# when we have both we still have the access to the __repr__  using repr() built in function\n",
    "class Skill:\n",
    "    def __init__(self):\n",
    "        self.skill=[\"HTML\",\"CSS\",\"JS\"]\n",
    "    def __repr__(self) -> str:\n",
    "        return f\"The object describe was printed from __repr__ method\"\n",
    "    def __str__(self):\n",
    "        return f\"The object describe was printed from __str__ method\"\n",
    "skill=Skill()\n",
    "print(skill) \n",
    "print(repr(skill))\n",
    "print(str(skill))\n",
    "#########################################\n",
    "print(\"#\"*30)\n",
    "print(skill.__repr__())\n",
    "print(skill.__str__())"
   ]
  },
  {
   "cell_type": "code",
   "execution_count": 14,
   "metadata": {},
   "outputs": [
    {
     "name": "stdout",
     "output_type": "stream",
     "text": [
      "3\n",
      "3\n",
      "ba\n",
      "4\n",
      "4\n"
     ]
    }
   ],
   "source": [
    "# Dunder add => __add__\n",
    "print(1+2)                  \n",
    "print(int.__add__(1,2))\n",
    "# String as well use dunder add \n",
    "print(str.__add__(\"b\",\"a\"))\n",
    "\n",
    "\n",
    "# Dunder len => __len__\n",
    "print(len(\"test\"))\n",
    "print(\"Test\".__len__())"
   ]
  },
  {
   "cell_type": "code",
   "execution_count": 17,
   "metadata": {},
   "outputs": [
    {
     "name": "stdout",
     "output_type": "stream",
     "text": [
      "11000\n",
      "11\n"
     ]
    }
   ],
   "source": [
    "# We can use __add__ to do sth else:\n",
    "class Employee:\n",
    "    def __init__(self,fullName,pay):\n",
    "        self.fullName=fullName\n",
    "        self.pay=pay\n",
    "        \n",
    "    def __repr__(self) -> str:\n",
    "        return f\"The object describe was printed from __repr__ method\"\n",
    "    def __str__(self):\n",
    "        return f\"The object describe was printed from __str__ method\"\n",
    "    def __add__(self,other):\n",
    "        return self.pay+other.pay\n",
    "    def __len__(self):\n",
    "        return len(self.fullName)\n",
    "emp1=Employee(\"Bakri Badet\",5000)\n",
    "emp2=Employee(\"Omar Sakalaik\",6000)\n",
    "print(emp1+emp2)   \n",
    "#Whenever we use + in python will look for __add__ method in my class and what is defined in it.\n",
    "print(len(emp1))\n",
    "#Whenever we use len() in python will look for __len__ method in my class and what is defined in it\n",
    " \n"
   ]
  },
  {
   "cell_type": "code",
   "execution_count": null,
   "metadata": {},
   "outputs": [],
   "source": []
  }
 ],
 "metadata": {
  "kernelspec": {
   "display_name": "Python 3",
   "language": "python",
   "name": "python3"
  },
  "language_info": {
   "codemirror_mode": {
    "name": "ipython",
    "version": 3
   },
   "file_extension": ".py",
   "mimetype": "text/x-python",
   "name": "python",
   "nbconvert_exporter": "python",
   "pygments_lexer": "ipython3",
   "version": "3.12.0"
  }
 },
 "nbformat": 4,
 "nbformat_minor": 2
}
