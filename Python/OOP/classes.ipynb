{
 "cells": [
  {
   "cell_type": "markdown",
   "metadata": {},
   "source": [
    "##### Class Syntax and Info:\n",
    "###### [01] Class is the Blueprint or constructor of the object.\n",
    "###### [02] Class instantiate means create instance of a class.\n",
    "###### [03] Instance => object created from class and have their methods and attributes.\n",
    "###### [04] Class is defined with keyword class.\n",
    "###### [05] Class Name is written with PascalCase [UpperCamelCase] style\n",
    "###### [06] Class may contain methods and attributes.\n",
    "###### [07] When creatimg object python look for the built in __init__ Method\n",
    "###### [08] \\_\\_init\\_\\_ method called every time you create object from class \n",
    "###### [09] \\_\\_init\\_\\_  method is initilize the data for the object\n",
    "###### [10] Any method with two Underscore in the start and end called dunder or magic method\n",
    "###### [11] Self refer to the current Instance created from the class and must be first parameter\n",
    "###### [12] self can be named anything.\n",
    "###### [13] In python you dont need to call new()[we use this in other programming language] keyword to create object.  "
   ]
  },
  {
   "cell_type": "code",
   "execution_count": null,
   "metadata": {},
   "outputs": [],
   "source": [
    "class Member:\n",
    "    def __init__(self): # we can name the first parameter whatever I want!\n",
    "        print(\"New member has been added\")\n",
    "# we can call the class directly:\n",
    "Member() # we dont have parameters\n",
    "Member()\n",
    "Member()\n",
    "\n",
    "# How to define instance of the class:\n",
    "member_one =Member() # self now in my __init__ refers to my object member_one \n",
    "member_two =Member()\n",
    "member_three =Member()\n",
    "\n",
    "# To know an object from which class we use __class__ :\n",
    "print(member_two.__class__)\n"
   ]
  },
  {
   "cell_type": "markdown",
   "metadata": {},
   "source": [
    "##### Instance Attributes and Methods:\n",
    "###### Self: points to instance created from class.\n",
    "###### Instance Attributes: Instance Attributes are defined inside the Constructor.\n",
    "###### Instance Methods: Takes self parameter which points to instance created from the class\n",
    "###### Instance Methods: can have more than one parameter like any function.\n",
    "###### Instance Methods: can freely access attributes and Methods on the same object.\n",
    "###### Instance Methods: can access the class itself."
   ]
  },
  {
   "cell_type": "code",
   "execution_count": null,
   "metadata": {},
   "outputs": [],
   "source": [
    "class Members:\n",
    "    def __init__(self,first_name,middle_name,last_name,gender=\"Male\"):\n",
    "        # we can name the first parameter whatever I want!\n",
    "        self.first_name=first_name\n",
    "        self.middle_name=middle_name\n",
    "        self.last_name=last_name\n",
    "        self.gender=gender\n",
    "    # Lets make our first method:\n",
    "    def full_name(self):\n",
    "        return f\"{self.first_name} {self.middle_name} {self.last_name}\"\n",
    "    # Lets make another method:\n",
    "    def say_hello(self):\n",
    "        if self.gender==\"Male\":\n",
    "            return f\"Hello Mr.{self.first_name}\"\n",
    "        else:\n",
    "            return f\"Hello Miss {self.first_name}\"\n",
    "    # We can access from the method all other methods and attributes:\n",
    "    def get_all_info(self):\n",
    "        return f\"{self.say_hello()} your full name is {self.full_name()}\"\n",
    "    # Notice here that I accessed the other methods that were defined in my class.\n",
    "\n",
    "\n",
    "member1=Members(\"Bakri\",\"Abdulkader\",\"Badet\")\n",
    "member2=Members(\"Omar\",\"Abdulkader\",\"Badet\")\n",
    "member3=Members(\"Manar\",\"Omar\",\"Sakalaik\",\"female\")\n",
    "# How to access my attributes using my instance object.\n",
    "print(member1.first_name, member1.middle_name,member1.last_name)\n",
    "print(member2.first_name )\n",
    "print(member1.full_name())\n",
    "print(member1.say_hello())\n",
    "print(member2.say_hello())\n",
    "print(member3.say_hello())\n",
    "print(member1.get_all_info())\n",
    "print(member2.get_all_info())\n",
    "print(member3.get_all_info())"
   ]
  },
  {
   "cell_type": "markdown",
   "metadata": {},
   "source": [
    "##### Attributes defined outside the constructor:"
   ]
  },
  {
   "cell_type": "code",
   "execution_count": null,
   "metadata": {},
   "outputs": [],
   "source": [
    "# Lets have attribute outside the __init__:\n",
    "class Member:\n",
    "    # class attribute is always defined outside the constructor.\n",
    "    not_allowed_name=[\"Hell\",\"Shit\",\"Baloot\"]\n",
    "    def __init__(self,first_name,middle_name,last_name,gender=\"Male\"):\n",
    "        self.first_name=first_name\n",
    "        self.middle_name=middle_name\n",
    "        self.last_name=last_name\n",
    "        self.gender=gender \n",
    "    def full_name(self):\n",
    "        if self.first_name in Member.not_allowed_name:\n",
    "            # To access class attribute => class_name.class_attribute.\n",
    "            raise ValueError(\"Name is not allowed\")\n",
    "        else:\n",
    "            return f\"{self.first_name} {self.last_name}\"\n"
   ]
  },
  {
   "cell_type": "code",
   "execution_count": null,
   "metadata": {},
   "outputs": [],
   "source": [
    "member_four=Member(\"Shit\",\"koko\",\"soso\")\n",
    "member_four.full_name()"
   ]
  },
  {
   "cell_type": "markdown",
   "metadata": {},
   "source": []
  }
 ],
 "metadata": {
  "kernelspec": {
   "display_name": "Python 3",
   "language": "python",
   "name": "python3"
  },
  "language_info": {
   "codemirror_mode": {
    "name": "ipython",
    "version": 3
   },
   "file_extension": ".py",
   "mimetype": "text/x-python",
   "name": "python",
   "nbconvert_exporter": "python",
   "pygments_lexer": "ipython3",
   "version": "3.12.0"
  }
 },
 "nbformat": 4,
 "nbformat_minor": 2
}
