{
 "cells": [
  {
   "cell_type": "code",
   "execution_count": 4,
   "metadata": {},
   "outputs": [],
   "source": [
    "from itertools import permutations\n"
   ]
  },
  {
   "cell_type": "code",
   "execution_count": 5,
   "metadata": {},
   "outputs": [],
   "source": [
    "# Read the world list from a file and return it as a list(we should)\n",
    "def Read_Wordlist():\n",
    "    wordlist = []\n",
    "    path=\"C:/pf/Python/Python/Projects/scrabble/wordlist-german.txt\"\n",
    "    with open(path, 'r') as f:\n",
    "        for word in f:\n",
    "            # Lets take the words with 2-7 letters\n",
    "            # Number or words after filtering: 22354\n",
    "            if len(word)<=7:\n",
    "                wordlist.append(word.lower())\n",
    "                # We casted to lower case\n",
    "    return wordlist\n"
   ]
  },
  {
   "cell_type": "code",
   "execution_count": 6,
   "metadata": {},
   "outputs": [],
   "source": [
    "# Print all possible permutations from a word\n",
    "def get_permutations(myword):\n",
    "    word=myword\n",
    "    combinations=[]\n",
    "    for i in range(2,len(word)+1):\n",
    "    # permutaions function returns me an iterable.\n",
    "        for per in permutations(word,r=i):\n",
    "            combinations.append(\"\".join(per)) \n",
    "# Lets see how many permutations we have\n",
    "    return combinations\n",
    "\n",
    "\n"
   ]
  },
  {
   "cell_type": "code",
   "execution_count": 19,
   "metadata": {},
   "outputs": [],
   "source": [
    "# Lets define a function that make a list of my permutations word if there are in wordlist\n",
    "\n",
    "def search_list(wordlist,word):\n",
    "    possible_words=[]\n",
    "    combinations=get_permutations(word)\n",
    "    possible_words=[comb for comb in combinations if comb in wordlist ]\n",
    "    return possible_words\n"
   ]
  },
  {
   "cell_type": "code",
   "execution_count": 8,
   "metadata": {},
   "outputs": [],
   "source": [
    "def search_set(worldlist,word):\n",
    "    worldlist=set(worldlist)\n",
    "    combinations=get_permutations(word)\n",
    "    possible_words=[comb for comb in combinations if comb in worldlist]\n",
    "    return possible_words"
   ]
  },
  {
   "cell_type": "code",
   "execution_count": 9,
   "metadata": {},
   "outputs": [],
   "source": [
    "wordlist=Read_Wordlist()\n"
   ]
  },
  {
   "cell_type": "code",
   "execution_count": 20,
   "metadata": {},
   "outputs": [
    {
     "name": "stdout",
     "output_type": "stream",
     "text": [
      "[]\n"
     ]
    }
   ],
   "source": [
    "word=\"bak\"\n",
    "lst=search_list(wordlist,word)\n",
    "print(lst)"
   ]
  },
  {
   "cell_type": "code",
   "execution_count": null,
   "metadata": {},
   "outputs": [],
   "source": []
  }
 ],
 "metadata": {
  "kernelspec": {
   "display_name": "Python 3",
   "language": "python",
   "name": "python3"
  },
  "language_info": {
   "codemirror_mode": {
    "name": "ipython",
    "version": 3
   },
   "file_extension": ".py",
   "mimetype": "text/x-python",
   "name": "python",
   "nbconvert_exporter": "python",
   "pygments_lexer": "ipython3",
   "version": "3.12.0"
  }
 },
 "nbformat": 4,
 "nbformat_minor": 2
}
