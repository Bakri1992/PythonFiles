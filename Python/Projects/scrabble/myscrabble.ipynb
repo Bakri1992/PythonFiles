{
 "cells": [
  {
   "cell_type": "code",
   "execution_count": 4,
   "metadata": {},
   "outputs": [],
   "source": [
    "from itertools import permutations\n"
   ]
  },
  {
   "cell_type": "code",
   "execution_count": 5,
   "metadata": {},
   "outputs": [],
   "source": [
    "# Read the world list from a file and return it as a list(we should)\n",
    "def Read_Wordlist():\n",
    "    wordlist = []\n",
    "    path=\"C:/pf/Python/Python/Projects/scrabble/wordlist-german.txt\"\n",
    "    with open(path, 'r') as f:\n",
    "        for word in f:\n",
    "            # Lets take the words with 2-7 letters\n",
    "            # Number or words after filtering: 22354\n",
    "            if len(word)<=7:\n",
    "                wordlist.append(word.lower())\n",
    "                # We casted to lower case\n",
    "    return wordlist\n"
   ]
  },
  {
   "cell_type": "code",
   "execution_count": 6,
   "metadata": {},
   "outputs": [],
   "source": [
    "# Print all possible permutations from a word\n",
    "def get_permutations(myword):\n",
    "    word=myword\n",
    "    combinations=[]\n",
    "    for i in range(2,len(word)+1):\n",
    "    # permutaions function returns me an iterable.\n",
    "        for per in permutations(word,r=i):\n",
    "            combinations.append(\"\".join(per)) \n",
    "# Lets see how many permutations we have\n",
    "    return combinations\n",
    "\n",
    "\n"
   ]
  },
  {
   "cell_type": "code",
   "execution_count": 19,
   "metadata": {},
   "outputs": [],
   "source": [
    "# Lets define a function that make a list of my permutations word if there are in wordlist\n",
    "\n",
    "def search_list(wordlist,word):\n",
    "    possible_words=[]\n",
    "    combinations=get_permutations(word)\n",
    "    possible_words=[comb for comb in combinations if comb in wordlist ]\n",
    "    return possible_words\n"
   ]
  },
  {
   "cell_type": "code",
   "execution_count": 8,
   "metadata": {},
   "outputs": [],
   "source": [
    "def search_set(worldlist,word):\n",
    "    worldlist=set(worldlist)\n",
    "    combinations=get_permutations(word)\n",
    "    possible_words=[comb for comb in combinations if comb in worldlist]\n",
    "    return possible_words"
   ]
  },
  {
   "cell_type": "code",
   "execution_count": 9,
   "metadata": {},
   "outputs": [],
   "source": [
    "wordlist=Read_Wordlist()\n"
   ]
  },
  {
   "cell_type": "code",
   "execution_count": 20,
   "metadata": {},
   "outputs": [
    {
     "name": "stdout",
     "output_type": "stream",
     "text": [
      "[]\n"
     ]
    }
   ],
   "source": [
    "word=\"bak\"\n",
    "lst=search_list(wordlist,word)\n",
    "print(lst)"
   ]
  },
  {
   "cell_type": "code",
   "execution_count": 21,
   "metadata": {},
   "outputs": [
    {
     "data": {
      "text/plain": [
       "2"
      ]
     },
     "execution_count": 21,
     "metadata": {},
     "output_type": "execute_result"
    }
   ],
   "source": []
  },
  {
   "cell_type": "code",
   "execution_count": 28,
   "metadata": {},
   "outputs": [
    {
     "name": "stdout",
     "output_type": "stream",
     "text": [
      "Strings are not equal\n",
      "True\n"
     ]
    }
   ],
   "source": [
    "str1 = \"ab\"\n",
    "str2 = \"ac\"\n",
    "\n",
    "if str1 == str2:\n",
    "    print(\"Strings are equal\")\n",
    "else:\n",
    "    print(\"Strings are not equal\")\n",
    "\n",
    "if (str1<str2):\n",
    "    print (True)\n",
    "else:\n",
    "    print (False)\n",
    "\n",
    "    "
   ]
  },
  {
   "cell_type": "code",
   "execution_count": null,
   "metadata": {},
   "outputs": [],
   "source": [
    "def binary_search(worldlist,comb):\n",
    "    lower=0\n",
    "    upper=len(wordlist)-1\n",
    "    while lower<upper:\n",
    "        m= (lower+upper)//2\n",
    "        if(wordlist[m])<comb:\n",
    "            lower=m+1\n",
    "        elif(wordlist[m])>comb:\n",
    "            upper=m-1\n",
    "        else:\n",
    "            return True\n",
    "    if wordlist[lower]==comb: # This happen when lower = upper\n",
    "        return True\n",
    "    else:\n",
    "        return False\n",
    "    \n",
    "        \n",
    "        "
   ]
  },
  {
   "cell_type": "code",
   "execution_count": 4,
   "metadata": {},
   "outputs": [],
   "source": [
    "\n",
    "my_dict=dict()\n",
    "my_list=[\"Bakri\",\"Omar\",\"Zokaa\",\"Samer\"]\n",
    "for i in range(0,4):\n",
    "    my_dict[i+1]=my_list[i]"
   ]
  },
  {
   "cell_type": "code",
   "execution_count": 9,
   "metadata": {},
   "outputs": [
    {
     "name": "stdout",
     "output_type": "stream",
     "text": [
      "False\n"
     ]
    }
   ],
   "source": [
    "\n",
    "if(5 in my_dict.keys()):\n",
    "    print(True)\n",
    "else:\n",
    "    print(False)\n"
   ]
  },
  {
   "cell_type": "code",
   "execution_count": 10,
   "metadata": {},
   "outputs": [
    {
     "name": "stdout",
     "output_type": "stream",
     "text": [
      "Element found in list.\n",
      "Linear search in list runtime: 0.0005035400390625 seconds\n",
      "Element found in set.\n",
      "Membership test in set runtime: 0.0 seconds\n"
     ]
    }
   ],
   "source": [
    "import time\n",
    "\n",
    "# Linear search in a list\n",
    "my_list = [1, 2, 3, 4, 5]\n",
    "element_to_find = 3\n",
    "\n",
    "start_time = time.time()\n",
    "if element_to_find in my_list:\n",
    "    print(\"Element found in list.\")\n",
    "end_time = time.time()\n",
    "\n",
    "list_runtime = end_time - start_time\n",
    "print(f\"Linear search in list runtime: {list_runtime} seconds\")\n",
    "\n",
    "# Membership test in a set\n",
    "my_set = {1, 2, 3, 4, 5}\n",
    "\n",
    "start_time = time.time()\n",
    "if element_to_find in my_set:\n",
    "    print(\"Element found in set.\")\n",
    "end_time = time.time()\n",
    "\n",
    "set_runtime = end_time - start_time\n",
    "print(f\"Membership test in set runtime: {set_runtime} seconds\")\n"
   ]
  },
  {
   "cell_type": "code",
   "execution_count": 11,
   "metadata": {},
   "outputs": [
    {
     "name": "stdout",
     "output_type": "stream",
     "text": [
      "Linear search in list runtime: 5.406342100002803 seconds\n",
      "Membership test in set runtime: 0.00010059999476652592 seconds\n"
     ]
    }
   ],
   "source": [
    "import timeit\n",
    "\n",
    "# Linear search in a list\n",
    "def linear_search_list(my_list, element_to_find):\n",
    "    return element_to_find in my_list\n",
    "\n",
    "# Membership test in a set\n",
    "def membership_test_set(my_set, element_to_find):\n",
    "    return element_to_find in my_set\n",
    "\n",
    "# Create a list and a set for testing\n",
    "my_list = list(range(1000000))  # List of the first million numbers\n",
    "my_set = set(my_list)  # Convert the list to a set\n",
    "\n",
    "element_to_find = 999999  # Element to search for, near the end of the list\n",
    "\n",
    "# Measure the runtime using timeit for linear search in a list\n",
    "list_runtime = timeit.timeit(lambda: linear_search_list(my_list, element_to_find), number=1000)\n",
    "print(f\"Linear search in list runtime: {list_runtime} seconds\")\n",
    "\n",
    "# Measure the runtime using timeit for membership test in a set\n",
    "set_runtime = timeit.timeit(lambda: membership_test_set(my_set, element_to_find), number=1000)\n",
    "print(f\"Membership test in set runtime: {set_runtime} seconds\")\n"
   ]
  },
  {
   "cell_type": "code",
   "execution_count": 13,
   "metadata": {},
   "outputs": [
    {
     "name": "stdout",
     "output_type": "stream",
     "text": [
      "30\n"
     ]
    }
   ],
   "source": [
    "my_list=[1,2,3]*10\n",
    "print(len(my_list))\n"
   ]
  },
  {
   "cell_type": "code",
   "execution_count": null,
   "metadata": {},
   "outputs": [],
   "source": []
  }
 ],
 "metadata": {
  "kernelspec": {
   "display_name": "Python 3",
   "language": "python",
   "name": "python3"
  },
  "language_info": {
   "codemirror_mode": {
    "name": "ipython",
    "version": 3
   },
   "file_extension": ".py",
   "mimetype": "text/x-python",
   "name": "python",
   "nbconvert_exporter": "python",
   "pygments_lexer": "ipython3",
   "version": "3.12.0"
  }
 },
 "nbformat": 4,
 "nbformat_minor": 2
}
