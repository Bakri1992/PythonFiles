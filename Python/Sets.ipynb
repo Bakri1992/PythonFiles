{
 "cells": [
  {
   "cell_type": "markdown",
   "metadata": {},
   "source": [
    "##### **Set**:\n",
    "###### [1] Set items are enclosed in curly Braces\n",
    "###### [2] Set items are not ordered and not indexed\n",
    "###### [3] Set Indexing and Slicing cant be done\n",
    "###### [4] Set has only immutable data types(Number, Strings , Tuples) List and Dict are not\n",
    "###### [5] Set Items are unique no duplicated data"
   ]
  },
  {
   "cell_type": "code",
   "execution_count": null,
   "metadata": {},
   "outputs": [],
   "source": [
    "# not ordered not indexed and slicing cant be done\n",
    "myset={\"Bakri\",\"Omar\",\"Jana\"}\n",
    "# Whenever we print the set we will get another order of items\n",
    "print(myset)\n",
    "# print(myset[3]) ## we cant access with indecies cause set is not indexed\n",
    "# print(myset[0:3]) # Slicing can not be done."
   ]
  },
  {
   "cell_type": "code",
   "execution_count": null,
   "metadata": {},
   "outputs": [],
   "source": [
    "# Set has only immutable type\n",
    "mys={\"Osama\",\"Bakri\",[1,2,3]}\n",
    "# Here I will get error cause I used mutable type inside a Set!"
   ]
  },
  {
   "cell_type": "code",
   "execution_count": null,
   "metadata": {},
   "outputs": [],
   "source": [
    "# Set items are unique\n",
    "mys2={1,1,2,2,3,4,\"Bakri\",\"Bakri\"} # Notice here every duplicated data will be removed\n",
    "                                   # You can understand it from Set definition\n",
    "mys2 "
   ]
  },
  {
   "cell_type": "markdown",
   "metadata": {},
   "source": [
    "##### **Set Method:**"
   ]
  },
  {
   "cell_type": "code",
   "execution_count": null,
   "metadata": {},
   "outputs": [],
   "source": [
    "# clear() => delete set data\n",
    "a={1,2,3}\n",
    "print(a.clear())"
   ]
  },
  {
   "cell_type": "code",
   "execution_count": null,
   "metadata": {},
   "outputs": [],
   "source": [
    "# union()  =>  To union many Sets\n",
    "b={\"one\",\"two\",\"three\"}\n",
    "c={\"four\",\"two\",\"five\"}\n",
    "print(b.union(c)) # union of b and c\n",
    "# OR\n",
    "print(b | c)\n",
    "# We can union many sets\n",
    "d={1,2,3,4}\n",
    "print(b.union(c,d)) # Union of b,c,d"
   ]
  },
  {
   "cell_type": "code",
   "execution_count": null,
   "metadata": {},
   "outputs": [],
   "source": [
    "# add() => add element to my set\n",
    "x={1,2,2,3,4,5}\n",
    "x.add(6)\n",
    "print(x)"
   ]
  },
  {
   "cell_type": "code",
   "execution_count": null,
   "metadata": {},
   "outputs": [],
   "source": [
    "# copy() =>\n",
    "e={11,22,33,44}\n",
    "f=e.copy()   # This kind of copy is shallow copy\n",
    "print(id(e)) # we can easily notice that I have two different objects.\n",
    "print(id(f)) # we can easily notice that I have two different objects.\n",
    "print(e)\n",
    "print(f)\n",
    "e.add(55)\n",
    "print(e)\n",
    "print(f)\n",
    "\n",
    "\n",
    "\n"
   ]
  },
  {
   "cell_type": "markdown",
   "metadata": {},
   "source": [
    "##### **Notice:** \n",
    "###### I cant define a nested list cause a list accept only immutable data of items(Integer, Tuple, String) AND the Set itself mutable.\n",
    "######  s1={{1,2,3},{4,5,6}} # I cant do this."
   ]
  },
  {
   "cell_type": "code",
   "execution_count": null,
   "metadata": {},
   "outputs": [],
   "source": [
    "# remove() => To remove a giving element\n",
    "g={1,2,3,4,5}\n",
    "g.remove(1)\n",
    "print(g)\n",
    "g.remove(2)\n",
    "print(g)\n",
    "g.remove(3)\n",
    "print(g)\n",
    "# Remove non existing element\n",
    "# g.remove(7)\n",
    "# print(g) # key error"
   ]
  },
  {
   "cell_type": "code",
   "execution_count": null,
   "metadata": {},
   "outputs": [],
   "source": [
    "# discard =>  same as remove but in case non-exsiting element no error here\n",
    "h={1,2,3,4,5}\n",
    "h.discard(1)\n",
    "print(h)\n",
    "h.discard(7) # It will print me the list without giving error\n",
    "print(h)"
   ]
  },
  {
   "cell_type": "code",
   "execution_count": null,
   "metadata": {},
   "outputs": [],
   "source": [
    "# pop() => it removes here randon element not the last cause I dont have index here!\n",
    "i={1,2,3,4,5}\n",
    "i.pop()\n",
    "print(i)"
   ]
  },
  {
   "cell_type": "code",
   "execution_count": 48,
   "metadata": {},
   "outputs": [
    {
     "name": "stdout",
     "output_type": "stream",
     "text": [
      "{1, 2, 3, 'koko', 'Bakri'}\n",
      "{1, 2, 3, 'Jana', 'Asmaa', 'Iman', 'koko', 'Bakri'}\n"
     ]
    }
   ],
   "source": [
    "# update() => it will union my set with other sets and assign the result to my origin set\n",
    "j={1,2,3}\n",
    "k={\"Bakri\",1,\"koko\"}\n",
    "j.update(k)\n",
    "print(j)\n",
    "# we can update the set with list of items\n",
    "j.update([\"Jana\",\"Asmaa\",\"Iman\"])\n",
    "print(j)\n"
   ]
  },
  {
   "cell_type": "code",
   "execution_count": 54,
   "metadata": {},
   "outputs": [
    {
     "name": "stdout",
     "output_type": "stream",
     "text": [
      "{3, 4}\n",
      "{'Omar', 'Koko'}\n",
      "====================\n",
      "{3, 4}\n",
      "{'Omar', 'Koko'}\n",
      "====================\n",
      "{1, 2, 3, 4}\n",
      "{3, 4}\n"
     ]
    }
   ],
   "source": [
    "# difference => It returns me the Items(as set) in my first set and not in the other\n",
    "a={1,2,3,4}\n",
    "b={1,2,\"Koko\",\"Omar\"}\n",
    "print(a.difference(b))\n",
    "print(b.difference(a))\n",
    "print(\"=\"*20)\n",
    "# another syntax\n",
    "print( a - b)\n",
    "print( b - a)\n",
    "print(\"=\"*20)\n",
    "# difference_update() => It updates my set to difference (a= a - b)\n",
    "print(a) \n",
    "a.difference_update(b) \n",
    "print(a)\n"
   ]
  },
  {
   "cell_type": "code",
   "execution_count": 61,
   "metadata": {},
   "outputs": [
    {
     "name": "stdout",
     "output_type": "stream",
     "text": [
      "{2, 'x'}\n",
      "====================\n",
      "{2, 'x'}\n",
      "====================\n",
      "{1, 2, 3, 4, 'x'}\n",
      "{2, 'x'}\n",
      "====================\n"
     ]
    }
   ],
   "source": [
    "# intesection() => the intersection of two sets\n",
    "x1={1,2,3,4,\"x\"}\n",
    "x2= {\"osama\",\"x\",2}\n",
    "print(x1.intersection(x2))\n",
    "print(\"=\"*20)\n",
    "# another syntax\n",
    "print(x1 & x2)\n",
    "print(\"=\"*20)\n",
    "# intersection_update()\n",
    "print(x1)\n",
    "x1.intersection_update(x2) # x1 = x1 & x2 \n",
    "print(x1)\n",
    "print(\"=\"*20)"
   ]
  },
  {
   "cell_type": "code",
   "execution_count": 65,
   "metadata": {},
   "outputs": [
    {
     "name": "stdout",
     "output_type": "stream",
     "text": [
      "{'osama', 3, 5, 'Zero'}\n",
      "==============================\n",
      "{1, 2, 3, 4, 5, 'x'}\n",
      "{3, 5, 'osama', 'Zero'}\n"
     ]
    }
   ],
   "source": [
    "# symmetric_difference() => it returns me the unique items in both sets\n",
    "# i ^ j = (i | j ) - ( i & j )\n",
    "# i ^ j\n",
    "i={1,2,3,4,5,\"x\"}\n",
    "j={\"osama\",\"Zero\",1,2,4,\"x\"}\n",
    "print(i.symmetric_difference(j))\n",
    "print(\"=\"*30)\n",
    "\n",
    "#\n",
    "print(i)\n",
    "i.symmetric_difference_update(j) # i = i ^ j\n",
    "print(i)\n"
   ]
  },
  {
   "cell_type": "code",
   "execution_count": 69,
   "metadata": {},
   "outputs": [
    {
     "name": "stdout",
     "output_type": "stream",
     "text": [
      "True\n",
      "True\n",
      "True\n"
     ]
    }
   ],
   "source": [
    "# issuperset() => To check if my set include the other set\n",
    "# issupset()   => To check if my set included in the other set\n",
    "# isdisjoint() => To check if two sets are disjoint(NO INTERSECTION)\n",
    "a={1,2,3,4,5,6,\"x\"}\n",
    "b={1,2,3,\"x\"}\n",
    "c={7,8,9}\n",
    "print(a.issuperset(b))\n",
    "print(b.issubset(a))\n",
    "print(a.isdisjoint(c))"
   ]
  },
  {
   "cell_type": "code",
   "execution_count": null,
   "metadata": {},
   "outputs": [],
   "source": []
  }
 ],
 "metadata": {
  "kernelspec": {
   "display_name": "Python 3",
   "language": "python",
   "name": "python3"
  },
  "language_info": {
   "codemirror_mode": {
    "name": "ipython",
    "version": 3
   },
   "file_extension": ".py",
   "mimetype": "text/x-python",
   "name": "python",
   "nbconvert_exporter": "python",
   "pygments_lexer": "ipython3",
   "version": "3.12.0"
  }
 },
 "nbformat": 4,
 "nbformat_minor": 2
}
