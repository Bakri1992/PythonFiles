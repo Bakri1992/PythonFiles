{
 "cells": [
  {
   "cell_type": "markdown",
   "metadata": {},
   "source": [
    "##### Bulit In Functions:    "
   ]
  },
  {
   "cell_type": "markdown",
   "metadata": {},
   "source": [
    "##### all():"
   ]
  },
  {
   "cell_type": "markdown",
   "metadata": {},
   "source": [
    "###### The all() function returns True if all items in an iterable are true, otherwise it returns False.\n",
    "###### If the iterable object is empty, the all() function also returns True.\n",
    "###### The argument that we passed in all should be iterable function.\n"
   ]
  },
  {
   "cell_type": "code",
   "execution_count": null,
   "metadata": {},
   "outputs": [],
   "source": [
    "print(all([]))  # my iterable object is empty => True\n",
    "my_list=[0,1,1]\n",
    "print(all(my_list)) # One of my_list is at least 0 => False\n",
    "mytuple = (0, True, False)\n",
    "print(all(mytuple)) # Two elements of my_list are 0,False => False\n",
    "myset = {33, 1, -19}\n",
    "print(all(myset))\n",
    "mydict = {0 : \"Apple\", 1 : \"Orange\"}\n",
    "print(all(mydict))\n",
    "#Note: When used on a dictionary, \n",
    "#the all() function checks if all the keys are true, not the values."
   ]
  },
  {
   "cell_type": "markdown",
   "metadata": {},
   "source": [
    "##### any() function:\n",
    "###### The any() function returns True if any item in an iterable are true, otherwise it returns False.\n",
    "###### If the iterable object is empty, the any() function will return False."
   ]
  },
  {
   "cell_type": "code",
   "execution_count": null,
   "metadata": {},
   "outputs": [],
   "source": [
    "myset = {0, 1, 0}\n",
    "print(any(myset)) # One of my elements is true(Not Null) so any returns me true\n",
    "mytup=(0,0,False)\n",
    "print(any(mytup))\n",
    "print(any([])) # Passing an empty list returns me False"
   ]
  },
  {
   "cell_type": "markdown",
   "metadata": {},
   "source": [
    "##### bin():\n",
    "###### The bin() function returns the binary version of a specified integer.\n",
    "###### The result will always start with the prefix 0b."
   ]
  },
  {
   "cell_type": "code",
   "execution_count": null,
   "metadata": {},
   "outputs": [],
   "source": [
    "print(bin(3))\n",
    "print(bin(256))"
   ]
  },
  {
   "cell_type": "markdown",
   "metadata": {},
   "source": [
    "##### id():\n",
    "###### The id() function returns a unique id for the specified object.\n",
    "###### All objects in Python has its own unique id.\n",
    "###### The id is assigned to the object when it is created\n",
    "###### The id is the object's memory address, and will be different for each time you run the program. (except for some object that has a constant unique id, like integers from -5 to 256)"
   ]
  },
  {
   "cell_type": "code",
   "execution_count": null,
   "metadata": {},
   "outputs": [],
   "source": [
    "print(id(1000))\n",
    "print(id(True))"
   ]
  },
  {
   "cell_type": "markdown",
   "metadata": {},
   "source": [
    "##### sum():\n",
    "###### [*] The sum() function returns a number, the sum of all items in an iterable.\n",
    "###### [*] sum(iterable, start)"
   ]
  },
  {
   "cell_type": "code",
   "execution_count": null,
   "metadata": {},
   "outputs": [],
   "source": [
    "a = (1, 2, 3, 4, 5)\n",
    "# Start with the number 7, and add all the items in a tuple to this number\n",
    "x = sum(a, 7)\n",
    "y = sum(a)\n",
    "print(x)\n",
    "print(y)\n"
   ]
  },
  {
   "cell_type": "markdown",
   "metadata": {},
   "source": [
    "##### round():\n",
    "###### The round() function returns a floating point number that is a rounded version of the specified number, with the specified number of decimals.\n",
    "###### round(number, digits)\n",
    "###### The default number of decimals is 0, meaning that the function will return the nearest integer.\n"
   ]
  },
  {
   "cell_type": "code",
   "execution_count": 1,
   "metadata": {},
   "outputs": [
    {
     "name": "stdout",
     "output_type": "stream",
     "text": [
      "6\n",
      "5.77\n",
      "150.55\n"
     ]
    }
   ],
   "source": [
    "x = round(5.76543)\n",
    "print(x)\n",
    "y= round(5.76543, 2) # 2 specify how many numbers after the decimals.\n",
    "print(y)\n",
    "print(round(150.55,2))"
   ]
  },
  {
   "cell_type": "markdown",
   "metadata": {},
   "source": [
    "##### range():\n",
    "###### The range() function returns a sequence of numbers, starting from 0 by default, and increments by 1 (by default), and stops before a specified number.\n",
    "###### range(start,end,step)"
   ]
  },
  {
   "cell_type": "code",
   "execution_count": null,
   "metadata": {},
   "outputs": [],
   "source": [
    "print(list(range(10)))\n",
    "# start is optional\n",
    "# end is mandatory\n",
    "# end number is not included\n",
    "print(list(range(0,30,3)))"
   ]
  },
  {
   "cell_type": "markdown",
   "metadata": {},
   "source": [
    "##### print():\n",
    "###### The print() function prints the specified message to the screen, or other standard output device.\n",
    "###### The message can be a string, or any other object, the object will be converted into a string before written to the screen.\n",
    "###### print(object(s), sep=separator, end=end, file=file, flush=flush). "
   ]
  },
  {
   "cell_type": "code",
   "execution_count": null,
   "metadata": {},
   "outputs": [],
   "source": [
    "print(\"Hello Bakri\")\n",
    "print(\"Hello\",\"Bakri\") # default sep between two args is \" \"\n",
    "print(\"Hello\",\"Bakri\",sep=\"|\") \n",
    "print(\"Hallo World\",end=\" \") # end in my print statement is by default end=\"\\n\"\n",
    "print(\"It stills on the same line\")"
   ]
  },
  {
   "cell_type": "markdown",
   "metadata": {},
   "source": [
    "##### Math functions:\n",
    "###### abs()               => it returns the absolute value\n",
    "###### pow(number,power,mod)   => it returns number to the power \n",
    "###### min()               => it returns min of a list\n",
    "###### max()               => it returns max of a list\n",
    "###### slice()             =>"
   ]
  },
  {
   "cell_type": "code",
   "execution_count": null,
   "metadata": {},
   "outputs": [],
   "source": [
    "# abs()\n",
    "print(abs(-1.36))\n",
    "print(abs(-10))\n",
    "print(abs(13))\n",
    "print(\"=\"*30)\n",
    "# pow()\n",
    "print(pow(3,3))\n",
    "print(int((pow(16,0.5))))\n",
    "print(pow(16,0.333333333333333))\n",
    "# We can add mod as arg in my pow which means see mod 10 of my power result\n",
    "print(pow(2,4,10)) #  => (2^4) % 10 => 16 % 10 = 60\n",
    "print(\"=\"*30)\n",
    "\n",
    "# min() & max()\n",
    "lst=[12,32,4,52,66]\n",
    "print(min(lst))\n",
    "print(max(lst))\n",
    "\n",
    "print(\"=\"*30)\n",
    "\n",
    "# slice()\n",
    "a=[\"A\",\"B\",\"C\",\"D\",\"E\",\"F\"]\n",
    "print(a[:3])\n",
    "print(a[slice(3)])\n",
    "# a[:3] & a[slice(3)] are exactly the same!"
   ]
  },
  {
   "cell_type": "markdown",
   "metadata": {},
   "source": [
    "##### Map\n",
    "###### Map take a function + Iterator\n",
    "###### Map called map because it maps the function on every element\n",
    "###### The Function can be pre-defined function or lambda function"
   ]
  },
  {
   "cell_type": "code",
   "execution_count": 11,
   "metadata": {},
   "outputs": [
    {
     "name": "stdout",
     "output_type": "stream",
     "text": [
      "- Osama -\n",
      "- Ahmad -\n",
      "- Bakri -\n",
      "==============================\n",
      "['- Osama -', '- Ahmad -', '- Bakri -']\n"
     ]
    }
   ],
   "source": [
    "def formattext(text):\n",
    "    return f\"- {text} -\"\n",
    "myTexts=[\"Osama\",\"Ahmad\",\"Bakri\"]\n",
    "myFormatedData= map(formattext,myTexts)#It takes two parameters function+iterable \n",
    "# print(myFormatedData)\n",
    "for name in myFormatedData: # myFormatedData will be a list like this\n",
    "                            # ['- Osama -', '- Ahmad -', '- Bakri -']\n",
    "                            # But we can print it dorectly to print it cast to list\n",
    "\n",
    "    print(name)\n",
    "print(\"=\"*30)\n",
    "# We can loop on it directly\n",
    "# for name in map(formattext,myTexts):\n",
    "#     print(name)\n",
    "\n",
    "# OR we can do like this\n",
    "mylist=list(map(formattext,myTexts))\n",
    "print(mylist)"
   ]
  },
  {
   "cell_type": "code",
   "execution_count": 6,
   "metadata": {},
   "outputs": [
    {
     "name": "stdout",
     "output_type": "stream",
     "text": [
      "-Osama-\n",
      "-Ahmad-\n",
      "-Bakri-\n"
     ]
    }
   ],
   "source": [
    "# Use Lambda with map function\n",
    "myTexts=[\"   osama     \",\"   ahmad\",\"bakri  \"]\n",
    "for name in map(lambda name:f\"-{name.strip().capitalize()}-\",myTexts):\n",
    "    print(name)"
   ]
  },
  {
   "cell_type": "markdown",
   "metadata": {},
   "source": [
    "##### Filter Function\n",
    "###### Filter takes a function + Iterator\n",
    "###### Filter run a function on every element\n",
    "###### The Function can be pre-defined function or lambda function\n",
    "###### Filter out all elements for which the function return True\n",
    "###### The function needs to return boolean value"
   ]
  },
  {
   "cell_type": "code",
   "execution_count": 9,
   "metadata": {},
   "outputs": [
    {
     "name": "stdout",
     "output_type": "stream",
     "text": [
      "19\n",
      "20\n",
      "100\n"
     ]
    }
   ],
   "source": [
    "def checkNumber(num):\n",
    "    if num >10:\n",
    "        return True # If my function returns True my filter function we take this num\n",
    "myNumbers=[1,19,10,20,100,5]\n",
    "myResult=filter(checkNumber,myNumbers)\n",
    "for num in myResult:\n",
    "    print(num)\n"
   ]
  },
  {
   "cell_type": "code",
   "execution_count": 13,
   "metadata": {},
   "outputs": [
    {
     "name": "stdout",
     "output_type": "stream",
     "text": [
      "18\n",
      "24\n",
      "32\n"
     ]
    }
   ],
   "source": [
    "# Using filter function to check if the age over 18\n",
    "ages = [5, 12, 17, 18, 24, 32]\n",
    "def myFunc(x):\n",
    "    if x < 18:\n",
    "        return False\n",
    "    else:\n",
    "        return True\n",
    "adults = filter(myFunc, ages)\n",
    "for x in adults:\n",
    "    print(x)"
   ]
  },
  {
   "cell_type": "code",
   "execution_count": 3,
   "metadata": {},
   "outputs": [
    {
     "name": "stdout",
     "output_type": "stream",
     "text": [
      "19\n",
      "10\n",
      "20\n",
      "100\n"
     ]
    }
   ],
   "source": [
    "# Easy way \n",
    "def checkNumber(num):\n",
    "    return num >=10\n",
    "myNumbers=[1,19,10,20,100,5]\n",
    "for number in filter(checkNumber,myNumbers):\n",
    "    print (number)"
   ]
  },
  {
   "cell_type": "code",
   "execution_count": 8,
   "metadata": {},
   "outputs": [
    {
     "name": "stdout",
     "output_type": "stream",
     "text": [
      "Omar\n",
      "Obayda\n",
      "['Omar', 'Obayda']\n"
     ]
    }
   ],
   "source": [
    "def checkName(name):\n",
    "    return name.startswith(\"O\")\n",
    "myNames=[\"Omar\",\"Obayda\",\"Bakri\",\"Koko\"]\n",
    "for name in filter(checkName,myNames):\n",
    "    print(name)\n",
    "myfilterdNames=list(filter(checkName,myNames))\n",
    "print(myfilterdNames)"
   ]
  },
  {
   "cell_type": "code",
   "execution_count": 10,
   "metadata": {},
   "outputs": [
    {
     "name": "stdout",
     "output_type": "stream",
     "text": [
      "Bakri\n",
      "Bissan\n"
     ]
    }
   ],
   "source": [
    "# Using lambda function\n",
    "myNames=[\"Omar\",\"Obayda\",\"Bakri\",\"Koko\",\"Bissan\"]\n",
    "for name in filter(lambda name: name.startswith(\"B\"),myNames):\n",
    "    print(name)"
   ]
  },
  {
   "cell_type": "markdown",
   "metadata": {},
   "source": [
    "##### Built in Function ==> Reduce\n",
    "###### [1] Reduce takes a function and iterator\n",
    "###### [2] Reduce run a function on first and second element and gives result\n",
    "###### [3] Then run function on result and third element \n",
    "###### [4] Then run function on result and fourth element and so on\n",
    "###### [5] Till one element is left and this is the result of the reduce\n",
    "###### [6] The Function can be pre-defined function or lambda function"
   ]
  },
  {
   "cell_type": "code",
   "execution_count": 13,
   "metadata": {},
   "outputs": [
    {
     "name": "stdout",
     "output_type": "stream",
     "text": [
      "130\n"
     ]
    }
   ],
   "source": [
    "# It used to be built in function but in new oython versions we have to import sth\n",
    "from functools import reduce\n",
    "def sumAll(num1,num2):\n",
    "    return num1+num2\n",
    "numbers=[1,2,4,6,8,9,100]\n",
    "result=reduce(sumAll,numbers)  #(((((1+2)+4)+6)+8)9)+100) how reduce works\n",
    "print(result)\n"
   ]
  },
  {
   "cell_type": "code",
   "execution_count": 14,
   "metadata": {},
   "outputs": [
    {
     "name": "stdout",
     "output_type": "stream",
     "text": [
      "130\n"
     ]
    }
   ],
   "source": [
    "# Lets do it using lambda function\n",
    "result=reduce((lambda num1,num2:num1+num2),numbers)\n",
    "print(result)"
   ]
  },
  {
   "cell_type": "code",
   "execution_count": 17,
   "metadata": {},
   "outputs": [
    {
     "name": "stdout",
     "output_type": "stream",
     "text": [
      "<class 'enumerate'>\n",
      "(0, 'Html')\n",
      "(1, 'Css')\n",
      "(2, 'JS')\n",
      "(3, 'PHP')\n"
     ]
    }
   ],
   "source": [
    "# enumerate(iterable,start=0)\n",
    "mySkills=[\"Html\",\"Css\",\"JS\",\"PHP\"]\n",
    "mySkillswithCounter=enumerate(mySkills)\n",
    "print(type(mySkillswithCounter)) # It has the type enumerate \n",
    "for skill in mySkillswithCounter:\n",
    "    print(skill)"
   ]
  },
  {
   "cell_type": "code",
   "execution_count": 19,
   "metadata": {},
   "outputs": [
    {
     "name": "stdout",
     "output_type": "stream",
     "text": [
      "(30, 'Html')\n",
      "(31, 'Css')\n",
      "(32, 'JS')\n",
      "(33, 'PHP')\n"
     ]
    }
   ],
   "source": [
    "# we can start the counter with different number\n",
    "for skill in enumerate(mySkills,30):\n",
    "    print(skill)"
   ]
  },
  {
   "cell_type": "code",
   "execution_count": 22,
   "metadata": {},
   "outputs": [
    {
     "name": "stdout",
     "output_type": "stream",
     "text": [
      "0 - Html\n",
      "1 - Css\n",
      "2 - JS\n",
      "3 - PHP\n"
     ]
    }
   ],
   "source": [
    "# We can loop on my counter and the skills\n",
    "for counter,skill in enumerate(mySkills):\n",
    "    print(f\"{counter} - {skill}\")"
   ]
  },
  {
   "cell_type": "code",
   "execution_count": 30,
   "metadata": {},
   "outputs": [
    {
     "name": "stdout",
     "output_type": "stream",
     "text": [
      "Help on built-in function reduce in module _functools:\n",
      "\n",
      "reduce(...)\n",
      "    reduce(function, iterable[, initial]) -> value\n",
      "\n",
      "    Apply a function of two arguments cumulatively to the items of a sequence\n",
      "    or iterable, from left to right, so as to reduce the iterable to a single\n",
      "    value.  For example, reduce(lambda x, y: x+y, [1, 2, 3, 4, 5]) calculates\n",
      "    ((((1+2)+3)+4)+5).  If initial is present, it is placed before the items\n",
      "    of the iterable in the calculation, and serves as a default when the\n",
      "    iterable is empty.\n",
      "\n",
      "Help on class reversed in module builtins:\n",
      "\n",
      "class reversed(object)\n",
      " |  reversed(sequence, /)\n",
      " |\n",
      " |  Return a reverse iterator over the values of the given sequence.\n",
      " |\n",
      " |  Methods defined here:\n",
      " |\n",
      " |  __getattribute__(self, name, /)\n",
      " |      Return getattr(self, name).\n",
      " |\n",
      " |  __iter__(self, /)\n",
      " |      Implement iter(self).\n",
      " |\n",
      " |  __length_hint__(...)\n",
      " |      Private method returning an estimate of len(list(it)).\n",
      " |\n",
      " |  __next__(self, /)\n",
      " |      Implement next(self).\n",
      " |\n",
      " |  __reduce__(...)\n",
      " |      Return state information for pickling.\n",
      " |\n",
      " |  __setstate__(...)\n",
      " |      Set state information for unpickling.\n",
      " |\n",
      " |  ----------------------------------------------------------------------\n",
      " |  Static methods defined here:\n",
      " |\n",
      " |  __new__(*args, **kwargs) from builtins.type\n",
      " |      Create and return a new object.  See help(type) for accurate signature.\n",
      "\n"
     ]
    }
   ],
   "source": [
    "# help()   => we use it to get help\n",
    "help(reduce)\n",
    "help(reversed)"
   ]
  },
  {
   "cell_type": "code",
   "execution_count": 29,
   "metadata": {},
   "outputs": [
    {
     "name": "stdout",
     "output_type": "stream",
     "text": [
      "<reversed object at 0x000001E90A973310>\n",
      "i\n",
      "r\n",
      "k\n",
      "a\n",
      "B\n"
     ]
    }
   ],
   "source": [
    "# reversed(iterable)  => it revers my iterable.\n",
    "myText=\"Bakri\"\n",
    "reversedText=reversed(myText)\n",
    "print(reversedText)\n",
    "for letter in reversedText:\n",
    "    print(letter)"
   ]
  },
  {
   "cell_type": "code",
   "execution_count": null,
   "metadata": {},
   "outputs": [],
   "source": []
  }
 ],
 "metadata": {
  "kernelspec": {
   "display_name": "Python 3",
   "language": "python",
   "name": "python3"
  },
  "language_info": {
   "codemirror_mode": {
    "name": "ipython",
    "version": 3
   },
   "file_extension": ".py",
   "mimetype": "text/x-python",
   "name": "python",
   "nbconvert_exporter": "python",
   "pygments_lexer": "ipython3",
   "version": "3.12.0"
  }
 },
 "nbformat": 4,
 "nbformat_minor": 2
}
