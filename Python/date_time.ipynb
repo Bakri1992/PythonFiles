{
 "cells": [
  {
   "cell_type": "markdown",
   "metadata": {},
   "source": [
    "##### Import datetime:"
   ]
  },
  {
   "cell_type": "code",
   "execution_count": 2,
   "metadata": {},
   "outputs": [
    {
     "name": "stdout",
     "output_type": "stream",
     "text": [
      "['MAXYEAR', 'MINYEAR', 'UTC', '__all__', '__builtins__', '__cached__', '__doc__', '__file__', '__loader__', '__name__', '__package__', '__spec__', 'date', 'datetime', 'datetime_CAPI', 'time', 'timedelta', 'timezone', 'tzinfo']\n"
     ]
    }
   ],
   "source": [
    "import datetime\n",
    "print(dir(datetime))"
   ]
  },
  {
   "cell_type": "code",
   "execution_count": null,
   "metadata": {},
   "outputs": [],
   "source": [
    "print(dir(datetime.datetime))"
   ]
  },
  {
   "cell_type": "code",
   "execution_count": 5,
   "metadata": {},
   "outputs": [
    {
     "name": "stdout",
     "output_type": "stream",
     "text": [
      "2023-12-22 23:57:52.002486\n"
     ]
    }
   ],
   "source": [
    "# Print the current Date and Time\n",
    "print(datetime.datetime.now())\n",
    "# The last long number will be returned is the micro seconds!\n"
   ]
  },
  {
   "cell_type": "code",
   "execution_count": 6,
   "metadata": {},
   "outputs": [
    {
     "name": "stdout",
     "output_type": "stream",
     "text": [
      "2023\n"
     ]
    }
   ],
   "source": [
    "# Print the current Year\n",
    "print(datetime.datetime.now().year)"
   ]
  },
  {
   "cell_type": "code",
   "execution_count": 7,
   "metadata": {},
   "outputs": [
    {
     "name": "stdout",
     "output_type": "stream",
     "text": [
      "12\n"
     ]
    }
   ],
   "source": [
    "# Print the current Month\n",
    "print(datetime.datetime.now().month)"
   ]
  },
  {
   "cell_type": "code",
   "execution_count": 8,
   "metadata": {},
   "outputs": [
    {
     "name": "stdout",
     "output_type": "stream",
     "text": [
      "23\n"
     ]
    }
   ],
   "source": [
    "# Print the current Day\n",
    "print(datetime.datetime.now().day)"
   ]
  },
  {
   "cell_type": "code",
   "execution_count": 9,
   "metadata": {},
   "outputs": [
    {
     "name": "stdout",
     "output_type": "stream",
     "text": [
      "0001-01-01 00:00:00\n",
      "9999-12-31 23:59:59.999999\n"
     ]
    }
   ],
   "source": [
    "# Print start and End of Date\n",
    "print(datetime.datetime.min)\n",
    "print(datetime.datetime.max)"
   ]
  },
  {
   "cell_type": "code",
   "execution_count": 11,
   "metadata": {},
   "outputs": [
    {
     "name": "stdout",
     "output_type": "stream",
     "text": [
      "00:11:56.630000\n"
     ]
    }
   ],
   "source": [
    "# Print the Current Time\n",
    "print(datetime.datetime.now().time())"
   ]
  },
  {
   "cell_type": "code",
   "execution_count": 13,
   "metadata": {},
   "outputs": [
    {
     "name": "stdout",
     "output_type": "stream",
     "text": [
      "0\n"
     ]
    }
   ],
   "source": [
    "# Print the Current Time Hour \n",
    "print(datetime.datetime.now().time().hour)"
   ]
  },
  {
   "cell_type": "code",
   "execution_count": 14,
   "metadata": {},
   "outputs": [
    {
     "name": "stdout",
     "output_type": "stream",
     "text": [
      "15\n"
     ]
    }
   ],
   "source": [
    "# Print the Current Time Minutes\n",
    "print(datetime.datetime.now().time().minute)"
   ]
  },
  {
   "cell_type": "code",
   "execution_count": 15,
   "metadata": {},
   "outputs": [
    {
     "name": "stdout",
     "output_type": "stream",
     "text": [
      "39\n"
     ]
    }
   ],
   "source": [
    "# Print the Current Time Seconds\n",
    "print(datetime.datetime.now().time().second)"
   ]
  },
  {
   "cell_type": "code",
   "execution_count": 17,
   "metadata": {},
   "outputs": [
    {
     "name": "stdout",
     "output_type": "stream",
     "text": [
      "257372\n"
     ]
    }
   ],
   "source": [
    "# Print the Current Time micro second\n",
    "print(datetime.datetime.now().time().microsecond)"
   ]
  },
  {
   "cell_type": "code",
   "execution_count": 20,
   "metadata": {},
   "outputs": [
    {
     "name": "stdout",
     "output_type": "stream",
     "text": [
      "1992-09-01 00:00:00\n",
      "1998-11-12 03:33:33.546463\n"
     ]
    }
   ],
   "source": [
    "# Print specific Date => \n",
    "# datetime.datetime(Year,Month,Day,hours,minutes,seconds,mseconds)\n",
    "print(datetime.datetime(1992,9,1))\n",
    "print(datetime.datetime(1998,11,12,3,33,33,546463))\n"
   ]
  },
  {
   "cell_type": "code",
   "execution_count": 33,
   "metadata": {},
   "outputs": [
    {
     "name": "stdout",
     "output_type": "stream",
     "text": [
      "My birthday is  1992-09-01 00:00:00 And The Date now is 2023-12-23 00:36:29.619641\n",
      "I Lived for 11435 days, 0:36:29.619641 \n",
      "I Lived for 11435 Days \n"
     ]
    }
   ],
   "source": [
    "birthDay=datetime.datetime(1992,9,1)\n",
    "print(f\"My birthday is  {birthDay} And \",end=\"\") \n",
    "dateNow=datetime.datetime.now()\n",
    "print(f\"The Date now is {dateNow}\") \n",
    "print(f\"I Lived for {dateNow - birthDay} \")\n",
    "# I want to return only the days\n",
    "print(f\"I Lived for {(dateNow - birthDay).days} Days \")\n",
    "# We can subtract the date easily\n"
   ]
  },
  {
   "cell_type": "markdown",
   "metadata": {},
   "source": [
    "##### Format Date:"
   ]
  },
  {
   "cell_type": "markdown",
   "metadata": {},
   "source": [
    "##### We can use strftime to do format my date  \n",
    "###### To know more about strftime => https://strftime.org"
   ]
  },
  {
   "cell_type": "code",
   "execution_count": 41,
   "metadata": {},
   "outputs": [
    {
     "name": "stdout",
     "output_type": "stream",
     "text": [
      "1992-09-01 00:00:00\n",
      "Tue\n",
      "Tuesday\n",
      "Sep\n",
      "September\n",
      "09\n",
      "01\n",
      "01 September 1992 \n",
      "01-September-1992\n",
      "01-09-1992\n"
     ]
    }
   ],
   "source": [
    "import datetime\n",
    "myBirthday= datetime.datetime(1992,9,1)\n",
    "print(myBirthday)\n",
    "print(myBirthday.strftime(\"%a\")) # shortcut Day of the week\n",
    "print(myBirthday.strftime(\"%A\")) # full name Day of the week\n",
    "print(myBirthday.strftime(\"%b\")) # shortcut Month name\n",
    "print(myBirthday.strftime(\"%B\")) # full name Month name\n",
    "print(myBirthday.strftime(\"%m\")) # print number of month\n",
    "print(myBirthday.strftime(\"%d\")) # Print the day as 01\n",
    "# Print the Date with choosed format\n",
    "print(myBirthday.strftime(\"%d %B %Y \"))\n",
    "print(myBirthday.strftime(\"%d-%B-%Y\"))\n",
    "print(myBirthday.strftime(\"%d-%m-%Y\"))\n"
   ]
  },
  {
   "cell_type": "markdown",
   "metadata": {},
   "source": [
    "##### Date using date Method from datetime:"
   ]
  },
  {
   "cell_type": "code",
   "execution_count": 6,
   "metadata": {},
   "outputs": [
    {
     "name": "stdout",
     "output_type": "stream",
     "text": [
      "1992-09-01\n"
     ]
    }
   ],
   "source": [
    "# Lets use datetime.date(Y,M,D)\n",
    "d= datetime.date(1992,9,1) # we pass the number of day or month without Zeros\n",
    "print(d)"
   ]
  },
  {
   "cell_type": "code",
   "execution_count": 10,
   "metadata": {},
   "outputs": [
    {
     "name": "stdout",
     "output_type": "stream",
     "text": [
      "2023-12-23\n",
      "2023\n",
      "12\n",
      "23\n",
      "5\n",
      "6\n",
      "2\n"
     ]
    }
   ],
   "source": [
    "# Print Date Today\n",
    "tdy=datetime.date.today()\n",
    "print(tdy)\n",
    "# to grap just the Year or Month or Day\n",
    "print(tdy.year)\n",
    "print(tdy.month)\n",
    "print(tdy.day)\n",
    "# We can get the day of the week using weekday(),  isoweekday()\n",
    "print(tdy.weekday()) # weekday() => Monday 0  Sunday 6\n",
    "print(tdy.isoweekday()) # isoweekday() => Monday 1 Sunday 7\n",
    "# Print the weekday of my birthday \n",
    "print(datetime.date(1992,9,1).isoweekday()) # 2 => Tuesday"
   ]
  },
  {
   "cell_type": "markdown",
   "metadata": {},
   "source": [
    "##### timedelta():"
   ]
  },
  {
   "cell_type": "code",
   "execution_count": 12,
   "metadata": {},
   "outputs": [
    {
     "name": "stdout",
     "output_type": "stream",
     "text": [
      "2023-12-30\n",
      "2023-12-16\n"
     ]
    }
   ],
   "source": [
    "# We can use timedelta to know the date one week ago or after for example\n",
    "tdelta=datetime.timedelta(days=7)\n",
    "# To know the date after 7 Days\n",
    "print(tdy+tdelta)\n",
    "# To know the date before 7 Days\n",
    "print(tdy-tdelta)"
   ]
  },
  {
   "cell_type": "code",
   "execution_count": 20,
   "metadata": {},
   "outputs": [
    {
     "name": "stdout",
     "output_type": "stream",
     "text": [
      "253 days, 0:00:00\n",
      "253\n"
     ]
    }
   ],
   "source": [
    "# Lets calculate how many birthday until my next birthday\n",
    "bday=datetime.date(2024,9,1)\n",
    "till_bday=bday-tdy\n",
    "print(till_bday)\n",
    "# To get only the days\n",
    "print(till_bday.days) # we dont need here() because days is a property not method!\n",
    "\n"
   ]
  },
  {
   "cell_type": "markdown",
   "metadata": {},
   "source": [
    "##### time() Method:\n",
    "###### time(hours,minutes,seconds,micro seconds)\n",
    "###### we will work here with hours minutes seconds and micro seconds."
   ]
  },
  {
   "cell_type": "code",
   "execution_count": 22,
   "metadata": {},
   "outputs": [
    {
     "name": "stdout",
     "output_type": "stream",
     "text": [
      "14:17:58.565656\n"
     ]
    }
   ],
   "source": [
    "t= datetime.time(14,17,58,565656)\n",
    "print(t)"
   ]
  },
  {
   "cell_type": "code",
   "execution_count": 24,
   "metadata": {},
   "outputs": [
    {
     "name": "stdout",
     "output_type": "stream",
     "text": [
      "1992-09-01 04:58:06.656565\n"
     ]
    }
   ],
   "source": [
    "# To combine the date and the time we use here datetime.datetime()\n",
    "dt=datetime.datetime(1992,9,1,4,58,6,656565)\n",
    "print(dt)"
   ]
  },
  {
   "cell_type": "code",
   "execution_count": 26,
   "metadata": {},
   "outputs": [
    {
     "name": "stdout",
     "output_type": "stream",
     "text": [
      "2023-12-23 14:25:40.618734\n",
      "2023-12-23 14:25:40.619235\n",
      "2023-12-23 13:25:40.619235\n"
     ]
    },
    {
     "name": "stderr",
     "output_type": "stream",
     "text": [
      "C:\\Users\\bakri\\AppData\\Local\\Temp\\ipykernel_29036\\4244646425.py:3: DeprecationWarning: datetime.datetime.utcnow() is deprecated and scheduled for removal in a future version. Use timezone-aware objects to represent datetimes in UTC: datetime.datetime.now(datetime.UTC).\n",
      "  dt_utcnow=datetime.datetime.utcnow()\n"
     ]
    }
   ],
   "source": [
    "dt_today=datetime.datetime.today()\n",
    "dt_now=datetime.datetime.now()\n",
    "dt_utcnow=datetime.datetime.utcnow()\n",
    "print(dt_today)\n",
    "print(dt_now)\n",
    "print(dt_utcnow)"
   ]
  },
  {
   "cell_type": "code",
   "execution_count": 27,
   "metadata": {},
   "outputs": [],
   "source": [
    "# Its recommended to work with pytz module when dealing with timezones\n",
    "import pytz\n"
   ]
  },
  {
   "cell_type": "markdown",
   "metadata": {},
   "source": [
    "##### Convert datetime to string with specific format and opposite:"
   ]
  },
  {
   "cell_type": "code",
   "execution_count": 36,
   "metadata": {},
   "outputs": [
    {
     "name": "stdout",
     "output_type": "stream",
     "text": [
      "2024-09-01\n",
      "<class 'datetime.date'>\n",
      "September 01, 2024\n",
      "<class 'str'>\n",
      "2024-09-01 00:00:00\n",
      "<class 'datetime.datetime'>\n"
     ]
    }
   ],
   "source": [
    "# strftime => Converts Datetime to string   (f for format)\n",
    "print(bday)\n",
    "print(type(bday))\n",
    "sdate= bday.strftime(\"%B %d, %Y\")\n",
    "print(sdate)\n",
    "print(type(sdate))\n",
    "\n",
    "# strptime => Converts String to Datetime (p for parsing)\n",
    "dt=datetime.datetime.strptime(sdate,\"%B %d, %Y\")\n",
    "print(dt)\n",
    "print(type(dt))"
   ]
  },
  {
   "cell_type": "code",
   "execution_count": null,
   "metadata": {},
   "outputs": [],
   "source": []
  }
 ],
 "metadata": {
  "kernelspec": {
   "display_name": "Python 3",
   "language": "python",
   "name": "python3"
  },
  "language_info": {
   "codemirror_mode": {
    "name": "ipython",
    "version": 3
   },
   "file_extension": ".py",
   "mimetype": "text/x-python",
   "name": "python",
   "nbconvert_exporter": "python",
   "pygments_lexer": "ipython3",
   "version": "3.12.0"
  }
 },
 "nbformat": 4,
 "nbformat_minor": 2
}
