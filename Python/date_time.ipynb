{
 "cells": [
  {
   "cell_type": "markdown",
   "metadata": {},
   "source": [
    "##### Import datetime:"
   ]
  },
  {
   "cell_type": "code",
   "execution_count": null,
   "metadata": {},
   "outputs": [],
   "source": [
    "import datetime\n",
    "print(dir(datetime))"
   ]
  },
  {
   "cell_type": "code",
   "execution_count": null,
   "metadata": {},
   "outputs": [],
   "source": [
    "print(dir(datetime.datetime))"
   ]
  },
  {
   "cell_type": "code",
   "execution_count": 5,
   "metadata": {},
   "outputs": [
    {
     "name": "stdout",
     "output_type": "stream",
     "text": [
      "2023-12-22 23:57:52.002486\n"
     ]
    }
   ],
   "source": [
    "# Print the current Date and Time\n",
    "print(datetime.datetime.now())\n",
    "# The last long number will be returned is the micro seconds!\n"
   ]
  },
  {
   "cell_type": "code",
   "execution_count": 6,
   "metadata": {},
   "outputs": [
    {
     "name": "stdout",
     "output_type": "stream",
     "text": [
      "2023\n"
     ]
    }
   ],
   "source": [
    "# Print the current Year\n",
    "print(datetime.datetime.now().year)"
   ]
  },
  {
   "cell_type": "code",
   "execution_count": 7,
   "metadata": {},
   "outputs": [
    {
     "name": "stdout",
     "output_type": "stream",
     "text": [
      "12\n"
     ]
    }
   ],
   "source": [
    "# Print the current Month\n",
    "print(datetime.datetime.now().month)"
   ]
  },
  {
   "cell_type": "code",
   "execution_count": 8,
   "metadata": {},
   "outputs": [
    {
     "name": "stdout",
     "output_type": "stream",
     "text": [
      "23\n"
     ]
    }
   ],
   "source": [
    "# Print the current Day\n",
    "print(datetime.datetime.now().day)"
   ]
  },
  {
   "cell_type": "code",
   "execution_count": 9,
   "metadata": {},
   "outputs": [
    {
     "name": "stdout",
     "output_type": "stream",
     "text": [
      "0001-01-01 00:00:00\n",
      "9999-12-31 23:59:59.999999\n"
     ]
    }
   ],
   "source": [
    "# Print start and End of Date\n",
    "print(datetime.datetime.min)\n",
    "print(datetime.datetime.max)"
   ]
  },
  {
   "cell_type": "code",
   "execution_count": 11,
   "metadata": {},
   "outputs": [
    {
     "name": "stdout",
     "output_type": "stream",
     "text": [
      "00:11:56.630000\n"
     ]
    }
   ],
   "source": [
    "# Print the Current Time\n",
    "print(datetime.datetime.now().time())"
   ]
  },
  {
   "cell_type": "code",
   "execution_count": 13,
   "metadata": {},
   "outputs": [
    {
     "name": "stdout",
     "output_type": "stream",
     "text": [
      "0\n"
     ]
    }
   ],
   "source": [
    "# Print the Current Time Hour \n",
    "print(datetime.datetime.now().time().hour)"
   ]
  },
  {
   "cell_type": "code",
   "execution_count": 14,
   "metadata": {},
   "outputs": [
    {
     "name": "stdout",
     "output_type": "stream",
     "text": [
      "15\n"
     ]
    }
   ],
   "source": [
    "# Print the Current Time Minutes\n",
    "print(datetime.datetime.now().time().minute)"
   ]
  },
  {
   "cell_type": "code",
   "execution_count": 15,
   "metadata": {},
   "outputs": [
    {
     "name": "stdout",
     "output_type": "stream",
     "text": [
      "39\n"
     ]
    }
   ],
   "source": [
    "# Print the Current Time Seconds\n",
    "print(datetime.datetime.now().time().second)"
   ]
  },
  {
   "cell_type": "code",
   "execution_count": 17,
   "metadata": {},
   "outputs": [
    {
     "name": "stdout",
     "output_type": "stream",
     "text": [
      "257372\n"
     ]
    }
   ],
   "source": [
    "# Print the Current Time micro second\n",
    "print(datetime.datetime.now().time().microsecond)"
   ]
  },
  {
   "cell_type": "code",
   "execution_count": 20,
   "metadata": {},
   "outputs": [
    {
     "name": "stdout",
     "output_type": "stream",
     "text": [
      "1992-09-01 00:00:00\n",
      "1998-11-12 03:33:33.546463\n"
     ]
    }
   ],
   "source": [
    "# Print specific Date => \n",
    "# datetime.datetime(Year,Month,Day,hours,minutes,seconds,mseconds)\n",
    "print(datetime.datetime(1992,9,1))\n",
    "print(datetime.datetime(1998,11,12,3,33,33,546463))\n"
   ]
  },
  {
   "cell_type": "code",
   "execution_count": 33,
   "metadata": {},
   "outputs": [
    {
     "name": "stdout",
     "output_type": "stream",
     "text": [
      "My birthday is  1992-09-01 00:00:00 And The Date now is 2023-12-23 00:36:29.619641\n",
      "I Lived for 11435 days, 0:36:29.619641 \n",
      "I Lived for 11435 Days \n"
     ]
    }
   ],
   "source": [
    "birthDay=datetime.datetime(1992,9,1)\n",
    "print(f\"My birthday is  {birthDay} And \",end=\"\") \n",
    "dateNow=datetime.datetime.now()\n",
    "print(f\"The Date now is {dateNow}\") \n",
    "print(f\"I Lived for {dateNow - birthDay} \")\n",
    "# I want to return only the days\n",
    "print(f\"I Lived for {(dateNow - birthDay).days} Days \")\n",
    "# We can subtract the date easily\n"
   ]
  },
  {
   "cell_type": "markdown",
   "metadata": {},
   "source": [
    "##### Format Date:"
   ]
  },
  {
   "cell_type": "markdown",
   "metadata": {},
   "source": []
  }
 ],
 "metadata": {
  "kernelspec": {
   "display_name": "Python 3",
   "language": "python",
   "name": "python3"
  },
  "language_info": {
   "codemirror_mode": {
    "name": "ipython",
    "version": 3
   },
   "file_extension": ".py",
   "mimetype": "text/x-python",
   "name": "python",
   "nbconvert_exporter": "python",
   "pygments_lexer": "ipython3",
   "version": "3.12.0"
  }
 },
 "nbformat": 4,
 "nbformat_minor": 2
}
