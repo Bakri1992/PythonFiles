{
 "cells": [
  {
   "cell_type": "markdown",
   "metadata": {},
   "source": [
    "###### How to know the reserved word in Python?"
   ]
  },
  {
   "cell_type": "code",
   "execution_count": null,
   "metadata": {},
   "outputs": [],
   "source": [
    "help(\"keywords\")"
   ]
  },
  {
   "cell_type": "markdown",
   "metadata": {},
   "source": [
    "###### How to assign many values in one agginment?"
   ]
  },
  {
   "cell_type": "code",
   "execution_count": null,
   "metadata": {},
   "outputs": [],
   "source": [
    "a, b ,c =1,2,3\n",
    "print(a)\n",
    "print(b)\n",
    "print(c)"
   ]
  },
  {
   "cell_type": "markdown",
   "metadata": {},
   "source": [
    "###### Escape Sequences Characters in Python:"
   ]
  },
  {
   "cell_type": "code",
   "execution_count": null,
   "metadata": {},
   "outputs": [],
   "source": [
    "print(\"Hello\\bWorld\")  # Back space #will Remove o\n",
    "print(\"Hallo I Love \\\n",
    "      Programming\")    #  Ignore the new Line\n",
    "print(\"I Love You! \\\\\")# To print the \\ we put a \\ befor it\n",
    "# Escape single or double Quote\n",
    "print(\"I Love \\'Test\\'\")\n",
    "# New Line\n",
    "print(\"First Line\\nSecond Line\")\n",
    "# carriage Return\n",
    "print(\"abcdef\\r1234\") #it will replace my first 4 character with 1234\n",
    "#\\xhh ==> Character Hex Value\n",
    "print(\"\\x65\")"
   ]
  },
  {
   "cell_type": "code",
   "execution_count": null,
   "metadata": {},
   "outputs": [],
   "source": [
    "# Want to print \"\" without escaping\n",
    "print('Hallo \"Love\"')\n",
    "# Want to print '' without escaping\n",
    "print(\"Hallo 'Love'\")"
   ]
  },
  {
   "cell_type": "code",
   "execution_count": null,
   "metadata": {},
   "outputs": [],
   "source": []
  }
 ],
 "metadata": {
  "kernelspec": {
   "display_name": "Python 3",
   "language": "python",
   "name": "python3"
  },
  "language_info": {
   "codemirror_mode": {
    "name": "ipython",
    "version": 3
   },
   "file_extension": ".py",
   "mimetype": "text/x-python",
   "name": "python",
   "nbconvert_exporter": "python",
   "pygments_lexer": "ipython3",
   "version": "3.12.0"
  }
 },
 "nbformat": 4,
 "nbformat_minor": 2
}
