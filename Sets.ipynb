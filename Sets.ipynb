{
 "cells": [
  {
   "cell_type": "markdown",
   "metadata": {},
   "source": [
    "##### **Set**:\n",
    "###### [1] Set items are enclosed in curly Bruckets\n",
    "###### [2] Set items are not ordered and not indexed\n",
    "###### [3] Set Indexing and Slicing cant be done\n",
    "###### [4] Set has only immutable data types(Number, Strings , Tuples) List and Dict are not\n",
    "###### [5] "
   ]
  },
  {
   "cell_type": "code",
   "execution_count": 1,
   "metadata": {},
   "outputs": [
    {
     "name": "stdout",
     "output_type": "stream",
     "text": [
      "{'Jana', 'Omar', 'Bakri'}\n"
     ]
    }
   ],
   "source": [
    "# not ordered not indexed and slicing cant be done\n",
    "myset={\"Bakri\",\"Omar\",\"Jana\"}\n",
    "# Whenever we print the set we will get another order of items\n",
    "print(myset)\n",
    "# print(myset[3]) ## we cant access with indecies cause set is not indexed"
   ]
  },
  {
   "cell_type": "code",
   "execution_count": null,
   "metadata": {},
   "outputs": [],
   "source": []
  }
 ],
 "metadata": {
  "kernelspec": {
   "display_name": "Python 3",
   "language": "python",
   "name": "python3"
  },
  "language_info": {
   "codemirror_mode": {
    "name": "ipython",
    "version": 3
   },
   "file_extension": ".py",
   "mimetype": "text/x-python",
   "name": "python",
   "nbconvert_exporter": "python",
   "pygments_lexer": "ipython3",
   "version": "3.12.0"
  }
 },
 "nbformat": 4,
 "nbformat_minor": 2
}
