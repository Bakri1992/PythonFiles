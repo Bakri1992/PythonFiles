{
 "cells": [
  {
   "cell_type": "markdown",
   "metadata": {},
   "source": [
    " ##### Strings Formatting: "
   ]
  },
  {
   "cell_type": "markdown",
   "metadata": {},
   "source": [
    "##### old way:"
   ]
  },
  {
   "cell_type": "code",
   "execution_count": null,
   "metadata": {},
   "outputs": [],
   "source": [
    "name=\"Bakri\"\n",
    "age=36\n",
    "print(\"My Name is : \" + name )\n",
    "#I cant concatentate string with integer in python.\n",
    "# print(\"My Name is : \" + name + \"My Age is : \"+Age)  #error\n",
    "\n",
    "# We can use place holder to concatenate String and Integer => %s for string %d for digit\n",
    "# %s  => String\n",
    "# %d  => Digit\n",
    "# %f  => float\n",
    "print(\"My Name is : %s\" % name)\n",
    "print(\"My Name is : %s and my Age is : %d\" % (name,age) )"
   ]
  },
  {
   "cell_type": "markdown",
   "metadata": {},
   "source": [
    "##### Some examples:\n"
   ]
  },
  {
   "cell_type": "code",
   "execution_count": 6,
   "metadata": {},
   "outputs": [
    {
     "name": "stdout",
     "output_type": "stream",
     "text": [
      "I am Bakri I am from Syria my age 31 I graduated from Aleppo university with Average 82.760000\n",
      "my number is: 10.00\n",
      "Message is Hello\n",
      "Message is Hello peop\n"
     ]
    }
   ],
   "source": [
    "name=\"Bakri\"\n",
    "county=\"Syria\"\n",
    "age=31\n",
    "avg=82.76\n",
    "print(\"I am %s I am from %s my age %d I graduated from Aleppo university with Average %f\" %\n",
    "      (name,county,age,avg))\n",
    "# I can control how many zeros to show in my float\n",
    "myNumber =10\n",
    "print(\"my number is: %.2f\" % myNumber) # %.2f it means two float number.\n",
    "#  Truncate String\n",
    "myLongString = \"Hello people of Elzero web school I love you all\"\n",
    "print(\"Message is %.5s\" %myLongString) # It will truncate the first five Chars\n",
    "print(\"Message is %.10s\" %myLongString) # It will truncate the first ten Chars"
   ]
  },
  {
   "cell_type": "markdown",
   "metadata": {},
   "source": [
    "##### New Way:"
   ]
  },
  {
   "cell_type": "code",
   "execution_count": 7,
   "metadata": {},
   "outputs": [
    {
     "name": "stdout",
     "output_type": "stream",
     "text": [
      "Bakri 10\n"
     ]
    }
   ],
   "source": [
    "print(\"{} {}\".format(\"Bakri\",10))\n",
    "# {} new way\n",
    "# %s %d %f old way\n"
   ]
  },
  {
   "cell_type": "code",
   "execution_count": null,
   "metadata": {},
   "outputs": [],
   "source": []
  }
 ],
 "metadata": {
  "kernelspec": {
   "display_name": "Python 3",
   "language": "python",
   "name": "python3"
  },
  "language_info": {
   "codemirror_mode": {
    "name": "ipython",
    "version": 3
   },
   "file_extension": ".py",
   "mimetype": "text/x-python",
   "name": "python",
   "nbconvert_exporter": "python",
   "pygments_lexer": "ipython3",
   "version": "3.12.0"
  }
 },
 "nbformat": 4,
 "nbformat_minor": 2
}
