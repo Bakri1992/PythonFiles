{
 "cells": [
  {
   "cell_type": "markdown",
   "metadata": {},
   "source": [
    "##### Strings Methods:"
   ]
  },
  {
   "cell_type": "code",
   "execution_count": null,
   "metadata": {},
   "outputs": [],
   "source": [
    "my_str=\"   I Love Programming     \"\n",
    "# rstrip()  => remove spaces from right\n",
    "print(my_str.rstrip())\n",
    "# lstrip()  => remove spaces from left\n",
    "print(my_str.lstrip())\n",
    "# strip()  => remove spaces from both sides \n",
    "print(my_str.strip())\n",
    "# We can use strip to remove a soecific character\n",
    "str =\"######I Love Programming#######\"\n",
    "print(str.rstrip(\"#\"))\n",
    "print(str.lstrip(\"#\"))\n",
    "print(str.strip(\"#\"))\n",
    "# we can use as parameter many chars\n",
    "print(str.lstrip(\"@#\"))"
   ]
  },
  {
   "cell_type": "code",
   "execution_count": null,
   "metadata": {},
   "outputs": [],
   "source": [
    "# title() => it turns every first char big and the char after a number is big \n",
    "a=\"I love 2d graphics and 3g Technology and programming\"\n",
    "print(a.title())\n",
    "# capitalize() => it turns every first char big but after a number still the same\n",
    "print(a.capitalize())\n",
    "# zfill => pad a numeric string with zeros on the left\n",
    "c,d,e=\"1\",\"11\",\"111\"\n",
    "print(c.zfill(3))\n",
    "print(d.zfill(3))\n",
    "print(e.zfill(3))\n",
    "\n",
    "# upper() , lower => To turn my string to upper case(lower)\n",
    "f=\"bakri\"\n",
    "print(f.upper())\n",
    "\n"
   ]
  },
  {
   "cell_type": "code",
   "execution_count": null,
   "metadata": {},
   "outputs": [],
   "source": [
    "# split() => To slpit my string into a list we have to spicific where to split(by default is space)\n",
    "a=\"I Love Programming\"\n",
    "print(a.split(\",\"))\n",
    "b=\"I-Love-programming-in-C++-and-python\"\n",
    "print(b.split(\"-\"))\n",
    "print(b.split(\"-\",2)) # split just 2 then the rest as a string\n",
    "# rsplit(\"-\",2) =>  split two but from the right\n",
    "print(b.rsplit(\"-\",2))"
   ]
  },
  {
   "cell_type": "code",
   "execution_count": null,
   "metadata": {},
   "outputs": [],
   "source": [
    "# center() \n",
    "a=\"Bakri\"\n",
    "print(a.center(15)) # a is five chars and center has parameter 15 => 5 spaces + Bakri + 5 spaces\n",
    "print(a.center(25,\"-\"))# here I choosed what to put before and after Bakri\n"
   ]
  },
  {
   "cell_type": "code",
   "execution_count": 13,
   "metadata": {},
   "outputs": [
    {
     "name": "stdout",
     "output_type": "stream",
     "text": [
      "4\n",
      "2\n"
     ]
    }
   ],
   "source": [
    "# count(\"MyStr\", start, end) => it counts me how many words or char I give as parameter\n",
    "a=\"I Love programming cause its so fun and good really good ä\"\n",
    "print(a.count(\"a\"))\n",
    "print(a.count(\"good\"))"
   ]
  },
  {
   "cell_type": "code",
   "execution_count": 14,
   "metadata": {},
   "outputs": [
    {
     "name": "stdout",
     "output_type": "stream",
     "text": [
      "i lOVE pYTHON\n",
      "I LOVE pYtHON\n"
     ]
    }
   ],
   "source": [
    "# swapcase() => swap small char to capital and opposite\n",
    "g=\"I Love Python\"\n",
    "h=\"i love PyThon\"\n",
    "print(g.swapcase())\n",
    "print(h.swapcase())\n"
   ]
  },
  {
   "cell_type": "code",
   "execution_count": 18,
   "metadata": {},
   "outputs": [
    {
     "name": "stdout",
     "output_type": "stream",
     "text": [
      "True\n",
      "True\n"
     ]
    }
   ],
   "source": [
    "# startwith(\"word\",start, end) =>To check if my string start with a specific char or word(string)\n",
    "i=\"Actually I love Python\"\n",
    "print(i.startswith(\"Actually I\"))\n",
    "# endwith(\"word\",start,end) => To check if string ends with specific char, word, or string\n",
    "print(i.endswith(\"n\"))"
   ]
  },
  {
   "cell_type": "code",
   "execution_count": 24,
   "metadata": {},
   "outputs": [
    {
     "name": "stdout",
     "output_type": "stream",
     "text": [
      "21\n",
      "12\n"
     ]
    }
   ],
   "source": [
    "# index(substring, start, End)  => \n",
    "i=\"Actually I love Python\"\n",
    "print(i.index(\"n\"))\n",
    "print(i.index(\"o\",0,15)) # here I gave start and an end to look in it"
   ]
  },
  {
   "cell_type": "code",
   "execution_count": 25,
   "metadata": {},
   "outputs": [
    {
     "name": "stdout",
     "output_type": "stream",
     "text": [
      "-1\n",
      "11\n"
     ]
    }
   ],
   "source": [
    "# find(substring, start, end) => To find my index or my very first index\n",
    "i=\"Actually I love Python\"\n",
    "print(i.find(\"p\")) # find returns me -1 when it cant find what we are looking for\n",
    "print(i.find(\"love\")) # it gives me the index of my very first index of my substring\n"
   ]
  },
  {
   "cell_type": "code",
   "execution_count": 27,
   "metadata": {},
   "outputs": [
    {
     "name": "stdout",
     "output_type": "stream",
     "text": [
      "#####Bakri\n",
      "Bakri#####\n"
     ]
    }
   ],
   "source": [
    "# rjust(width,Fill char)   ljust() => Look in Run\n",
    "a=\"Bakri\"\n",
    "print(a.rjust(10,\"#\")) \n",
    "print(a.ljust(10,\"#\"))"
   ]
  },
  {
   "cell_type": "code",
   "execution_count": 29,
   "metadata": {},
   "outputs": [
    {
     "name": "stdout",
     "output_type": "stream",
     "text": [
      "['c++', 'python', 'Java', 'R', 'JavaScript']\n",
      "['I', 'Love', 'Programming']\n"
     ]
    }
   ],
   "source": [
    "# splitlines() => it stores all my lines into a list(every line as element)  \n",
    "a='''c++\n",
    "python\n",
    "Java\n",
    "R\n",
    "JavaScript'''\n",
    "print(a.splitlines()) \n",
    "b=\"I\\nLove\\nProgramming\"\n",
    "print(b.splitlines())"
   ]
  },
  {
   "cell_type": "code",
   "execution_count": 5,
   "metadata": {},
   "outputs": [
    {
     "name": "stdout",
     "output_type": "stream",
     "text": [
      "Hallo World I Love  Programming\n"
     ]
    }
   ],
   "source": [
    "#  expandtabs() => I can choose the length of my tab(\\t) with the expandtab\n",
    "x=\"Hallo\\tWorld\\tI\\tLove\\tProgramming\"\n",
    "print(x.expandtabs(2)) "
   ]
  },
  {
   "cell_type": "code",
   "execution_count": 10,
   "metadata": {},
   "outputs": [
    {
     "name": "stdout",
     "output_type": "stream",
     "text": [
      "True\n",
      "True\n",
      "False\n",
      "False\n"
     ]
    }
   ],
   "source": [
    "# one=\"I Love Programming 3G\"\n",
    "# print(one.istitle()) # check if my string is a title \n",
    "# two=\"I Love Programming 3g\"\n",
    "# print(two.istitle())\n",
    "# three=\" \"\n",
    "# four=\"\"\n",
    "# print(three.isspace())# check if my string is a blanck space\n",
    "# print(four.isspace())# check if my string is a blanck space\n",
    "# five=\"i love python\"\n",
    "# six=\"I LOVE PYTHON\"\n",
    "# print(five.islower()) # check if my string is lower\n",
    "# print(six.isupper()) # check if my string is upper\n",
    "seven=\"bakri_Badet\"\n",
    "eight=\"bakriBadet\"\n",
    "nine=\"123Bakri\"\n",
    "ten=\"@Bakri\"\n",
    "print(seven.isidentifier())# it returns True if the string is a valid identifier, otherwise False\n",
    "print(eight.isidentifier())\n",
    "print(nine.isidentifier())\n",
    "print(ten.isidentifier())\n",
    "y=\"Aaaaabmsdba\"\n",
    "z=\"Aaaaabmsdba123\"\n",
    "print(y.isalpha()) # To check if my string is alphabetic\n",
    "print(z.isalnum()) # To check if my string alphabetuc and number\n"
   ]
  },
  {
   "cell_type": "code",
   "execution_count": 12,
   "metadata": {},
   "outputs": [
    {
     "name": "stdout",
     "output_type": "stream",
     "text": [
      "Bakri is one of the smartest person in the entire world\n"
     ]
    }
   ],
   "source": [
    "# replace(oldvalue, newvalue, count) => to replace an old word with a new word\n",
    "a=\"Bakri is one of the poorest person in the entire world\"\n",
    "print(a.replace(\"poorest\",\"smartest\"))"
   ]
  },
  {
   "cell_type": "code",
   "execution_count": 17,
   "metadata": {},
   "outputs": [
    {
     "name": "stdout",
     "output_type": "stream",
     "text": [
      "Bakri Badet loves Programming\n",
      "Bakri,Badet,loves,Programming\n",
      "<class 'str'>\n"
     ]
    }
   ],
   "source": [
    "# \"sep\".join(tuple or list)  => it returns my list or tuple into a string\n",
    "lst=[\"Bakri\",\"Badet\",\"loves\",\"Programming\"]\n",
    "print(\" \".join(lst)) #  I choose firstly my seprator then .join(my list or tuple)\n",
    "print(\",\".join(lst)) #  I choose firstly my seprator then .join(my list or tuple)\n",
    "print(type(\",\".join(lst)))"
   ]
  },
  {
   "cell_type": "code",
   "execution_count": null,
   "metadata": {},
   "outputs": [],
   "source": []
  }
 ],
 "metadata": {
  "kernelspec": {
   "display_name": "Python 3",
   "language": "python",
   "name": "python3"
  },
  "language_info": {
   "codemirror_mode": {
    "name": "ipython",
    "version": 3
   },
   "file_extension": ".py",
   "mimetype": "text/x-python",
   "name": "python",
   "nbconvert_exporter": "python",
   "pygments_lexer": "ipython3",
   "version": "3.12.0"
  }
 },
 "nbformat": 4,
 "nbformat_minor": 2
}
