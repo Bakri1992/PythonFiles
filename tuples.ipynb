{
 "cells": [
  {
   "cell_type": "markdown",
   "metadata": {},
   "source": [
    "##### Tuples:"
   ]
  },
  {
   "cell_type": "markdown",
   "metadata": {},
   "source": [
    "###### [1] Tuple items are enclosed in parentheses\n",
    "###### [2] You can remove the parentheses if you want\n",
    "###### [3] Tuple are ordered, Use index to access Item\n",
    "###### [4] Tuple are Immutable => You can not add or delete od modify\n",
    "###### [5] Tuple Items are not unique (They can be duplicated)\n",
    "###### [6] Tuple can have different Data Types\n",
    "###### [7] Operators used in Strings and Lists avialable in Tuples"
   ]
  },
  {
   "cell_type": "code",
   "execution_count": 14,
   "metadata": {},
   "outputs": [
    {
     "name": "stdout",
     "output_type": "stream",
     "text": [
      "<class 'tuple'>\n",
      "('Bakri', 'Omar', 'Jana')\n",
      "(1, 5, 3)\n",
      "(1, 3, 5, 0, 3, 1, 2, 3, 4, 5)\n",
      "(1, 3, 5, 0, 3, 1, True, -3, 1, 2, 3, 4, 5)\n",
      "5\n"
     ]
    }
   ],
   "source": [
    "mytuble=(\"Bakri\",\"Omar\",\"Jana\")\n",
    "print(type(mytuble))\n",
    "print(mytuble)\n",
    "# Tuple indexing\n",
    "t1=(1,3,5,0,3)\n",
    "t2=(1,2,3,4,5)\n",
    "# Tuple assignment\n",
    "# t1[2]=5  # this will cause me error => Immutable\n",
    "print(t1[0::2])\n",
    "# Tuple concatenation\n",
    "print(t1+t2)\n",
    "print(t1+(1,True,-3)+t2)\n",
    "print(len(t1)) # number of items in my tuple"
   ]
  },
  {
   "cell_type": "code",
   "execution_count": 12,
   "metadata": {},
   "outputs": [
    {
     "name": "stdout",
     "output_type": "stream",
     "text": [
      "<class 'tuple'>\n"
     ]
    }
   ],
   "source": [
    "# Tuple with one Element\n",
    "myTuple1=\"Bakri\", # to difference a string from tuple with one element we put comma after it\n",
    "print(type(myTuple1))"
   ]
  },
  {
   "cell_type": "code",
   "execution_count": 2,
   "metadata": {},
   "outputs": [
    {
     "name": "stdout",
     "output_type": "stream",
     "text": [
      "AmeenAmeen\n",
      "[1, 2, 1, 2]\n",
      "('A', 'B', 'A', 'B')\n"
     ]
    }
   ],
   "source": [
    "# Tuple ,List, String Repeat (*)\n",
    "mystring=\"Ameen\"\n",
    "myList=[1,2]\n",
    "myTuple=(\"A\",\"B\")\n",
    "print(2*mystring)\n",
    "print(2*myList)\n",
    "print(2*myTuple)"
   ]
  },
  {
   "cell_type": "markdown",
   "metadata": {},
   "source": [
    "##### Tuple Method:"
   ]
  },
  {
   "cell_type": "code",
   "execution_count": 18,
   "metadata": {},
   "outputs": [
    {
     "data": {
      "text/plain": [
       "2"
      ]
     },
     "execution_count": 18,
     "metadata": {},
     "output_type": "execute_result"
    }
   ],
   "source": [
    "# count() => count how many times an item repeated\n",
    "t=(1,3,2,1,3,4,5,6)\n",
    "t.count(1)"
   ]
  },
  {
   "cell_type": "code",
   "execution_count": 23,
   "metadata": {},
   "outputs": [
    {
     "name": "stdout",
     "output_type": "stream",
     "text": [
      "0\n",
      "1\n",
      "The Index of Number 3 Is 1\n",
      "The Index of Number 3 Is 1\n"
     ]
    }
   ],
   "source": [
    "# index() => return which first index of a giving element\n",
    "t=(1,3,2,1,3,4,5,6)\n",
    "print(t.index(1)) # first 1 located on index 0\n",
    "print(t.index(3)) # first 3 located on index 1\n",
    "print(\"The Index of Number {:d} Is {:d}\".format(3,t.index(3)))\n",
    "# We can do the formatting another way\n",
    "print(f\"The Index of Number {3} Is {t.index(3)}\")\n",
    "\n"
   ]
  },
  {
   "cell_type": "code",
   "execution_count": 25,
   "metadata": {},
   "outputs": [
    {
     "name": "stdout",
     "output_type": "stream",
     "text": [
      "A\n",
      "B\n",
      "C\n"
     ]
    }
   ],
   "source": [
    "#Tuple Destruct\n",
    "a=(\"A\",\"B\",\"C\")\n",
    "x,y,z=a # This is an example for destruction\n",
    "print(x)\n",
    "print(y)\n",
    "print(z)\n"
   ]
  },
  {
   "cell_type": "code",
   "execution_count": 1,
   "metadata": {},
   "outputs": [
    {
     "name": "stdout",
     "output_type": "stream",
     "text": [
      "A\n",
      "B\n",
      "C\n"
     ]
    }
   ],
   "source": [
    "# Tuple Destruct\n",
    "# What if I want to ignore an item of tuple\n",
    "b=(\"A\",\"B\",4,\"C\")\n",
    "x,y,_,z=b  # Here I ignored the third item of my tuple using the '_' \n",
    "print(x)\n",
    "print(y)\n",
    "print(z)"
   ]
  },
  {
   "cell_type": "code",
   "execution_count": null,
   "metadata": {},
   "outputs": [],
   "source": []
  }
 ],
 "metadata": {
  "kernelspec": {
   "display_name": "Python 3",
   "language": "python",
   "name": "python3"
  },
  "language_info": {
   "codemirror_mode": {
    "name": "ipython",
    "version": 3
   },
   "file_extension": ".py",
   "mimetype": "text/x-python",
   "name": "python",
   "nbconvert_exporter": "python",
   "pygments_lexer": "ipython3",
   "version": "3.12.0"
  }
 },
 "nbformat": 4,
 "nbformat_minor": 2
}
